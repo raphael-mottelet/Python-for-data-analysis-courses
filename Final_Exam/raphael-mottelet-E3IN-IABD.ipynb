{
 "cells": [
  {
   "cell_type": "markdown",
   "metadata": {},
   "source": [
    "# Examen final PADN, étude de cas: ED-tech\n"
   ]
  },
  {
   "cell_type": "markdown",
   "metadata": {},
   "source": [
    "# Enoncé\n",
    "\n",
    "En tant que Data Scientist Freelance vous venez de décrocher une mission avec\n",
    "une plateforme d'éducation en ligne leader sur le marché européen.\n",
    "Ce leader de l'EdTech voit grand, ayant une forte implantation en France et en\n",
    "Europe, les dirigeants souhaitent également se développer sur le territoire\n",
    "américain qui regorge d'opportunités pour la formation en ligne, de par la taille\n",
    "de la population et des besoins liés aux métiers du numérique.\n",
    "L'entreprise souhaite démarrer son implantation aux USA en sélectionnant les\n",
    "territoires géographiques les plus prometteurs afin de lancer des campagnes\n",
    "publicitaires ciblées."
   ]
  },
  {
   "cell_type": "markdown",
   "metadata": {},
   "source": [
    "# Mission\n",
    "\n",
    "Pour cette mission, on vous demande de déterminer la liste des villes prioritaires\n",
    "en vous basant sur des données récoltées par l'administration et disponibles en\n",
    "open-data. Votre objectif est de fournir des résultats impactants afin de guider\n",
    "l’implémentation de cette entreprise EdTech pour la région Amérique du Nord.\n",
    "Pour ce travail, votre client a identifié une source de données intéressante, voir\n",
    "BlackBoard.\n",
    "A vous de compléter l'étude !\n",
    "Pour cela vous devez passer par les étapes suivantes, et enrichir votre travail au\n",
    "maximum possible avec des visualizations:\n",
    "\n",
    "● Exploration de données et de l’existant\n",
    "\n",
    "● Traitement, nettoyage et préparation de données.\n",
    "\n",
    "● Analyse descriptive avec des statistiques (requetes) informatives\n",
    "\n",
    "● Création d’indicateur de choix pertinents et scoring des\n",
    "\n",
    "établissements/villes/états\n",
    "\n",
    "● Formalisation d’une proposition"
   ]
  },
  {
   "cell_type": "markdown",
   "metadata": {},
   "source": [
    "### Code python\n"
   ]
  },
  {
   "cell_type": "markdown",
   "metadata": {},
   "source": [
    "import des packages"
   ]
  },
  {
   "cell_type": "code",
   "execution_count": 4,
   "metadata": {},
   "outputs": [
    {
     "ename": "ModuleNotFoundError",
     "evalue": "No module named 'seaborn'",
     "output_type": "error",
     "traceback": [
      "\u001b[1;31m---------------------------------------------------------------------------\u001b[0m",
      "\u001b[1;31mModuleNotFoundError\u001b[0m                       Traceback (most recent call last)",
      "Cell \u001b[1;32mIn[4], line 2\u001b[0m\n\u001b[0;32m      1\u001b[0m \u001b[38;5;28;01mimport\u001b[39;00m \u001b[38;5;21;01mpandas\u001b[39;00m \u001b[38;5;28;01mas\u001b[39;00m \u001b[38;5;21;01mpd\u001b[39;00m\n\u001b[1;32m----> 2\u001b[0m \u001b[38;5;28;01mimport\u001b[39;00m \u001b[38;5;21;01mseaborn\u001b[39;00m \u001b[38;5;28;01mas\u001b[39;00m \u001b[38;5;21;01msns\u001b[39;00m\n\u001b[0;32m      3\u001b[0m \u001b[38;5;28;01mimport\u001b[39;00m \u001b[38;5;21;01mmatplotlib\u001b[39;00m\u001b[38;5;21;01m.\u001b[39;00m\u001b[38;5;21;01mpyplot\u001b[39;00m \u001b[38;5;28;01mas\u001b[39;00m \u001b[38;5;21;01mplt\u001b[39;00m\n\u001b[0;32m      4\u001b[0m \u001b[38;5;28;01mimport\u001b[39;00m \u001b[38;5;21;01mnumpy\u001b[39;00m \u001b[38;5;28;01mas\u001b[39;00m \u001b[38;5;21;01mnp\u001b[39;00m\n",
      "\u001b[1;31mModuleNotFoundError\u001b[0m: No module named 'seaborn'"
     ]
    }
   ],
   "source": [
    "import pandas as pd\n",
    "import seaborn as sns\n",
    "import matplotlib.pyplot as plt\n",
    "import numpy as np\n",
    "import os as os"
   ]
  },
  {
   "cell_type": "markdown",
   "metadata": {},
   "source": [
    "on crée une variable pour stocker le path et on vérife l'éxistence du fichier"
   ]
  },
  {
   "cell_type": "code",
   "execution_count": null,
   "metadata": {},
   "outputs": [],
   "source": [
    "filepath='/edtech_market_study_usa.csv'\n",
    "\n",
    "if os.path.exists(filepath):\n",
    "    print(\"\\n File found, proceeding to load.\\n\")\n",
    "else:\n",
    "    print(\"File not found, please check the file path.\")\n",
    "    exit()"
   ]
  },
  {
   "cell_type": "markdown",
   "metadata": {},
   "source": [
    "on charge nos données et on affiche un extrait de notre data"
   ]
  },
  {
   "cell_type": "code",
   "execution_count": null,
   "metadata": {},
   "outputs": [
    {
     "ename": "NameError",
     "evalue": "name 'pd' is not defined",
     "output_type": "error",
     "traceback": [
      "\u001b[1;31m---------------------------------------------------------------------------\u001b[0m",
      "\u001b[1;31mNameError\u001b[0m                                 Traceback (most recent call last)",
      "Cell \u001b[1;32mIn[1], line 1\u001b[0m\n\u001b[1;32m----> 1\u001b[0m df \u001b[38;5;241m=\u001b[39m \u001b[43mpd\u001b[49m\u001b[38;5;241m.\u001b[39mread_csv(file_path)\n\u001b[0;32m      2\u001b[0m df\u001b[38;5;241m.\u001b[39mhead()\n\u001b[0;32m      4\u001b[0m \u001b[38;5;66;03m# Affichage des 5 premières lignes de notre data\u001b[39;00m\n",
      "\u001b[1;31mNameError\u001b[0m: name 'pd' is not defined"
     ]
    }
   ],
   "source": [
    "df = pd.read_csv(file_path)\n",
    "df.head()\n",
    "\n",
    "print_value = 5\n",
    "print(f\"{print_value} lignes affichées\")\n",
    "print(df.head(print_value))"
   ]
  },
  {
   "cell_type": "markdown",
   "metadata": {},
   "source": [
    "Vérification de la qualité de nos données, remplissage de certaines valeur"
   ]
  },
  {
   "cell_type": "code",
   "execution_count": 5,
   "metadata": {},
   "outputs": [
    {
     "ename": "NameError",
     "evalue": "name 'df' is not defined",
     "output_type": "error",
     "traceback": [
      "\u001b[1;31m---------------------------------------------------------------------------\u001b[0m",
      "\u001b[1;31mNameError\u001b[0m                                 Traceback (most recent call last)",
      "Cell \u001b[1;32mIn[5], line 3\u001b[0m\n\u001b[0;32m      1\u001b[0m \u001b[38;5;66;03m#---- verifcation des données manquantes de notre fichier CSV ----\u001b[39;00m\n\u001b[1;32m----> 3\u001b[0m \u001b[38;5;28mprint\u001b[39m(\u001b[38;5;124m\"\u001b[39m\u001b[38;5;130;01m\\n\u001b[39;00m\u001b[38;5;124mnombre de valeurs manquantes par colonnes :\u001b[39m\u001b[38;5;130;01m\\n\u001b[39;00m\u001b[38;5;124m\"\u001b[39m, \u001b[43mdf\u001b[49m\u001b[38;5;241m.\u001b[39misnull()\u001b[38;5;241m.\u001b[39msum())\n\u001b[0;32m      4\u001b[0m \u001b[38;5;28mprint\u001b[39m(\u001b[38;5;124m\"\u001b[39m\u001b[38;5;130;01m\\n\u001b[39;00m\u001b[38;5;124mvaleurs manquantes en pourcentage par colonnes :\u001b[39m\u001b[38;5;130;01m\\n\u001b[39;00m\u001b[38;5;124m\"\u001b[39m, df\u001b[38;5;241m.\u001b[39misnull()\u001b[38;5;241m.\u001b[39mmean() \u001b[38;5;241m*\u001b[39m \u001b[38;5;241m100\u001b[39m)\n\u001b[0;32m      6\u001b[0m \u001b[38;5;66;03m# verification puis supression des doublons de notre csv\u001b[39;00m\n",
      "\u001b[1;31mNameError\u001b[0m: name 'df' is not defined"
     ]
    }
   ],
   "source": [
    "\n",
    "print(\"\\nnombre de valeurs manquantes par colonnes :\\n\", df.isnull().sum())\n",
    "print(\"\\nvaleurs manquantes en pourcentage par colonnes :\\n\", df.isnull().mean() * 100)\n",
    "\n",
    "print(\"\\nNombre de doublons avant suppression :\\n\", df.duplicated().sum())\n",
    "df = df.drop_duplicates()\n",
    "print(\"\\nNombre de doublons après suppression :\\n\", df.duplicated().sum())\n",
    "\n",
    "print(df.head(print_value))\n",
    "\n",
    "df['LATITUDE'] = df['LATITUDE'].fillna('None')\n",
    "df['LONGITUDE'] = df['LONGITUDE'].fillna('None')\n",
    "df['A_DISTANCE_SEULEMENT'] = df['A_DISTANCE_SEULEMENT'].fillna('None')"
   ]
  }
 ],
 "metadata": {
  "kernelspec": {
   "display_name": "Python 3",
   "language": "python",
   "name": "python3"
  },
  "language_info": {
   "codemirror_mode": {
    "name": "ipython",
    "version": 3
   },
   "file_extension": ".py",
   "mimetype": "text/x-python",
   "name": "python",
   "nbconvert_exporter": "python",
   "pygments_lexer": "ipython3",
   "version": "3.12.7"
  }
 },
 "nbformat": 4,
 "nbformat_minor": 2
}
