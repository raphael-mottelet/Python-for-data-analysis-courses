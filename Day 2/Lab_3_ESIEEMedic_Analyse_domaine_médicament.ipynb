{
  "nbformat": 4,
  "nbformat_minor": 0,
  "metadata": {
    "kernelspec": {
      "display_name": "Python 3",
      "language": "python",
      "name": "python3"
    },
    "language_info": {
      "codemirror_mode": {
        "name": "ipython",
        "version": 3
      },
      "file_extension": ".py",
      "mimetype": "text/x-python",
      "name": "python",
      "nbconvert_exporter": "python",
      "pygments_lexer": "ipython3",
      "version": "3.7.7"
    },
    "colab": {
      "name": "Lab_3_ESIEEMedic_Analyse_domaine_médicament",
      "provenance": []
    }
  },
  "cells": [
    {
      "cell_type": "markdown",
      "metadata": {
        "id": "CX-u8tX4fbCU"
      },
      "source": [
        "# **Lab_3_ESIEEMedic_Analyse_domaine_médicament** "
      ]
    },
    {
      "cell_type": "code",
      "metadata": {
        "id": "F38CAFqIe-RT"
      },
      "source": [
        "import pandas as pd"
      ],
      "execution_count": 1,
      "outputs": []
    },
    {
      "cell_type": "markdown",
      "metadata": {
        "id": "D4D3-LXFe-RW"
      },
      "source": [
        "## Énoncé\n",
        "Après avoir regardé le dernier reportage d'un magasine d'investigation sur l'industrie pharmaceutique, vous vous posez dorénavant beaucoup de questions. Afin de vous faire votre propre opinion de ce vaste monde vous avez pris l'initiative d'enquêter avec vos compétences en data science. Après un rapide tour d'horizon des données à disposition, vous vous tournez une fois de plus vers l'open data.\n",
        "\n",
        "## Mission\n",
        "L'Agence nationale de sécurité du médicament et la haute autorité de santé mettent à disposition en open data plusieurs fichiers référençant les médicaments disponibles sur le territoire français. Sont disponibles des informations comme la dénomination du médicament, la forme pharmaceutique, le statut de la mise sur le marché, le prix, le taux de remboursement, les substances actives et bien d'autres !\n",
        "\n",
        "Il est donc tant de partir enquêter, **il faut d'abord se familiariser avec les données, nettoyer puis analyser !**"
      ]
    },
    {
      "cell_type": "markdown",
      "metadata": {
        "id": "mfwLAxZXe-RY"
      },
      "source": [
        "# Exercice\n",
        "## Partie 1 - Analyse des mises sur le marché\n",
        "### 1 - Chargement des données\n",
        "Téléchargez le fichier des spécialités `CIS_bdpm.txt` disponible [ici](http://base-donnees-publique.medicaments.gouv.fr/telechargement.php?fichier=CIS_bdpm.txt) puis chargez le à l'aide de Pandas. Stockez le résultat du chargement dans la variable `df_spe`.\n",
        "\n",
        "Comme indiqué dans [la documentation des données](http://base-donnees-publique.medicaments.gouv.fr/docs/Contenu_et_format_des_fichiers_telechargeables_dans_la_BDM_v1.pdf), les colonnes du fichier sont uniquement séparées par des tabulations.\n",
        "\n",
        "Trouvez le paramètre de la fonction `read_csv` adapté :\n",
        "- les colonnes sont séparées par des tabulations\n",
        "- il n'y a pas de header (ligne contenant le nom des colonnes)\n",
        "- l'encodage à utiliser est *iso-8859-1*"
      ]
    },
    {
      "cell_type": "code",
      "metadata": {
        "id": "Lo05-xgxe-RY"
      },
      "source": [
        ""
      ],
      "execution_count": 3,
      "outputs": []
    },
    {
      "cell_type": "markdown",
      "metadata": {
        "id": "3cocDH0ne-RZ"
      },
      "source": [
        "Pouvez-vous afficher les 5 premières lignes du dataframe pour vérifier que les données sont bien chargées ?"
      ]
    },
    {
      "cell_type": "code",
      "metadata": {
        "colab": {
          "base_uri": "https://localhost:8080/",
          "height": 361
        },
        "id": "njMkVDkae-Ra",
        "outputId": "14b3e362-d2fb-4421-fed9-2fecb59bbe76"
      },
      "source": [
        ""
      ],
      "execution_count": 4,
      "outputs": [
        {
          "output_type": "execute_result",
          "data": {
            "text/html": [
              "<div>\n",
              "<style scoped>\n",
              "    .dataframe tbody tr th:only-of-type {\n",
              "        vertical-align: middle;\n",
              "    }\n",
              "\n",
              "    .dataframe tbody tr th {\n",
              "        vertical-align: top;\n",
              "    }\n",
              "\n",
              "    .dataframe thead th {\n",
              "        text-align: right;\n",
              "    }\n",
              "</style>\n",
              "<table border=\"1\" class=\"dataframe\">\n",
              "  <thead>\n",
              "    <tr style=\"text-align: right;\">\n",
              "      <th></th>\n",
              "      <th>0</th>\n",
              "      <th>1</th>\n",
              "      <th>2</th>\n",
              "      <th>3</th>\n",
              "      <th>4</th>\n",
              "      <th>5</th>\n",
              "      <th>6</th>\n",
              "      <th>7</th>\n",
              "      <th>8</th>\n",
              "      <th>9</th>\n",
              "      <th>10</th>\n",
              "      <th>11</th>\n",
              "    </tr>\n",
              "  </thead>\n",
              "  <tbody>\n",
              "    <tr>\n",
              "      <th>0</th>\n",
              "      <td>61266250</td>\n",
              "      <td>A 313 200 000 UI POUR CENT, pommade</td>\n",
              "      <td>pommade</td>\n",
              "      <td>cutanée</td>\n",
              "      <td>Autorisation active</td>\n",
              "      <td>Procédure nationale</td>\n",
              "      <td>Commercialisée</td>\n",
              "      <td>12/03/1998</td>\n",
              "      <td>NaN</td>\n",
              "      <td>NaN</td>\n",
              "      <td>PHARMA DEVELOPPEMENT</td>\n",
              "      <td>Non</td>\n",
              "    </tr>\n",
              "    <tr>\n",
              "      <th>1</th>\n",
              "      <td>62869109</td>\n",
              "      <td>A 313 50 000 U.I., capsule molle</td>\n",
              "      <td>capsule molle</td>\n",
              "      <td>orale</td>\n",
              "      <td>Autorisation active</td>\n",
              "      <td>Procédure nationale</td>\n",
              "      <td>Commercialisée</td>\n",
              "      <td>07/07/1997</td>\n",
              "      <td>NaN</td>\n",
              "      <td>NaN</td>\n",
              "      <td>PHARMA DEVELOPPEMENT</td>\n",
              "      <td>Non</td>\n",
              "    </tr>\n",
              "    <tr>\n",
              "      <th>2</th>\n",
              "      <td>62401060</td>\n",
              "      <td>ABACAVIR MYLAN 300 mg, comprimé pelliculé sécable</td>\n",
              "      <td>comprimé pelliculé sécable</td>\n",
              "      <td>orale</td>\n",
              "      <td>Autorisation active</td>\n",
              "      <td>Procédure décentralisée</td>\n",
              "      <td>Commercialisée</td>\n",
              "      <td>21/02/2018</td>\n",
              "      <td>NaN</td>\n",
              "      <td>NaN</td>\n",
              "      <td>MYLAN SAS</td>\n",
              "      <td>Non</td>\n",
              "    </tr>\n",
              "    <tr>\n",
              "      <th>3</th>\n",
              "      <td>63797011</td>\n",
              "      <td>ABACAVIR SANDOZ 300 mg, comprimé pelliculé séc...</td>\n",
              "      <td>comprimé pelliculé sécable</td>\n",
              "      <td>orale</td>\n",
              "      <td>Autorisation active</td>\n",
              "      <td>Procédure décentralisée</td>\n",
              "      <td>Commercialisée</td>\n",
              "      <td>30/12/2016</td>\n",
              "      <td>NaN</td>\n",
              "      <td>NaN</td>\n",
              "      <td>SANDOZ</td>\n",
              "      <td>Non</td>\n",
              "    </tr>\n",
              "    <tr>\n",
              "      <th>4</th>\n",
              "      <td>62828870</td>\n",
              "      <td>ABACAVIR/LAMIVUDINE ARROW 600 mg/300 mg, compr...</td>\n",
              "      <td>comprimé pelliculé</td>\n",
              "      <td>orale</td>\n",
              "      <td>Autorisation active</td>\n",
              "      <td>Procédure décentralisée</td>\n",
              "      <td>Commercialisée</td>\n",
              "      <td>15/12/2017</td>\n",
              "      <td>NaN</td>\n",
              "      <td>NaN</td>\n",
              "      <td>ARROW GENERIQUES</td>\n",
              "      <td>Non</td>\n",
              "    </tr>\n",
              "  </tbody>\n",
              "</table>\n",
              "</div>"
            ],
            "text/plain": [
              "         0   ...   11\n",
              "0  61266250  ...  Non\n",
              "1  62869109  ...  Non\n",
              "2  62401060  ...  Non\n",
              "3  63797011  ...  Non\n",
              "4  62828870  ...  Non\n",
              "\n",
              "[5 rows x 12 columns]"
            ]
          },
          "metadata": {},
          "execution_count": 4
        }
      ]
    },
    {
      "cell_type": "markdown",
      "metadata": {
        "id": "rAiMnLrOe-Rb"
      },
      "source": [
        "C'est une façon très simple de vérifier que des données sont correctement chargées ! \n",
        "\n",
        "On voit d'ailleurs ici que le nom des colonnes est absent, il faut corriger cela en utilisant le fichier de description des données."
      ]
    },
    {
      "cell_type": "markdown",
      "metadata": {
        "id": "dEd25-Oje-Rc"
      },
      "source": [
        "Remplacez le nom des colonnes par le descriptif suivant :"
      ]
    },
    {
      "cell_type": "code",
      "metadata": {
        "id": "4-EPKUYRe-Rc"
      },
      "source": [
        ""
      ],
      "execution_count": 5,
      "outputs": []
    },
    {
      "cell_type": "code",
      "metadata": {
        "id": "ZTVlqDXLe-Rd"
      },
      "source": [
        ""
      ],
      "execution_count": 6,
      "outputs": []
    },
    {
      "cell_type": "markdown",
      "metadata": {
        "id": "H1eBxWa8e-Rd"
      },
      "source": [
        "Affichez de nouveau les 5 premières lignes."
      ]
    },
    {
      "cell_type": "code",
      "metadata": {
        "colab": {
          "base_uri": "https://localhost:8080/",
          "height": 378
        },
        "id": "UF_S1QLve-Re",
        "outputId": "cdc14fb1-b458-4a1b-82b6-1d11f2b4360c"
      },
      "source": [
        ""
      ],
      "execution_count": 7,
      "outputs": [
        {
          "output_type": "execute_result",
          "data": {
            "text/html": [
              "<div>\n",
              "<style scoped>\n",
              "    .dataframe tbody tr th:only-of-type {\n",
              "        vertical-align: middle;\n",
              "    }\n",
              "\n",
              "    .dataframe tbody tr th {\n",
              "        vertical-align: top;\n",
              "    }\n",
              "\n",
              "    .dataframe thead th {\n",
              "        text-align: right;\n",
              "    }\n",
              "</style>\n",
              "<table border=\"1\" class=\"dataframe\">\n",
              "  <thead>\n",
              "    <tr style=\"text-align: right;\">\n",
              "      <th></th>\n",
              "      <th>Code CIS</th>\n",
              "      <th>Dénomination</th>\n",
              "      <th>Forme Pharmaceutique</th>\n",
              "      <th>Voies Administration</th>\n",
              "      <th>Statut Administratif</th>\n",
              "      <th>Type Procédure</th>\n",
              "      <th>Etat Commercialisation</th>\n",
              "      <th>Date AMM</th>\n",
              "      <th>Statut Bdm</th>\n",
              "      <th>Numéro Autorisation</th>\n",
              "      <th>Titulaires</th>\n",
              "      <th>Surveillance</th>\n",
              "    </tr>\n",
              "  </thead>\n",
              "  <tbody>\n",
              "    <tr>\n",
              "      <th>0</th>\n",
              "      <td>61266250</td>\n",
              "      <td>A 313 200 000 UI POUR CENT, pommade</td>\n",
              "      <td>pommade</td>\n",
              "      <td>cutanée</td>\n",
              "      <td>Autorisation active</td>\n",
              "      <td>Procédure nationale</td>\n",
              "      <td>Commercialisée</td>\n",
              "      <td>12/03/1998</td>\n",
              "      <td>NaN</td>\n",
              "      <td>NaN</td>\n",
              "      <td>PHARMA DEVELOPPEMENT</td>\n",
              "      <td>Non</td>\n",
              "    </tr>\n",
              "    <tr>\n",
              "      <th>1</th>\n",
              "      <td>62869109</td>\n",
              "      <td>A 313 50 000 U.I., capsule molle</td>\n",
              "      <td>capsule molle</td>\n",
              "      <td>orale</td>\n",
              "      <td>Autorisation active</td>\n",
              "      <td>Procédure nationale</td>\n",
              "      <td>Commercialisée</td>\n",
              "      <td>07/07/1997</td>\n",
              "      <td>NaN</td>\n",
              "      <td>NaN</td>\n",
              "      <td>PHARMA DEVELOPPEMENT</td>\n",
              "      <td>Non</td>\n",
              "    </tr>\n",
              "    <tr>\n",
              "      <th>2</th>\n",
              "      <td>62401060</td>\n",
              "      <td>ABACAVIR MYLAN 300 mg, comprimé pelliculé sécable</td>\n",
              "      <td>comprimé pelliculé sécable</td>\n",
              "      <td>orale</td>\n",
              "      <td>Autorisation active</td>\n",
              "      <td>Procédure décentralisée</td>\n",
              "      <td>Commercialisée</td>\n",
              "      <td>21/02/2018</td>\n",
              "      <td>NaN</td>\n",
              "      <td>NaN</td>\n",
              "      <td>MYLAN SAS</td>\n",
              "      <td>Non</td>\n",
              "    </tr>\n",
              "    <tr>\n",
              "      <th>3</th>\n",
              "      <td>63797011</td>\n",
              "      <td>ABACAVIR SANDOZ 300 mg, comprimé pelliculé séc...</td>\n",
              "      <td>comprimé pelliculé sécable</td>\n",
              "      <td>orale</td>\n",
              "      <td>Autorisation active</td>\n",
              "      <td>Procédure décentralisée</td>\n",
              "      <td>Commercialisée</td>\n",
              "      <td>30/12/2016</td>\n",
              "      <td>NaN</td>\n",
              "      <td>NaN</td>\n",
              "      <td>SANDOZ</td>\n",
              "      <td>Non</td>\n",
              "    </tr>\n",
              "    <tr>\n",
              "      <th>4</th>\n",
              "      <td>62828870</td>\n",
              "      <td>ABACAVIR/LAMIVUDINE ARROW 600 mg/300 mg, compr...</td>\n",
              "      <td>comprimé pelliculé</td>\n",
              "      <td>orale</td>\n",
              "      <td>Autorisation active</td>\n",
              "      <td>Procédure décentralisée</td>\n",
              "      <td>Commercialisée</td>\n",
              "      <td>15/12/2017</td>\n",
              "      <td>NaN</td>\n",
              "      <td>NaN</td>\n",
              "      <td>ARROW GENERIQUES</td>\n",
              "      <td>Non</td>\n",
              "    </tr>\n",
              "  </tbody>\n",
              "</table>\n",
              "</div>"
            ],
            "text/plain": [
              "   Code CIS  ... Surveillance\n",
              "0  61266250  ...          Non\n",
              "1  62869109  ...          Non\n",
              "2  62401060  ...          Non\n",
              "3  63797011  ...          Non\n",
              "4  62828870  ...          Non\n",
              "\n",
              "[5 rows x 12 columns]"
            ]
          },
          "metadata": {},
          "execution_count": 7
        }
      ]
    },
    {
      "cell_type": "markdown",
      "metadata": {
        "id": "xUigrV23e-Re"
      },
      "source": [
        "Affichez les 10 premières lignes de la colonne Dénomination à l'aide de la fonction `iloc`."
      ]
    },
    {
      "cell_type": "code",
      "metadata": {
        "colab": {
          "base_uri": "https://localhost:8080/",
          "height": 359
        },
        "id": "y0A9eJwwe-Rf",
        "outputId": "9959cef6-884a-47c5-d2a0-cde416ea0bf9"
      },
      "source": [
        ""
      ],
      "execution_count": 8,
      "outputs": [
        {
          "output_type": "execute_result",
          "data": {
            "text/html": [
              "<div>\n",
              "<style scoped>\n",
              "    .dataframe tbody tr th:only-of-type {\n",
              "        vertical-align: middle;\n",
              "    }\n",
              "\n",
              "    .dataframe tbody tr th {\n",
              "        vertical-align: top;\n",
              "    }\n",
              "\n",
              "    .dataframe thead th {\n",
              "        text-align: right;\n",
              "    }\n",
              "</style>\n",
              "<table border=\"1\" class=\"dataframe\">\n",
              "  <thead>\n",
              "    <tr style=\"text-align: right;\">\n",
              "      <th></th>\n",
              "      <th>Dénomination</th>\n",
              "    </tr>\n",
              "  </thead>\n",
              "  <tbody>\n",
              "    <tr>\n",
              "      <th>0</th>\n",
              "      <td>A 313 200 000 UI POUR CENT, pommade</td>\n",
              "    </tr>\n",
              "    <tr>\n",
              "      <th>1</th>\n",
              "      <td>A 313 50 000 U.I., capsule molle</td>\n",
              "    </tr>\n",
              "    <tr>\n",
              "      <th>2</th>\n",
              "      <td>ABACAVIR MYLAN 300 mg, comprimé pelliculé sécable</td>\n",
              "    </tr>\n",
              "    <tr>\n",
              "      <th>3</th>\n",
              "      <td>ABACAVIR SANDOZ 300 mg, comprimé pelliculé séc...</td>\n",
              "    </tr>\n",
              "    <tr>\n",
              "      <th>4</th>\n",
              "      <td>ABACAVIR/LAMIVUDINE ARROW 600 mg/300 mg, compr...</td>\n",
              "    </tr>\n",
              "    <tr>\n",
              "      <th>5</th>\n",
              "      <td>ABACAVIR/LAMIVUDINE BIOGARAN 600 mg/300 mg, co...</td>\n",
              "    </tr>\n",
              "    <tr>\n",
              "      <th>6</th>\n",
              "      <td>ABACAVIR/LAMIVUDINE EG 600 mg/300 mg, comprimé...</td>\n",
              "    </tr>\n",
              "    <tr>\n",
              "      <th>7</th>\n",
              "      <td>ABACAVIR/LAMIVUDINE MYLAN 600 mg/300 mg, compr...</td>\n",
              "    </tr>\n",
              "    <tr>\n",
              "      <th>8</th>\n",
              "      <td>ABACAVIR/LAMIVUDINE SANDOZ 600 mg/300 mg, comp...</td>\n",
              "    </tr>\n",
              "    <tr>\n",
              "      <th>9</th>\n",
              "      <td>ABACAVIR/LAMIVUDINE TEVA 600 mg/300 mg, compri...</td>\n",
              "    </tr>\n",
              "  </tbody>\n",
              "</table>\n",
              "</div>"
            ],
            "text/plain": [
              "                                        Dénomination\n",
              "0                A 313 200 000 UI POUR CENT, pommade\n",
              "1                   A 313 50 000 U.I., capsule molle\n",
              "2  ABACAVIR MYLAN 300 mg, comprimé pelliculé sécable\n",
              "3  ABACAVIR SANDOZ 300 mg, comprimé pelliculé séc...\n",
              "4  ABACAVIR/LAMIVUDINE ARROW 600 mg/300 mg, compr...\n",
              "5  ABACAVIR/LAMIVUDINE BIOGARAN 600 mg/300 mg, co...\n",
              "6  ABACAVIR/LAMIVUDINE EG 600 mg/300 mg, comprimé...\n",
              "7  ABACAVIR/LAMIVUDINE MYLAN 600 mg/300 mg, compr...\n",
              "8  ABACAVIR/LAMIVUDINE SANDOZ 600 mg/300 mg, comp...\n",
              "9  ABACAVIR/LAMIVUDINE TEVA 600 mg/300 mg, compri..."
            ]
          },
          "metadata": {},
          "execution_count": 8
        }
      ]
    },
    {
      "cell_type": "markdown",
      "metadata": {
        "id": "MC7TJI_Xe-Rf"
      },
      "source": [
        "### 2 - Le dataframe\n",
        "\n",
        "Combien de lignes et colonnes sont contenues dans `df_spe` ?"
      ]
    },
    {
      "cell_type": "code",
      "metadata": {
        "colab": {
          "base_uri": "https://localhost:8080/"
        },
        "id": "S_DYHgHTe-Rf",
        "outputId": "d83bae09-66b4-4950-88bf-c8c5ecc5c8ba"
      },
      "source": [
        ""
      ],
      "execution_count": 9,
      "outputs": [
        {
          "output_type": "execute_result",
          "data": {
            "text/plain": [
              "(15203, 12)"
            ]
          },
          "metadata": {},
          "execution_count": 9
        }
      ]
    },
    {
      "cell_type": "markdown",
      "metadata": {
        "id": "OxVhWJ3Ee-Rg"
      },
      "source": [
        "Maintenant il serait utile d'avoir quelques **info**rmations sur le type de chacune des colonnes."
      ]
    },
    {
      "cell_type": "code",
      "metadata": {
        "colab": {
          "base_uri": "https://localhost:8080/"
        },
        "id": "KnwRHUP1e-Rg",
        "outputId": "46837544-0aff-43a5-a0c8-8baaf0d44437"
      },
      "source": [
        ""
      ],
      "execution_count": 10,
      "outputs": [
        {
          "output_type": "stream",
          "name": "stdout",
          "text": [
            "<class 'pandas.core.frame.DataFrame'>\n",
            "RangeIndex: 15203 entries, 0 to 15202\n",
            "Data columns (total 12 columns):\n",
            " #   Column                  Non-Null Count  Dtype \n",
            "---  ------                  --------------  ----- \n",
            " 0   Code CIS                15203 non-null  int64 \n",
            " 1   Dénomination            15203 non-null  object\n",
            " 2   Forme Pharmaceutique    15203 non-null  object\n",
            " 3   Voies Administration    15203 non-null  object\n",
            " 4   Statut Administratif    15203 non-null  object\n",
            " 5   Type Procédure          15203 non-null  object\n",
            " 6   Etat Commercialisation  15203 non-null  object\n",
            " 7   Date AMM                15203 non-null  object\n",
            " 8   Statut Bdm              1947 non-null   object\n",
            " 9   Numéro Autorisation     1698 non-null   object\n",
            " 10  Titulaires              15203 non-null  object\n",
            " 11  Surveillance            15203 non-null  object\n",
            "dtypes: int64(1), object(11)\n",
            "memory usage: 1.4+ MB\n"
          ]
        }
      ]
    },
    {
      "cell_type": "markdown",
      "metadata": {
        "id": "me5CC5THe-Rg"
      },
      "source": [
        "Il y a presque exclusivement des colonnes de type `object`, elles correspondent à des chaines de caractères. Le jeu de données utilise 1.4 Mo de mémoire RAM (c'est très peu)."
      ]
    },
    {
      "cell_type": "markdown",
      "metadata": {
        "id": "2SN1kR_Ye-Rg"
      },
      "source": [
        "La colonne Date AMM qui est une date, n'est pas bien typée, corrigez cela en utilisant un type `datetime64`."
      ]
    },
    {
      "cell_type": "code",
      "metadata": {
        "id": "649G0ysQe-Rg"
      },
      "source": [
        ""
      ],
      "execution_count": 11,
      "outputs": []
    },
    {
      "cell_type": "markdown",
      "metadata": {
        "id": "52tghHzCe-Rh"
      },
      "source": [
        "### 3 - Qualité des données\n",
        "\n",
        "Quel est le pourcentage de valeurs manquantes par colonne ?"
      ]
    },
    {
      "cell_type": "code",
      "metadata": {
        "colab": {
          "base_uri": "https://localhost:8080/"
        },
        "id": "UKgPcWT8e-Rh",
        "outputId": "6f1a2956-9a7c-41d6-9b2a-43516f49e181"
      },
      "source": [
        ""
      ],
      "execution_count": 12,
      "outputs": [
        {
          "output_type": "execute_result",
          "data": {
            "text/plain": [
              "Code CIS                  0.000000\n",
              "Dénomination              0.000000\n",
              "Forme Pharmaceutique      0.000000\n",
              "Voies Administration      0.000000\n",
              "Statut Administratif      0.000000\n",
              "Type Procédure            0.000000\n",
              "Etat Commercialisation    0.000000\n",
              "Date AMM                  0.000000\n",
              "Statut Bdm                0.871933\n",
              "Numéro Autorisation       0.888312\n",
              "Titulaires                0.000000\n",
              "Surveillance              0.000000\n",
              "dtype: float64"
            ]
          },
          "metadata": {},
          "execution_count": 12
        }
      ]
    },
    {
      "cell_type": "markdown",
      "metadata": {
        "id": "GZMI-z09e-Rh"
      },
      "source": [
        "Remplacez les valeurs manquantes par la valeur `Inconnu`."
      ]
    },
    {
      "cell_type": "code",
      "metadata": {
        "id": "3UN_miSTe-Rh"
      },
      "source": [
        ""
      ],
      "execution_count": 13,
      "outputs": []
    },
    {
      "cell_type": "markdown",
      "metadata": {
        "id": "Zynyxssie-Rh"
      },
      "source": [
        "Existe-t-il des duplicatas ?"
      ]
    },
    {
      "cell_type": "code",
      "metadata": {
        "colab": {
          "base_uri": "https://localhost:8080/"
        },
        "id": "GwDGzoZMe-Ri",
        "outputId": "999c6c22-d6d5-461b-809c-0f2fa1945a57"
      },
      "source": [
        ""
      ],
      "execution_count": 14,
      "outputs": [
        {
          "output_type": "execute_result",
          "data": {
            "text/plain": [
              "0"
            ]
          },
          "metadata": {},
          "execution_count": 14
        }
      ]
    },
    {
      "cell_type": "markdown",
      "metadata": {
        "id": "o1IN915ge-Ri"
      },
      "source": [
        "### 4 - Analyse des données"
      ]
    },
    {
      "cell_type": "markdown",
      "metadata": {
        "id": "iT_IPbdye-Ri"
      },
      "source": [
        "Quel est le nombre de formes pharmaceutiques différentes ?"
      ]
    },
    {
      "cell_type": "code",
      "metadata": {
        "colab": {
          "base_uri": "https://localhost:8080/"
        },
        "id": "oltEhh6Le-Ri",
        "outputId": "bf5f7788-ce01-4e34-863d-4fd674c62a70"
      },
      "source": [
        ""
      ],
      "execution_count": 15,
      "outputs": [
        {
          "output_type": "execute_result",
          "data": {
            "text/plain": [
              "411"
            ]
          },
          "metadata": {},
          "execution_count": 15
        }
      ]
    },
    {
      "cell_type": "markdown",
      "metadata": {
        "id": "5Y8S_O9te-Ri"
      },
      "source": [
        "Quel est le nombre de voies d'administration différentes ?"
      ]
    },
    {
      "cell_type": "code",
      "metadata": {
        "colab": {
          "base_uri": "https://localhost:8080/"
        },
        "id": "owXtTTvTe-Ri",
        "outputId": "7c875017-4d86-4026-d384-039ff90c4fc3"
      },
      "source": [
        ""
      ],
      "execution_count": 16,
      "outputs": [
        {
          "output_type": "execute_result",
          "data": {
            "text/plain": [
              "150"
            ]
          },
          "metadata": {},
          "execution_count": 16
        }
      ]
    },
    {
      "cell_type": "markdown",
      "metadata": {
        "id": "I461srQKe-Rj"
      },
      "source": [
        "Affichez la répartition des statuts administratifs."
      ]
    },
    {
      "cell_type": "code",
      "metadata": {
        "colab": {
          "base_uri": "https://localhost:8080/"
        },
        "id": "OTqzbExae-Rj",
        "outputId": "994c43cf-264e-4a15-9ad8-adc6ce2fdac7"
      },
      "source": [
        ""
      ],
      "execution_count": 18,
      "outputs": [
        {
          "output_type": "execute_result",
          "data": {
            "text/plain": [
              "Autorisation active       14211\n",
              "Autorisation abrogée        782\n",
              "Autorisation archivée       193\n",
              "Autorisation suspendue        9\n",
              "Autorisation retirée          8\n",
              "Name: Statut Administratif, dtype: int64"
            ]
          },
          "metadata": {},
          "execution_count": 18
        }
      ]
    },
    {
      "cell_type": "code",
      "metadata": {
        "colab": {
          "base_uri": "https://localhost:8080/",
          "height": 265
        },
        "id": "uKXEDW4se-Rk",
        "outputId": "abca476c-cf7b-46b2-f4c1-742abaf89754"
      },
      "source": [
        ""
      ],
      "execution_count": 19,
      "outputs": [
        {
          "output_type": "display_data",
          "data": {
            "image/png": "[encoded data removed]",
            "text/plain": [
              "<Figure size 432x288 with 1 Axes>"
            ]
          },
          "metadata": {
            "needs_background": "light"
          }
        }
      ]
    },
    {
      "cell_type": "markdown",
      "metadata": {
        "id": "rh93g_M_e-Rk"
      },
      "source": [
        "### Plus de détails sur le statut des autorisations de mise sur le marché :\n",
        "\n",
        "L’autorisation de mise sur le marché d’un médicament est dite « **archivée** » notamment dans les situations suivantes :\n",
        "\n",
        "- le titulaire n’a pas demandé son renouvellement ;\n",
        "- le médicament n’a jamais été ou n’est plus commercialisé depuis au moins trois ans (sauf exceptions).\n",
        "\n",
        "Cette situation est généralement liée à des raisons commerciales (et non à des problèmes de santé publique) et est définitive. [source](https://solidarites-sante.gouv.fr/soins-et-maladies/medicaments/glossaire/article/autorisation-d-amm-archivee)\n",
        "\n",
        "--------\n",
        "A la demande du titulaire de l’autorisation de mise sur le marché (le plus souvent, un laboratoire pharmaceutique), une AMM peut être supprimée par l’Agence nationale de sécurité du médicament et des produits de santé (ANSM). Elle est dans ce cas dite « **abrogée** ». Cette décision est généralement motivée par le titulaire pour des raisons commerciales (et non liées à des problèmes de santé publique) et est définitive. [source](https://solidarites-sante.gouv.fr/soins-et-maladies/medicaments/glossaire/article/autorisation-d-amm-abrogee)\n",
        "\n",
        "-----------\n",
        "Le retrait d’une autorisation de mise sur le marché d’un médicament est une décision prise par la Commission européenne ou l’ANSM afin de faire cesser définitivement la distribution d’un médicament. Elle est dans ce cas dite « **retirée** ». Cette décision est prise pour des raisons de santé publique, notamment lorsqu’il apparaît que l’évaluation du bénéfice du médicament au regard des risques liés à sa qualité, à sa sécurité ou à son efficacité n’est pas considérée comme favorable. La décision de retrait d’autorisation est définitive. [source](https://solidarites-sante.gouv.fr/soins-et-maladies/medicaments/glossaire/article/autorisation-d-amm-retiree)\n",
        "\n",
        "-----------\n",
        "La suspension d’une autorisation de mise sur le marché est une mesure temporaire, le plus souvent urgente, prise par la Commission européenne ou l’ANSM, afin de faire cesser la mise à disposition d’un médicament, dans l’intérêt des patients. La durée de la suspension ne peut excéder 1 an et peut aboutir à son retrait. Elle est dans ce cas dite « **suspendue** ».\n",
        "\n",
        "En savoir plus : la décision de suspension d’AMM intervient notamment lorsqu’il apparaît que le médicament est nocif dans les conditions normales d’emploi ou que l’effet thérapeutique fait défaut ou que le médicament n’a pas la composition quantitative et qualitative déclarée.\n",
        "\n",
        "La décision de suspension d’une AMM peut être levée ou l’AMM retirée définitivement, selon les données complémentaires alors disponibles. [source](https://solidarites-sante.gouv.fr/soins-et-maladies/medicaments/glossaire/article/autorisation-d-amm-suspendue)\n",
        "\n",
        "---------"
      ]
    },
    {
      "cell_type": "markdown",
      "metadata": {
        "id": "V0y3EnpXe-Rk"
      },
      "source": [
        "Les médicaments potentiellement dangeureux sont donc dans les catégories suivantes : suspendue et retirée. Quels sont les titulaires des médicaments dont l'autorisation est suspendue ou retirée ? (utiliser la fonction `isin`)"
      ]
    },
    {
      "cell_type": "code",
      "metadata": {
        "colab": {
          "base_uri": "https://localhost:8080/"
        },
        "id": "rhfHT1Yce-Rk",
        "outputId": "ad06f5d1-a520-4467-b9ef-7514ba0a8034"
      },
      "source": [
        ""
      ],
      "execution_count": 21,
      "outputs": [
        {
          "output_type": "execute_result",
          "data": {
            "text/plain": [
              " PFIZER HOLDING FRANCE                  2\n",
              " SANOFI AVENTIS FRANCE                  2\n",
              " LES LABORATOIRES SERVIER               2\n",
              " BAYER HEALTHCARE                       2\n",
              " SANDOZ                                 2\n",
              " GE HEALTHCARE                          2\n",
              " CRINEX                                 1\n",
              " LABORATOIRES IPRAD PHARMA              1\n",
              " LABORATOIRES GERDA                     1\n",
              " GEDEON RICHTER                         1\n",
              " EG LABO - LABORATOIRES EUROGENERICS    1\n",
              "Name: Titulaires, dtype: int64"
            ]
          },
          "metadata": {},
          "execution_count": 21
        }
      ]
    },
    {
      "cell_type": "code",
      "metadata": {
        "colab": {
          "base_uri": "https://localhost:8080/",
          "height": 265
        },
        "id": "irOqBQkpe-Rk",
        "outputId": "d2a34217-9f3d-4b75-a833-3afca623166c"
      },
      "source": [
        ""
      ],
      "execution_count": 22,
      "outputs": [
        {
          "output_type": "display_data",
          "data": {
            "image/png": "[encoded data removed]",
            "text/plain": [
              "<Figure size 432x288 with 1 Axes>"
            ]
          },
          "metadata": {
            "needs_background": "light"
          }
        }
      ]
    },
    {
      "cell_type": "markdown",
      "metadata": {
        "id": "5xw5w1-0e-Rl"
      },
      "source": [
        "Affichez la répartition des formes (uniquement pour comprimé, sirop, creme) pour les médicaments suspendus ou retirés."
      ]
    },
    {
      "cell_type": "code",
      "metadata": {
        "colab": {
          "base_uri": "https://localhost:8080/",
          "height": 421
        },
        "id": "ZTe7VBKie-Rl",
        "outputId": "d07b05f6-e4e8-4c01-ea05-0999385b2c6f"
      },
      "source": [
        ""
      ],
      "execution_count": 23,
      "outputs": [
        {
          "output_type": "execute_result",
          "data": {
            "text/html": [
              "<div>\n",
              "<style scoped>\n",
              "    .dataframe tbody tr th:only-of-type {\n",
              "        vertical-align: middle;\n",
              "    }\n",
              "\n",
              "    .dataframe tbody tr th {\n",
              "        vertical-align: top;\n",
              "    }\n",
              "\n",
              "    .dataframe thead th {\n",
              "        text-align: right;\n",
              "    }\n",
              "</style>\n",
              "<table border=\"1\" class=\"dataframe\">\n",
              "  <thead>\n",
              "    <tr style=\"text-align: right;\">\n",
              "      <th>Statut Administratif</th>\n",
              "      <th>Autorisation retirée</th>\n",
              "      <th>Autorisation suspendue</th>\n",
              "    </tr>\n",
              "    <tr>\n",
              "      <th>Forme Pharmaceutique</th>\n",
              "      <th></th>\n",
              "      <th></th>\n",
              "    </tr>\n",
              "  </thead>\n",
              "  <tbody>\n",
              "    <tr>\n",
              "      <th>comprimé</th>\n",
              "      <td>0</td>\n",
              "      <td>2</td>\n",
              "    </tr>\n",
              "    <tr>\n",
              "      <th>comprimé enrobé</th>\n",
              "      <td>2</td>\n",
              "      <td>0</td>\n",
              "    </tr>\n",
              "    <tr>\n",
              "      <th>comprimé pelliculé</th>\n",
              "      <td>0</td>\n",
              "      <td>2</td>\n",
              "    </tr>\n",
              "    <tr>\n",
              "      <th>crème</th>\n",
              "      <td>1</td>\n",
              "      <td>0</td>\n",
              "    </tr>\n",
              "    <tr>\n",
              "      <th>granulés</th>\n",
              "      <td>1</td>\n",
              "      <td>0</td>\n",
              "    </tr>\n",
              "    <tr>\n",
              "      <th>pommade</th>\n",
              "      <td>1</td>\n",
              "      <td>0</td>\n",
              "    </tr>\n",
              "    <tr>\n",
              "      <th>sirop</th>\n",
              "      <td>1</td>\n",
              "      <td>0</td>\n",
              "    </tr>\n",
              "    <tr>\n",
              "      <th>solution buvable</th>\n",
              "      <td>1</td>\n",
              "      <td>0</td>\n",
              "    </tr>\n",
              "    <tr>\n",
              "      <th>solution injectable</th>\n",
              "      <td>0</td>\n",
              "      <td>4</td>\n",
              "    </tr>\n",
              "    <tr>\n",
              "      <th>solution pour perfusion</th>\n",
              "      <td>0</td>\n",
              "      <td>1</td>\n",
              "    </tr>\n",
              "    <tr>\n",
              "      <th>suppositoire</th>\n",
              "      <td>1</td>\n",
              "      <td>0</td>\n",
              "    </tr>\n",
              "  </tbody>\n",
              "</table>\n",
              "</div>"
            ],
            "text/plain": [
              "Statut Administratif     Autorisation retirée  Autorisation suspendue\n",
              "Forme Pharmaceutique                                                 \n",
              "comprimé                                    0                       2\n",
              "comprimé enrobé                             2                       0\n",
              "comprimé pelliculé                          0                       2\n",
              "crème                                       1                       0\n",
              "granulés                                    1                       0\n",
              "pommade                                     1                       0\n",
              "sirop                                       1                       0\n",
              "solution buvable                            1                       0\n",
              "solution injectable                         0                       4\n",
              "solution pour perfusion                     0                       1\n",
              "suppositoire                                1                       0"
            ]
          },
          "metadata": {},
          "execution_count": 23
        }
      ]
    },
    {
      "cell_type": "markdown",
      "metadata": {
        "id": "EXi2zmAZe-Rl"
      },
      "source": [
        "Quels sont les 10 titulaires disposant du plus grand nombre de médicaments dont l'autorisation est active."
      ]
    },
    {
      "cell_type": "code",
      "metadata": {
        "colab": {
          "base_uri": "https://localhost:8080/"
        },
        "id": "Y5KtoFCte-Rl",
        "outputId": "41e97b2e-eda0-4809-fca4-ad786fa9d318"
      },
      "source": [
        ""
      ],
      "execution_count": 24,
      "outputs": [
        {
          "output_type": "execute_result",
          "data": {
            "text/plain": [
              " MYLAN SAS                              858\n",
              " ARROW GENERIQUES                       691\n",
              " BIOGARAN                               666\n",
              " EG LABO - LABORATOIRES EUROGENERICS    574\n",
              " BOIRON                                 564\n",
              " SANDOZ                                 560\n",
              " TEVA SANTE                             536\n",
              " ZENTIVA FRANCE                         430\n",
              " SANOFI AVENTIS FRANCE                  388\n",
              " LEHNING                                357\n",
              "Name: Titulaires, dtype: int64"
            ]
          },
          "metadata": {},
          "execution_count": 24
        }
      ]
    },
    {
      "cell_type": "markdown",
      "metadata": {
        "id": "2rvWl1uIe-Rl"
      },
      "source": [
        "On aimerait maintenant avoir une vue d'ensemble sur les statuts administratifs pour les plus grands fabricants. Affichez la répartition des statuts administratifs pour tous les médicaments des titulaires du top10."
      ]
    },
    {
      "cell_type": "code",
      "metadata": {
        "colab": {
          "base_uri": "https://localhost:8080/",
          "height": 425
        },
        "id": "ehkk_eJ1e-Rm",
        "outputId": "e88d9cbc-900f-4aeb-8e71-8c175a158e20"
      },
      "source": [
        ""
      ],
      "execution_count": 25,
      "outputs": [
        {
          "output_type": "execute_result",
          "data": {
            "text/html": [
              "<div>\n",
              "<style scoped>\n",
              "    .dataframe tbody tr th:only-of-type {\n",
              "        vertical-align: middle;\n",
              "    }\n",
              "\n",
              "    .dataframe tbody tr th {\n",
              "        vertical-align: top;\n",
              "    }\n",
              "\n",
              "    .dataframe thead th {\n",
              "        text-align: right;\n",
              "    }\n",
              "</style>\n",
              "<table border=\"1\" class=\"dataframe\">\n",
              "  <thead>\n",
              "    <tr style=\"text-align: right;\">\n",
              "      <th>Statut Administratif</th>\n",
              "      <th>Autorisation abrogée</th>\n",
              "      <th>Autorisation active</th>\n",
              "      <th>Autorisation archivée</th>\n",
              "      <th>Autorisation retirée</th>\n",
              "      <th>Autorisation suspendue</th>\n",
              "    </tr>\n",
              "    <tr>\n",
              "      <th>Titulaires</th>\n",
              "      <th></th>\n",
              "      <th></th>\n",
              "      <th></th>\n",
              "      <th></th>\n",
              "      <th></th>\n",
              "    </tr>\n",
              "  </thead>\n",
              "  <tbody>\n",
              "    <tr>\n",
              "      <th>ARROW GENERIQUES</th>\n",
              "      <td>38</td>\n",
              "      <td>691</td>\n",
              "      <td>16</td>\n",
              "      <td>0</td>\n",
              "      <td>0</td>\n",
              "    </tr>\n",
              "    <tr>\n",
              "      <th>BIOGARAN</th>\n",
              "      <td>0</td>\n",
              "      <td>666</td>\n",
              "      <td>19</td>\n",
              "      <td>0</td>\n",
              "      <td>0</td>\n",
              "    </tr>\n",
              "    <tr>\n",
              "      <th>BOIRON</th>\n",
              "      <td>0</td>\n",
              "      <td>564</td>\n",
              "      <td>4</td>\n",
              "      <td>0</td>\n",
              "      <td>0</td>\n",
              "    </tr>\n",
              "    <tr>\n",
              "      <th>EG LABO - LABORATOIRES EUROGENERICS</th>\n",
              "      <td>30</td>\n",
              "      <td>574</td>\n",
              "      <td>0</td>\n",
              "      <td>0</td>\n",
              "      <td>1</td>\n",
              "    </tr>\n",
              "    <tr>\n",
              "      <th>LEHNING</th>\n",
              "      <td>4</td>\n",
              "      <td>357</td>\n",
              "      <td>0</td>\n",
              "      <td>0</td>\n",
              "      <td>0</td>\n",
              "    </tr>\n",
              "    <tr>\n",
              "      <th>MYLAN SAS</th>\n",
              "      <td>44</td>\n",
              "      <td>858</td>\n",
              "      <td>5</td>\n",
              "      <td>0</td>\n",
              "      <td>0</td>\n",
              "    </tr>\n",
              "    <tr>\n",
              "      <th>SANDOZ</th>\n",
              "      <td>17</td>\n",
              "      <td>560</td>\n",
              "      <td>2</td>\n",
              "      <td>0</td>\n",
              "      <td>2</td>\n",
              "    </tr>\n",
              "    <tr>\n",
              "      <th>SANOFI AVENTIS FRANCE</th>\n",
              "      <td>25</td>\n",
              "      <td>388</td>\n",
              "      <td>3</td>\n",
              "      <td>2</td>\n",
              "      <td>0</td>\n",
              "    </tr>\n",
              "    <tr>\n",
              "      <th>TEVA SANTE</th>\n",
              "      <td>113</td>\n",
              "      <td>536</td>\n",
              "      <td>6</td>\n",
              "      <td>0</td>\n",
              "      <td>0</td>\n",
              "    </tr>\n",
              "    <tr>\n",
              "      <th>ZENTIVA FRANCE</th>\n",
              "      <td>7</td>\n",
              "      <td>430</td>\n",
              "      <td>6</td>\n",
              "      <td>0</td>\n",
              "      <td>0</td>\n",
              "    </tr>\n",
              "  </tbody>\n",
              "</table>\n",
              "</div>"
            ],
            "text/plain": [
              "Statut Administratif                  Autorisation abrogée  ...  Autorisation suspendue\n",
              "Titulaires                                                  ...                        \n",
              " ARROW GENERIQUES                                       38  ...                       0\n",
              " BIOGARAN                                                0  ...                       0\n",
              " BOIRON                                                  0  ...                       0\n",
              " EG LABO - LABORATOIRES EUROGENERICS                    30  ...                       1\n",
              " LEHNING                                                 4  ...                       0\n",
              " MYLAN SAS                                              44  ...                       0\n",
              " SANDOZ                                                 17  ...                       2\n",
              " SANOFI AVENTIS FRANCE                                  25  ...                       0\n",
              " TEVA SANTE                                            113  ...                       0\n",
              " ZENTIVA FRANCE                                          7  ...                       0\n",
              "\n",
              "[10 rows x 5 columns]"
            ]
          },
          "metadata": {},
          "execution_count": 25
        }
      ]
    },
    {
      "cell_type": "markdown",
      "metadata": {
        "id": "_74IUWVQe-Rm"
      },
      "source": [
        "Implémentez une fonction permettant de rechercher des médicaments par un mot clé présent dans la dénomination."
      ]
    },
    {
      "cell_type": "code",
      "metadata": {
        "id": "XeN3w7BVe-Rm"
      },
      "source": [
        ""
      ],
      "execution_count": 26,
      "outputs": []
    },
    {
      "cell_type": "markdown",
      "metadata": {
        "id": "2IbuIKW5e-Rm"
      },
      "source": [
        "Utilisez la fonction pour chercher du paracetamol."
      ]
    },
    {
      "cell_type": "code",
      "metadata": {
        "colab": {
          "base_uri": "https://localhost:8080/",
          "height": 798
        },
        "id": "7I9hUQ84e-Rm",
        "outputId": "e38517bb-adf6-4dd5-df28-2836a03427af"
      },
      "source": [
        ""
      ],
      "execution_count": 27,
      "outputs": [
        {
          "output_type": "execute_result",
          "data": {
            "text/html": [
              "<div>\n",
              "<style scoped>\n",
              "    .dataframe tbody tr th:only-of-type {\n",
              "        vertical-align: middle;\n",
              "    }\n",
              "\n",
              "    .dataframe tbody tr th {\n",
              "        vertical-align: top;\n",
              "    }\n",
              "\n",
              "    .dataframe thead th {\n",
              "        text-align: right;\n",
              "    }\n",
              "</style>\n",
              "<table border=\"1\" class=\"dataframe\">\n",
              "  <thead>\n",
              "    <tr style=\"text-align: right;\">\n",
              "      <th></th>\n",
              "      <th>Code CIS</th>\n",
              "      <th>Dénomination</th>\n",
              "      <th>Forme Pharmaceutique</th>\n",
              "      <th>Voies Administration</th>\n",
              "      <th>Statut Administratif</th>\n",
              "      <th>Type Procédure</th>\n",
              "      <th>Etat Commercialisation</th>\n",
              "      <th>Date AMM</th>\n",
              "      <th>Statut Bdm</th>\n",
              "      <th>Numéro Autorisation</th>\n",
              "      <th>Titulaires</th>\n",
              "      <th>Surveillance</th>\n",
              "    </tr>\n",
              "  </thead>\n",
              "  <tbody>\n",
              "    <tr>\n",
              "      <th>3390</th>\n",
              "      <td>60475749</td>\n",
              "      <td>CLARIX ETAT GRIPPAL PARACETAMOL CHLORPHENAMINE...</td>\n",
              "      <td>poudre pour solution buvable</td>\n",
              "      <td>orale</td>\n",
              "      <td>Autorisation active</td>\n",
              "      <td>Procédure nationale</td>\n",
              "      <td>Non commercialisée</td>\n",
              "      <td>2014-03-30</td>\n",
              "      <td>Warning disponibilité</td>\n",
              "      <td>Inconnu</td>\n",
              "      <td>COOPER</td>\n",
              "      <td>Non</td>\n",
              "    </tr>\n",
              "    <tr>\n",
              "      <th>3599</th>\n",
              "      <td>61293112</td>\n",
              "      <td>COQUELUSEDAL PARACETAMOL 100 mg, suppositoire</td>\n",
              "      <td>suppositoire</td>\n",
              "      <td>rectale</td>\n",
              "      <td>Autorisation active</td>\n",
              "      <td>Procédure nationale</td>\n",
              "      <td>Commercialisée</td>\n",
              "      <td>2006-12-04</td>\n",
              "      <td>Inconnu</td>\n",
              "      <td>Inconnu</td>\n",
              "      <td>ELERTE</td>\n",
              "      <td>Non</td>\n",
              "    </tr>\n",
              "    <tr>\n",
              "      <th>3600</th>\n",
              "      <td>63208057</td>\n",
              "      <td>COQUELUSEDAL PARACETAMOL 250 mg, suppositoire</td>\n",
              "      <td>suppositoire</td>\n",
              "      <td>rectale</td>\n",
              "      <td>Autorisation active</td>\n",
              "      <td>Procédure nationale</td>\n",
              "      <td>Commercialisée</td>\n",
              "      <td>2009-07-15</td>\n",
              "      <td>Inconnu</td>\n",
              "      <td>Inconnu</td>\n",
              "      <td>ELERTE</td>\n",
              "      <td>Non</td>\n",
              "    </tr>\n",
              "    <tr>\n",
              "      <th>3601</th>\n",
              "      <td>64380679</td>\n",
              "      <td>COQUELUSEDAL PARACETAMOL 500 mg, suppositoire</td>\n",
              "      <td>suppositoire</td>\n",
              "      <td>rectale</td>\n",
              "      <td>Autorisation active</td>\n",
              "      <td>Procédure nationale</td>\n",
              "      <td>Commercialisée</td>\n",
              "      <td>1995-12-12</td>\n",
              "      <td>Inconnu</td>\n",
              "      <td>Inconnu</td>\n",
              "      <td>ELERTE</td>\n",
              "      <td>Non</td>\n",
              "    </tr>\n",
              "    <tr>\n",
              "      <th>4324</th>\n",
              "      <td>69742445</td>\n",
              "      <td>DOLI ETAT GRIPPAL PARACETAMOL/VITAMINE C/PHENI...</td>\n",
              "      <td>poudre pour solution buvable</td>\n",
              "      <td>orale</td>\n",
              "      <td>Autorisation active</td>\n",
              "      <td>Procédure nationale</td>\n",
              "      <td>Non commercialisée</td>\n",
              "      <td>2014-02-05</td>\n",
              "      <td>Warning disponibilité</td>\n",
              "      <td>Inconnu</td>\n",
              "      <td>SANOFI AVENTIS FRANCE</td>\n",
              "      <td>Non</td>\n",
              "    </tr>\n",
              "    <tr>\n",
              "      <th>...</th>\n",
              "      <td>...</td>\n",
              "      <td>...</td>\n",
              "      <td>...</td>\n",
              "      <td>...</td>\n",
              "      <td>...</td>\n",
              "      <td>...</td>\n",
              "      <td>...</td>\n",
              "      <td>...</td>\n",
              "      <td>...</td>\n",
              "      <td>...</td>\n",
              "      <td>...</td>\n",
              "      <td>...</td>\n",
              "    </tr>\n",
              "    <tr>\n",
              "      <th>13976</th>\n",
              "      <td>69925400</td>\n",
              "      <td>TRAMADOL/PARACETAMOL SANDOZ 37,5 mg/325 mg, co...</td>\n",
              "      <td>comprimé pelliculé</td>\n",
              "      <td>orale</td>\n",
              "      <td>Autorisation active</td>\n",
              "      <td>Procédure décentralisée</td>\n",
              "      <td>Commercialisée</td>\n",
              "      <td>2012-04-20</td>\n",
              "      <td>Inconnu</td>\n",
              "      <td>Inconnu</td>\n",
              "      <td>LABORATOIRES GRUNENTHAL</td>\n",
              "      <td>Non</td>\n",
              "    </tr>\n",
              "    <tr>\n",
              "      <th>13977</th>\n",
              "      <td>68322100</td>\n",
              "      <td>TRAMADOL/PARACETAMOL TEVA 37.5 mg/325 mg, comp...</td>\n",
              "      <td>comprimé pelliculé</td>\n",
              "      <td>orale</td>\n",
              "      <td>Autorisation active</td>\n",
              "      <td>Procédure décentralisée</td>\n",
              "      <td>Commercialisée</td>\n",
              "      <td>2013-02-15</td>\n",
              "      <td>Inconnu</td>\n",
              "      <td>Inconnu</td>\n",
              "      <td>TEVA SANTE</td>\n",
              "      <td>Non</td>\n",
              "    </tr>\n",
              "    <tr>\n",
              "      <th>13978</th>\n",
              "      <td>61227411</td>\n",
              "      <td>TRAMADOL/PARACETAMOL VENIPHARM 37,5 mg/325 mg,...</td>\n",
              "      <td>comprimé pelliculé</td>\n",
              "      <td>orale</td>\n",
              "      <td>Autorisation abrogée</td>\n",
              "      <td>Procédure nationale</td>\n",
              "      <td>Non commercialisée</td>\n",
              "      <td>2012-12-11</td>\n",
              "      <td>Warning disponibilité</td>\n",
              "      <td>Inconnu</td>\n",
              "      <td>VENIPHARM</td>\n",
              "      <td>Non</td>\n",
              "    </tr>\n",
              "    <tr>\n",
              "      <th>13979</th>\n",
              "      <td>63561242</td>\n",
              "      <td>TRAMADOL/PARACETAMOL ZENTIVA 37,5 mg/325 mg, c...</td>\n",
              "      <td>comprimé pelliculé</td>\n",
              "      <td>orale</td>\n",
              "      <td>Autorisation active</td>\n",
              "      <td>Procédure décentralisée</td>\n",
              "      <td>Commercialisée</td>\n",
              "      <td>2012-04-20</td>\n",
              "      <td>Inconnu</td>\n",
              "      <td>Inconnu</td>\n",
              "      <td>LABORATOIRES GRUNENTHAL</td>\n",
              "      <td>Non</td>\n",
              "    </tr>\n",
              "    <tr>\n",
              "      <th>13980</th>\n",
              "      <td>67594656</td>\n",
              "      <td>TRAMADOL/PARACETAMOL ZYDUS 37,5 mg/325 mg, com...</td>\n",
              "      <td>comprimé pelliculé</td>\n",
              "      <td>orale</td>\n",
              "      <td>Autorisation active</td>\n",
              "      <td>Procédure nationale</td>\n",
              "      <td>Commercialisée</td>\n",
              "      <td>2013-07-22</td>\n",
              "      <td>Inconnu</td>\n",
              "      <td>Inconnu</td>\n",
              "      <td>ZYDUS FRANCE</td>\n",
              "      <td>Non</td>\n",
              "    </tr>\n",
              "  </tbody>\n",
              "</table>\n",
              "<p>120 rows × 12 columns</p>\n",
              "</div>"
            ],
            "text/plain": [
              "       Code CIS  ... Surveillance\n",
              "3390   60475749  ...          Non\n",
              "3599   61293112  ...          Non\n",
              "3600   63208057  ...          Non\n",
              "3601   64380679  ...          Non\n",
              "4324   69742445  ...          Non\n",
              "...         ...  ...          ...\n",
              "13976  69925400  ...          Non\n",
              "13977  68322100  ...          Non\n",
              "13978  61227411  ...          Non\n",
              "13979  63561242  ...          Non\n",
              "13980  67594656  ...          Non\n",
              "\n",
              "[120 rows x 12 columns]"
            ]
          },
          "metadata": {},
          "execution_count": 27
        }
      ]
    },
    {
      "cell_type": "markdown",
      "metadata": {
        "id": "rnZxPRvve-Rm"
      },
      "source": [
        "-----------\n",
        "\n",
        "## Partie 2 - Analyse des prix\n",
        "### 1 - Chargement des données\n",
        "\n",
        "Téléchargez le fichier des présentations `CIS_CIP_bdpm.txt` disponible [ici](http://base-donnees-publique.medicaments.gouv.fr/telechargement.php?fichier=CIS_CIP_bdpm.txt) puis chargez le à l'aide de Pandas. Stockez le résultat du chargement dans la variable `df_pres`.\n",
        "\n",
        "Comme indiqué dans [la documentation des données](http://base-donnees-publique.medicaments.gouv.fr/docs/Contenu_et_format_des_fichiers_telechargeables_dans_la_BDM_v1.pdf), les colonnes du fichier sont uniquement séparées par des tabulations.\n",
        "\n",
        "**Petit coup de pouce pour démarrer**, pour chacune des conditions suivantes, trouvez le paramètre de la fonction `read_csv` adapté :\n",
        "- les colonnes sont séparées par des tabulations\n",
        "- il n'y a pas de header (ligne contenant le nom des colonnes)\n",
        "- l'encodage à utiliser est *iso-8859-1*"
      ]
    },
    {
      "cell_type": "code",
      "metadata": {
        "id": "2rH5mdTVe-Rn"
      },
      "source": [
        ""
      ],
      "execution_count": 28,
      "outputs": []
    },
    {
      "cell_type": "code",
      "metadata": {
        "colab": {
          "base_uri": "https://localhost:8080/",
          "height": 426
        },
        "id": "TH408CIYe-Rn",
        "outputId": "995b519d-41fb-4a30-c147-dde6d5786800"
      },
      "source": [
        ""
      ],
      "execution_count": 29,
      "outputs": [
        {
          "output_type": "execute_result",
          "data": {
            "text/html": [
              "<div>\n",
              "<style scoped>\n",
              "    .dataframe tbody tr th:only-of-type {\n",
              "        vertical-align: middle;\n",
              "    }\n",
              "\n",
              "    .dataframe tbody tr th {\n",
              "        vertical-align: top;\n",
              "    }\n",
              "\n",
              "    .dataframe thead th {\n",
              "        text-align: right;\n",
              "    }\n",
              "</style>\n",
              "<table border=\"1\" class=\"dataframe\">\n",
              "  <thead>\n",
              "    <tr style=\"text-align: right;\">\n",
              "      <th></th>\n",
              "      <th>0</th>\n",
              "      <th>1</th>\n",
              "      <th>2</th>\n",
              "      <th>3</th>\n",
              "      <th>4</th>\n",
              "      <th>5</th>\n",
              "      <th>6</th>\n",
              "      <th>7</th>\n",
              "      <th>8</th>\n",
              "      <th>9</th>\n",
              "      <th>10</th>\n",
              "      <th>11</th>\n",
              "      <th>12</th>\n",
              "    </tr>\n",
              "  </thead>\n",
              "  <tbody>\n",
              "    <tr>\n",
              "      <th>0</th>\n",
              "      <td>60002283</td>\n",
              "      <td>4949729</td>\n",
              "      <td>plaquette(s) PVC PVDC aluminium de 30 comprimé(s)</td>\n",
              "      <td>Présentation active</td>\n",
              "      <td>Déclaration de commercialisation</td>\n",
              "      <td>16/03/2011</td>\n",
              "      <td>3400949497294</td>\n",
              "      <td>oui</td>\n",
              "      <td>100%</td>\n",
              "      <td>30,52</td>\n",
              "      <td>31,54</td>\n",
              "      <td>1,02</td>\n",
              "      <td>NaN</td>\n",
              "    </tr>\n",
              "    <tr>\n",
              "      <th>1</th>\n",
              "      <td>60002283</td>\n",
              "      <td>4949770</td>\n",
              "      <td>plaquette(s) PVC PVDC aluminium de 90 comprimé(s)</td>\n",
              "      <td>Présentation active</td>\n",
              "      <td>Déclaration de commercialisation</td>\n",
              "      <td>19/09/2011</td>\n",
              "      <td>3400949497706</td>\n",
              "      <td>oui</td>\n",
              "      <td>100%</td>\n",
              "      <td>86,20</td>\n",
              "      <td>87,22</td>\n",
              "      <td>1,02</td>\n",
              "      <td>NaN</td>\n",
              "    </tr>\n",
              "    <tr>\n",
              "      <th>2</th>\n",
              "      <td>60002504</td>\n",
              "      <td>3320863</td>\n",
              "      <td>tube(s) polypropylène de 30 comprimé(s)</td>\n",
              "      <td>Présentation active</td>\n",
              "      <td>Déclaration de commercialisation</td>\n",
              "      <td>03/12/2003</td>\n",
              "      <td>3400933208639</td>\n",
              "      <td>oui</td>\n",
              "      <td>15%</td>\n",
              "      <td>7,20</td>\n",
              "      <td>8,22</td>\n",
              "      <td>1,02</td>\n",
              "      <td>NaN</td>\n",
              "    </tr>\n",
              "    <tr>\n",
              "      <th>3</th>\n",
              "      <td>60003620</td>\n",
              "      <td>3696350</td>\n",
              "      <td>20 récipient(s) unidose(s) polyéthylène de 2 m...</td>\n",
              "      <td>Présentation active</td>\n",
              "      <td>Déclaration de commercialisation</td>\n",
              "      <td>30/11/2006</td>\n",
              "      <td>3400936963504</td>\n",
              "      <td>oui</td>\n",
              "      <td>65%</td>\n",
              "      <td>27,60</td>\n",
              "      <td>28,62</td>\n",
              "      <td>1,02</td>\n",
              "      <td>Ce médicament peut être pris en charge ou remb...</td>\n",
              "    </tr>\n",
              "    <tr>\n",
              "      <th>4</th>\n",
              "      <td>60004277</td>\n",
              "      <td>3614582</td>\n",
              "      <td>plaquette(s) thermoformée(s) PVC aluminium de ...</td>\n",
              "      <td>Présentation active</td>\n",
              "      <td>Déclaration de commercialisation</td>\n",
              "      <td>11/06/2003</td>\n",
              "      <td>3400936145825</td>\n",
              "      <td>oui</td>\n",
              "      <td>65%</td>\n",
              "      <td>1,54</td>\n",
              "      <td>2,56</td>\n",
              "      <td>1,02</td>\n",
              "      <td>NaN</td>\n",
              "    </tr>\n",
              "  </tbody>\n",
              "</table>\n",
              "</div>"
            ],
            "text/plain": [
              "         0        1   ...    11                                                 12\n",
              "0  60002283  4949729  ...  1,02                                                NaN\n",
              "1  60002283  4949770  ...  1,02                                                NaN\n",
              "2  60002504  3320863  ...  1,02                                                NaN\n",
              "3  60003620  3696350  ...  1,02  Ce médicament peut être pris en charge ou remb...\n",
              "4  60004277  3614582  ...  1,02                                                NaN\n",
              "\n",
              "[5 rows x 13 columns]"
            ]
          },
          "metadata": {},
          "execution_count": 29
        }
      ]
    },
    {
      "cell_type": "markdown",
      "metadata": {
        "id": "FpGA7GwZe-Rn"
      },
      "source": [
        "Remplacez le nom des colonnes par le descriptif suivant :"
      ]
    },
    {
      "cell_type": "code",
      "metadata": {
        "id": "cgjzW2TGe-Rn"
      },
      "source": [
        ""
      ],
      "execution_count": 31,
      "outputs": []
    },
    {
      "cell_type": "code",
      "metadata": {
        "id": "FYPBZtX0e-Rn"
      },
      "source": [
        ""
      ],
      "execution_count": 32,
      "outputs": []
    },
    {
      "cell_type": "markdown",
      "metadata": {
        "id": "Qm8AHAKue-Rn"
      },
      "source": [
        "Supprimez les colonnes suivantes ['Code CIP7', 'Code CIP13', 'Prix honoraire compris', 'Honoraire de dispensation']. On décide de supprimer la partie honoraire de dispensation car elle ne concerne pas le fabricant, mais la distribution par la pharmacie. [source](https://sante-pratique-paris.fr/a-savoir/comprendre-les-honoraires-de-dispensation-des-pharmaciens/)"
      ]
    },
    {
      "cell_type": "code",
      "metadata": {
        "id": "vw6BHwDje-Rn"
      },
      "source": [
        ""
      ],
      "execution_count": 33,
      "outputs": []
    },
    {
      "cell_type": "markdown",
      "metadata": {
        "id": "lu9v5KsLe-Ro"
      },
      "source": [
        "### 2 - Le dataframe\n",
        "\n",
        "Combien de lignes et colonnes sont contenues dans `df_pres` ?"
      ]
    },
    {
      "cell_type": "code",
      "metadata": {
        "colab": {
          "base_uri": "https://localhost:8080/"
        },
        "id": "o2nyinySe-Ro",
        "outputId": "0211b319-a712-4a18-eb58-409b33fd6527"
      },
      "source": [
        ""
      ],
      "execution_count": 34,
      "outputs": [
        {
          "output_type": "execute_result",
          "data": {
            "text/plain": [
              "(20489, 9)"
            ]
          },
          "metadata": {},
          "execution_count": 34
        }
      ]
    },
    {
      "cell_type": "markdown",
      "metadata": {
        "id": "N6jqJFkpe-Ro"
      },
      "source": [
        "Maintenant il serait utile d'avoir quelques **info**rmations sur le type de chacune des colonnes."
      ]
    },
    {
      "cell_type": "code",
      "metadata": {
        "colab": {
          "base_uri": "https://localhost:8080/"
        },
        "id": "1IiMVwKfe-Ro",
        "outputId": "ea1e5067-3226-42c3-9869-f64d93e3aad5"
      },
      "source": [
        ""
      ],
      "execution_count": 35,
      "outputs": [
        {
          "output_type": "stream",
          "name": "stdout",
          "text": [
            "<class 'pandas.core.frame.DataFrame'>\n",
            "RangeIndex: 20489 entries, 0 to 20488\n",
            "Data columns (total 9 columns):\n",
            " #   Column                  Non-Null Count  Dtype \n",
            "---  ------                  --------------  ----- \n",
            " 0   Code CIS                20489 non-null  int64 \n",
            " 1   Libellé                 20489 non-null  object\n",
            " 2   Statut Administratif    20489 non-null  object\n",
            " 3   Etat Commercialisation  20489 non-null  object\n",
            " 4   Date Commercialisation  20489 non-null  object\n",
            " 5   Agrément                20489 non-null  object\n",
            " 6   Taux de Remboursement   12920 non-null  object\n",
            " 7   Prix hors honoraire     12920 non-null  object\n",
            " 8   Texte Remboursement     951 non-null    object\n",
            "dtypes: int64(1), object(8)\n",
            "memory usage: 1.4+ MB\n"
          ]
        }
      ]
    },
    {
      "cell_type": "markdown",
      "metadata": {
        "id": "OxuOtKGfe-Ro"
      },
      "source": [
        "La colonne Date Commercialisation qui est une date, n'est pas bien typée, corrigez cela en utilisant un type `datetime64`."
      ]
    },
    {
      "cell_type": "code",
      "metadata": {
        "id": "KzYobY_ie-Ro"
      },
      "source": [
        ""
      ],
      "execution_count": 36,
      "outputs": []
    },
    {
      "cell_type": "markdown",
      "metadata": {
        "id": "t_fW_pEoe-Ro"
      },
      "source": [
        "**Il y a encore 2 colonnes dont le type est incorrect, cependant avant de le corriger nous allons supprimer les valeurs manquantes.**"
      ]
    },
    {
      "cell_type": "markdown",
      "metadata": {
        "id": "cb2mup6fe-Rp"
      },
      "source": [
        "### 3 - Qualité des données\n",
        "\n",
        "Quel est le pourcentage de valeurs manquantes par colonne ?"
      ]
    },
    {
      "cell_type": "code",
      "metadata": {
        "colab": {
          "base_uri": "https://localhost:8080/"
        },
        "id": "wbwu9AUZe-Rp",
        "outputId": "83d3868d-9ebe-4564-b7ae-5e1d33420b8c"
      },
      "source": [
        ""
      ],
      "execution_count": 37,
      "outputs": [
        {
          "output_type": "execute_result",
          "data": {
            "text/plain": [
              "Code CIS                  0.000000\n",
              "Libellé                   0.000000\n",
              "Statut Administratif      0.000000\n",
              "Etat Commercialisation    0.000000\n",
              "Date Commercialisation    0.000000\n",
              "Agrément                  0.000000\n",
              "Taux de Remboursement     0.369418\n",
              "Prix hors honoraire       0.369418\n",
              "Texte Remboursement       0.953585\n",
              "dtype: float64"
            ]
          },
          "metadata": {},
          "execution_count": 37
        }
      ]
    },
    {
      "cell_type": "markdown",
      "metadata": {
        "id": "tMyrXx6xe-Rp"
      },
      "source": [
        "Supprimez les lignes dont le prix est manquant."
      ]
    },
    {
      "cell_type": "code",
      "metadata": {
        "id": "mN48sJMIe-Rp"
      },
      "source": [
        ""
      ],
      "execution_count": 38,
      "outputs": []
    },
    {
      "cell_type": "markdown",
      "metadata": {
        "id": "6aK7TAtfe-Rp"
      },
      "source": [
        "Supprimez la colonne Texte Remboursement qui contient trop de valeurs manquantes."
      ]
    },
    {
      "cell_type": "code",
      "metadata": {
        "id": "wm8MsP71e-Rp"
      },
      "source": [
        ""
      ],
      "execution_count": 39,
      "outputs": []
    },
    {
      "cell_type": "markdown",
      "metadata": {
        "id": "uAub9aRee-Rq"
      },
      "source": [
        "Nous allons maintenant pouvoir corriger le type des colonnes `Prix hors honoraire` et `Taux de Remboursement`. Afin de ne pas passer trop de temps sur cette correction, le code est déjà implémenté pour vous !"
      ]
    },
    {
      "cell_type": "code",
      "metadata": {
        "id": "uxIxOmuce-Rq"
      },
      "source": [
        ""
      ],
      "execution_count": 40,
      "outputs": []
    },
    {
      "cell_type": "markdown",
      "metadata": {
        "id": "x-YECVhHe-Rr"
      },
      "source": [
        "Ordonnez les lignes du dataframe en fonction de la date de commercialisation."
      ]
    },
    {
      "cell_type": "code",
      "metadata": {
        "id": "t-1ocaPke-Rr"
      },
      "source": [
        ""
      ],
      "execution_count": 41,
      "outputs": []
    },
    {
      "cell_type": "markdown",
      "metadata": {
        "id": "ILmAOhX3e-Rs"
      },
      "source": [
        "Existe-t-il des duplicatas ? si oui, supprimez les."
      ]
    },
    {
      "cell_type": "code",
      "metadata": {
        "colab": {
          "base_uri": "https://localhost:8080/",
          "height": 227
        },
        "id": "4gyKaoKve-Rs",
        "outputId": "dab7abd2-2b1c-426c-8b11-b44496673c06"
      },
      "source": [
        ""
      ],
      "execution_count": 42,
      "outputs": [
        {
          "output_type": "execute_result",
          "data": {
            "text/html": [
              "<div>\n",
              "<style scoped>\n",
              "    .dataframe tbody tr th:only-of-type {\n",
              "        vertical-align: middle;\n",
              "    }\n",
              "\n",
              "    .dataframe tbody tr th {\n",
              "        vertical-align: top;\n",
              "    }\n",
              "\n",
              "    .dataframe thead th {\n",
              "        text-align: right;\n",
              "    }\n",
              "</style>\n",
              "<table border=\"1\" class=\"dataframe\">\n",
              "  <thead>\n",
              "    <tr style=\"text-align: right;\">\n",
              "      <th></th>\n",
              "      <th>Code CIS</th>\n",
              "      <th>Libellé</th>\n",
              "      <th>Statut Administratif</th>\n",
              "      <th>Etat Commercialisation</th>\n",
              "      <th>Date Commercialisation</th>\n",
              "      <th>Agrément</th>\n",
              "      <th>Taux de Remboursement</th>\n",
              "      <th>Prix hors honoraire</th>\n",
              "    </tr>\n",
              "  </thead>\n",
              "  <tbody>\n",
              "    <tr>\n",
              "      <th>17239</th>\n",
              "      <td>68362319</td>\n",
              "      <td>plaquette(s) formée(s) à froid aluminium de 28...</td>\n",
              "      <td>Présentation active</td>\n",
              "      <td>Déclaration d'arrêt de commercialisation</td>\n",
              "      <td>2017-11-14</td>\n",
              "      <td>non</td>\n",
              "      <td>0.65</td>\n",
              "      <td>17.51</td>\n",
              "    </tr>\n",
              "    <tr>\n",
              "      <th>166</th>\n",
              "      <td>60083132</td>\n",
              "      <td>plaquette(s) formée(s) à froid aluminium de 28...</td>\n",
              "      <td>Présentation active</td>\n",
              "      <td>Déclaration de commercialisation</td>\n",
              "      <td>2011-11-03</td>\n",
              "      <td>oui</td>\n",
              "      <td>0.65</td>\n",
              "      <td>11.41</td>\n",
              "    </tr>\n",
              "    <tr>\n",
              "      <th>18722</th>\n",
              "      <td>69141416</td>\n",
              "      <td>plaquette(s) thermoformée(s) PVC PVDC aluminiu...</td>\n",
              "      <td>Présentation active</td>\n",
              "      <td>Déclaration de commercialisation</td>\n",
              "      <td>2010-11-16</td>\n",
              "      <td>oui</td>\n",
              "      <td>0.30</td>\n",
              "      <td>8.02</td>\n",
              "    </tr>\n",
              "  </tbody>\n",
              "</table>\n",
              "</div>"
            ],
            "text/plain": [
              "       Code CIS  ... Prix hors honoraire\n",
              "17239  68362319  ...               17.51\n",
              "166    60083132  ...               11.41\n",
              "18722  69141416  ...                8.02\n",
              "\n",
              "[3 rows x 8 columns]"
            ]
          },
          "metadata": {},
          "execution_count": 42
        }
      ]
    },
    {
      "cell_type": "code",
      "metadata": {
        "id": "pKy7ZbzYe-Rs"
      },
      "source": [
        ""
      ],
      "execution_count": 43,
      "outputs": []
    },
    {
      "cell_type": "markdown",
      "metadata": {
        "id": "CkDtS9Oqe-Rs"
      },
      "source": [
        "### 4 - Analyse des prix"
      ]
    },
    {
      "cell_type": "markdown",
      "metadata": {
        "id": "QZhSD7Tre-Rs"
      },
      "source": [
        "Il est tant de valoriser les informations de la base des spécialisations `df_spe` avec le fichier des présentations. Pour cela réaliser une jointure avec le dataframe `df_pres`, on souhaite récupérer la dénomination, la forme pharmaceutique et le titulaire."
      ]
    },
    {
      "cell_type": "code",
      "metadata": {
        "id": "5b2bol8Ve-Rs"
      },
      "source": [
        ""
      ],
      "execution_count": 44,
      "outputs": []
    },
    {
      "cell_type": "markdown",
      "metadata": {
        "id": "24SfAN_Ye-Rt"
      },
      "source": [
        "Quels sont les 5 médicaments commercialisés les plus chers ?"
      ]
    },
    {
      "cell_type": "code",
      "metadata": {
        "colab": {
          "base_uri": "https://localhost:8080/",
          "height": 600
        },
        "id": "SzMK8iAYe-Rt",
        "outputId": "b11a09ec-d3ea-422e-843c-87d39aa2ff4d"
      },
      "source": [
        ""
      ],
      "execution_count": 45,
      "outputs": [
        {
          "output_type": "execute_result",
          "data": {
            "text/html": [
              "<div>\n",
              "<style scoped>\n",
              "    .dataframe tbody tr th:only-of-type {\n",
              "        vertical-align: middle;\n",
              "    }\n",
              "\n",
              "    .dataframe tbody tr th {\n",
              "        vertical-align: top;\n",
              "    }\n",
              "\n",
              "    .dataframe thead th {\n",
              "        text-align: right;\n",
              "    }\n",
              "</style>\n",
              "<table border=\"1\" class=\"dataframe\">\n",
              "  <thead>\n",
              "    <tr style=\"text-align: right;\">\n",
              "      <th></th>\n",
              "      <th>Code CIS</th>\n",
              "      <th>Libellé</th>\n",
              "      <th>Statut Administratif</th>\n",
              "      <th>Etat Commercialisation</th>\n",
              "      <th>Date Commercialisation</th>\n",
              "      <th>Agrément</th>\n",
              "      <th>Taux de Remboursement</th>\n",
              "      <th>Prix hors honoraire</th>\n",
              "      <th>Dénomination</th>\n",
              "      <th>Forme Pharmaceutique</th>\n",
              "      <th>Titulaires</th>\n",
              "    </tr>\n",
              "  </thead>\n",
              "  <tbody>\n",
              "    <tr>\n",
              "      <th>3038</th>\n",
              "      <td>69258437</td>\n",
              "      <td>12 flacon(s) en verre de 0,8 ml</td>\n",
              "      <td>Présentation active</td>\n",
              "      <td>Déclaration de commercialisation</td>\n",
              "      <td>2018-01-18</td>\n",
              "      <td>oui</td>\n",
              "      <td>0.65</td>\n",
              "      <td>53140.9</td>\n",
              "      <td>STRENSIQ 100 mg/ml, solution injectable</td>\n",
              "      <td>solution injectable</td>\n",
              "      <td>ALEXION EUROPE</td>\n",
              "    </tr>\n",
              "    <tr>\n",
              "      <th>3036</th>\n",
              "      <td>64450234</td>\n",
              "      <td>12 flacon(s) en verre de 1 ml</td>\n",
              "      <td>Présentation active</td>\n",
              "      <td>Déclaration de commercialisation</td>\n",
              "      <td>2018-01-18</td>\n",
              "      <td>oui</td>\n",
              "      <td>0.65</td>\n",
              "      <td>26642.2</td>\n",
              "      <td>STRENSIQ 40 mg/ml, solution injectable</td>\n",
              "      <td>solution injectable</td>\n",
              "      <td>ALEXION EUROPE</td>\n",
              "    </tr>\n",
              "    <tr>\n",
              "      <th>1943</th>\n",
              "      <td>69565055</td>\n",
              "      <td>flacon(s) polyéthylène haute densité (PEHD) de...</td>\n",
              "      <td>Présentation active</td>\n",
              "      <td>Déclaration de commercialisation</td>\n",
              "      <td>2019-01-17</td>\n",
              "      <td>oui</td>\n",
              "      <td>0.65</td>\n",
              "      <td>20620.8</td>\n",
              "      <td>LOJUXTA 20 mg, gélule</td>\n",
              "      <td>gélule</td>\n",
              "      <td>AMRYT PHARMACEUTICALS (IRLANDE)</td>\n",
              "    </tr>\n",
              "    <tr>\n",
              "      <th>1984</th>\n",
              "      <td>69243759</td>\n",
              "      <td>flacon(s) polyéthylène haute densité (PEHD) de...</td>\n",
              "      <td>Présentation active</td>\n",
              "      <td>Déclaration de commercialisation</td>\n",
              "      <td>2018-12-18</td>\n",
              "      <td>oui</td>\n",
              "      <td>0.65</td>\n",
              "      <td>20620.8</td>\n",
              "      <td>LOJUXTA 10 mg, gélule</td>\n",
              "      <td>gélule</td>\n",
              "      <td>AMRYT PHARMACEUTICALS (IRLANDE)</td>\n",
              "    </tr>\n",
              "    <tr>\n",
              "      <th>1985</th>\n",
              "      <td>69851117</td>\n",
              "      <td>flacon(s) polyéthylène haute densité (PEHD) de...</td>\n",
              "      <td>Présentation active</td>\n",
              "      <td>Déclaration de commercialisation</td>\n",
              "      <td>2018-12-18</td>\n",
              "      <td>oui</td>\n",
              "      <td>0.65</td>\n",
              "      <td>20620.8</td>\n",
              "      <td>LOJUXTA 5 mg, gélule</td>\n",
              "      <td>gélule</td>\n",
              "      <td>AMRYT PHARMACEUTICALS (IRLANDE)</td>\n",
              "    </tr>\n",
              "  </tbody>\n",
              "</table>\n",
              "</div>"
            ],
            "text/plain": [
              "      Code CIS  ...                        Titulaires\n",
              "3038  69258437  ...                    ALEXION EUROPE\n",
              "3036  64450234  ...                    ALEXION EUROPE\n",
              "1943  69565055  ...   AMRYT PHARMACEUTICALS (IRLANDE)\n",
              "1984  69243759  ...   AMRYT PHARMACEUTICALS (IRLANDE)\n",
              "1985  69851117  ...   AMRYT PHARMACEUTICALS (IRLANDE)\n",
              "\n",
              "[5 rows x 11 columns]"
            ]
          },
          "metadata": {},
          "execution_count": 45
        }
      ]
    },
    {
      "cell_type": "markdown",
      "metadata": {
        "id": "H748etuLe-Rt"
      },
      "source": [
        "On aimerait maintenant effectuer une vérification dans la base en ligne du médicament, afin d'en savoir plus sur le médicament le plus cher. **Voici le [lien](http://base-donnees-publique.medicaments.gouv.fr/index.php#result) vers la base en ligne.**"
      ]
    },
    {
      "cell_type": "code",
      "metadata": {
        "colab": {
          "base_uri": "https://localhost:8080/",
          "height": 204
        },
        "id": "xFajRYGMe-Rt",
        "outputId": "1c18b477-01c1-4146-d5d0-2a516db626bd"
      },
      "source": [
        ""
      ],
      "execution_count": 46,
      "outputs": [
        {
          "output_type": "execute_result",
          "data": {
            "text/html": [
              "<div>\n",
              "<style scoped>\n",
              "    .dataframe tbody tr th:only-of-type {\n",
              "        vertical-align: middle;\n",
              "    }\n",
              "\n",
              "    .dataframe tbody tr th {\n",
              "        vertical-align: top;\n",
              "    }\n",
              "\n",
              "    .dataframe thead th {\n",
              "        text-align: right;\n",
              "    }\n",
              "</style>\n",
              "<table border=\"1\" class=\"dataframe\">\n",
              "  <thead>\n",
              "    <tr style=\"text-align: right;\">\n",
              "      <th></th>\n",
              "      <th>Dénomination</th>\n",
              "      <th>Prix hors honoraire</th>\n",
              "      <th>Titulaires</th>\n",
              "    </tr>\n",
              "  </thead>\n",
              "  <tbody>\n",
              "    <tr>\n",
              "      <th>3038</th>\n",
              "      <td>STRENSIQ 100 mg/ml, solution injectable</td>\n",
              "      <td>53140.9</td>\n",
              "      <td>ALEXION EUROPE</td>\n",
              "    </tr>\n",
              "    <tr>\n",
              "      <th>3036</th>\n",
              "      <td>STRENSIQ 40 mg/ml, solution injectable</td>\n",
              "      <td>26642.2</td>\n",
              "      <td>ALEXION EUROPE</td>\n",
              "    </tr>\n",
              "    <tr>\n",
              "      <th>1943</th>\n",
              "      <td>LOJUXTA 20 mg, gélule</td>\n",
              "      <td>20620.8</td>\n",
              "      <td>AMRYT PHARMACEUTICALS (IRLANDE)</td>\n",
              "    </tr>\n",
              "    <tr>\n",
              "      <th>1984</th>\n",
              "      <td>LOJUXTA 10 mg, gélule</td>\n",
              "      <td>20620.8</td>\n",
              "      <td>AMRYT PHARMACEUTICALS (IRLANDE)</td>\n",
              "    </tr>\n",
              "    <tr>\n",
              "      <th>1985</th>\n",
              "      <td>LOJUXTA 5 mg, gélule</td>\n",
              "      <td>20620.8</td>\n",
              "      <td>AMRYT PHARMACEUTICALS (IRLANDE)</td>\n",
              "    </tr>\n",
              "  </tbody>\n",
              "</table>\n",
              "</div>"
            ],
            "text/plain": [
              "                                 Dénomination  ...                        Titulaires\n",
              "3038  STRENSIQ 100 mg/ml, solution injectable  ...                    ALEXION EUROPE\n",
              "3036   STRENSIQ 40 mg/ml, solution injectable  ...                    ALEXION EUROPE\n",
              "1943                    LOJUXTA 20 mg, gélule  ...   AMRYT PHARMACEUTICALS (IRLANDE)\n",
              "1984                    LOJUXTA 10 mg, gélule  ...   AMRYT PHARMACEUTICALS (IRLANDE)\n",
              "1985                     LOJUXTA 5 mg, gélule  ...   AMRYT PHARMACEUTICALS (IRLANDE)\n",
              "\n",
              "[5 rows x 3 columns]"
            ]
          },
          "metadata": {},
          "execution_count": 46
        }
      ]
    },
    {
      "cell_type": "markdown",
      "metadata": {
        "id": "wyZKSkqMe-Rt"
      },
      "source": [
        "Quels sont les 5 médicaments qui après remboursement restent les plus chers ? dans un premier temps, créez une nouvelle colonne indiquant le prix après remboursement, puis classez le dataframe en fonction de cette dernière."
      ]
    },
    {
      "cell_type": "code",
      "metadata": {
        "colab": {
          "base_uri": "https://localhost:8080/",
          "height": 600
        },
        "id": "cAlVP40ae-Ru",
        "outputId": "0680709e-c0ff-4143-c675-548df7941735"
      },
      "source": [
        ""
      ],
      "execution_count": 47,
      "outputs": [
        {
          "output_type": "execute_result",
          "data": {
            "text/html": [
              "<div>\n",
              "<style scoped>\n",
              "    .dataframe tbody tr th:only-of-type {\n",
              "        vertical-align: middle;\n",
              "    }\n",
              "\n",
              "    .dataframe tbody tr th {\n",
              "        vertical-align: top;\n",
              "    }\n",
              "\n",
              "    .dataframe thead th {\n",
              "        text-align: right;\n",
              "    }\n",
              "</style>\n",
              "<table border=\"1\" class=\"dataframe\">\n",
              "  <thead>\n",
              "    <tr style=\"text-align: right;\">\n",
              "      <th></th>\n",
              "      <th>Code CIS</th>\n",
              "      <th>Libellé</th>\n",
              "      <th>Statut Administratif</th>\n",
              "      <th>Etat Commercialisation</th>\n",
              "      <th>Date Commercialisation</th>\n",
              "      <th>Agrément</th>\n",
              "      <th>Taux de Remboursement</th>\n",
              "      <th>Prix hors honoraire</th>\n",
              "      <th>Dénomination</th>\n",
              "      <th>Forme Pharmaceutique</th>\n",
              "      <th>Titulaires</th>\n",
              "      <th>Prix après remboursement</th>\n",
              "    </tr>\n",
              "  </thead>\n",
              "  <tbody>\n",
              "    <tr>\n",
              "      <th>3038</th>\n",
              "      <td>69258437</td>\n",
              "      <td>12 flacon(s) en verre de 0,8 ml</td>\n",
              "      <td>Présentation active</td>\n",
              "      <td>Déclaration de commercialisation</td>\n",
              "      <td>2018-01-18</td>\n",
              "      <td>oui</td>\n",
              "      <td>0.65</td>\n",
              "      <td>53140.9</td>\n",
              "      <td>STRENSIQ 100 mg/ml, solution injectable</td>\n",
              "      <td>solution injectable</td>\n",
              "      <td>ALEXION EUROPE</td>\n",
              "      <td>34541.585</td>\n",
              "    </tr>\n",
              "    <tr>\n",
              "      <th>3036</th>\n",
              "      <td>64450234</td>\n",
              "      <td>12 flacon(s) en verre de 1 ml</td>\n",
              "      <td>Présentation active</td>\n",
              "      <td>Déclaration de commercialisation</td>\n",
              "      <td>2018-01-18</td>\n",
              "      <td>oui</td>\n",
              "      <td>0.65</td>\n",
              "      <td>26642.2</td>\n",
              "      <td>STRENSIQ 40 mg/ml, solution injectable</td>\n",
              "      <td>solution injectable</td>\n",
              "      <td>ALEXION EUROPE</td>\n",
              "      <td>17317.430</td>\n",
              "    </tr>\n",
              "    <tr>\n",
              "      <th>1943</th>\n",
              "      <td>69565055</td>\n",
              "      <td>flacon(s) polyéthylène haute densité (PEHD) de...</td>\n",
              "      <td>Présentation active</td>\n",
              "      <td>Déclaration de commercialisation</td>\n",
              "      <td>2019-01-17</td>\n",
              "      <td>oui</td>\n",
              "      <td>0.65</td>\n",
              "      <td>20620.8</td>\n",
              "      <td>LOJUXTA 20 mg, gélule</td>\n",
              "      <td>gélule</td>\n",
              "      <td>AMRYT PHARMACEUTICALS (IRLANDE)</td>\n",
              "      <td>13403.520</td>\n",
              "    </tr>\n",
              "    <tr>\n",
              "      <th>1984</th>\n",
              "      <td>69243759</td>\n",
              "      <td>flacon(s) polyéthylène haute densité (PEHD) de...</td>\n",
              "      <td>Présentation active</td>\n",
              "      <td>Déclaration de commercialisation</td>\n",
              "      <td>2018-12-18</td>\n",
              "      <td>oui</td>\n",
              "      <td>0.65</td>\n",
              "      <td>20620.8</td>\n",
              "      <td>LOJUXTA 10 mg, gélule</td>\n",
              "      <td>gélule</td>\n",
              "      <td>AMRYT PHARMACEUTICALS (IRLANDE)</td>\n",
              "      <td>13403.520</td>\n",
              "    </tr>\n",
              "    <tr>\n",
              "      <th>1985</th>\n",
              "      <td>69851117</td>\n",
              "      <td>flacon(s) polyéthylène haute densité (PEHD) de...</td>\n",
              "      <td>Présentation active</td>\n",
              "      <td>Déclaration de commercialisation</td>\n",
              "      <td>2018-12-18</td>\n",
              "      <td>oui</td>\n",
              "      <td>0.65</td>\n",
              "      <td>20620.8</td>\n",
              "      <td>LOJUXTA 5 mg, gélule</td>\n",
              "      <td>gélule</td>\n",
              "      <td>AMRYT PHARMACEUTICALS (IRLANDE)</td>\n",
              "      <td>13403.520</td>\n",
              "    </tr>\n",
              "  </tbody>\n",
              "</table>\n",
              "</div>"
            ],
            "text/plain": [
              "      Code CIS  ... Prix après remboursement\n",
              "3038  69258437  ...                34541.585\n",
              "3036  64450234  ...                17317.430\n",
              "1943  69565055  ...                13403.520\n",
              "1984  69243759  ...                13403.520\n",
              "1985  69851117  ...                13403.520\n",
              "\n",
              "[5 rows x 12 columns]"
            ]
          },
          "metadata": {},
          "execution_count": 47
        }
      ]
    },
    {
      "cell_type": "markdown",
      "metadata": {
        "id": "ZYMgSaPxe-Ru"
      },
      "source": [
        "Quels sont les titulaires dont le prix moyen du médicament (en statuf actif) est le plus élevé ?"
      ]
    },
    {
      "cell_type": "code",
      "metadata": {
        "colab": {
          "base_uri": "https://localhost:8080/"
        },
        "id": "IsEHwv3te-Ru",
        "outputId": "7f5693db-3f36-4920-d913-b98cdac590a7"
      },
      "source": [
        ""
      ],
      "execution_count": 48,
      "outputs": [
        {
          "output_type": "execute_result",
          "data": {
            "text/plain": [
              "Titulaires\n",
              " ALEXION EUROPE                       27635.925\n",
              " AMRYT PHARMACEUTICALS (IRLANDE)      20620.800\n",
              " NOUVEAU DEMANDEUR                    16081.400\n",
              " VERTEX PHARMACEUTICALS (IRELAND)     13456.100\n",
              " ALIMERA SCIENCES EUROPE (IRLANDE)     6035.800\n",
              "                                        ...    \n",
              " UPSA                                     1.462\n",
              " CILFA DEVELOPPEMENT                      1.420\n",
              " BOIRON                                   1.380\n",
              " BRIDOUX                                  1.200\n",
              " PHARMASTRA                               1.060\n",
              "Name: Prix hors honoraire, Length: 346, dtype: float64"
            ]
          },
          "metadata": {},
          "execution_count": 48
        }
      ]
    },
    {
      "cell_type": "markdown",
      "metadata": {
        "id": "fRWuF74Pe-Ru"
      },
      "source": [
        "Quels sont les titulaires dont le taux de remboursement moyen est le plus bas ?"
      ]
    },
    {
      "cell_type": "code",
      "metadata": {
        "colab": {
          "base_uri": "https://localhost:8080/"
        },
        "id": "F-81zY23e-Ru",
        "outputId": "2c20b722-201a-41c8-e495-6b5c57071c6d"
      },
      "source": [
        ""
      ],
      "execution_count": 49,
      "outputs": [
        {
          "output_type": "execute_result",
          "data": {
            "text/plain": [
              "Titulaires\n",
              " UAB SICOR BIOTECH (LITUANIE)         1.00\n",
              " LEADIANT (ALLEMAGNE)                 1.00\n",
              " ASTELLAS PHARMA EUROPE (PAYS-BAS)    1.00\n",
              " CHUGAI PHARMA FRANCE                 1.00\n",
              " CINFA BIOTECH (ESPAGNE)              1.00\n",
              "                                      ... \n",
              " CILFA DEVELOPPEMENT                  0.15\n",
              " BRIDOUX                              0.15\n",
              " GIFRER BARBEZAT                      0.15\n",
              " BENE - ARZNEIMITTEL (ALLEMAGNE)      0.15\n",
              " BOIRON                               0.15\n",
              "Name: Taux de Remboursement, Length: 346, dtype: float64"
            ]
          },
          "metadata": {},
          "execution_count": 49
        }
      ]
    },
    {
      "cell_type": "markdown",
      "metadata": {
        "id": "RVQz7cLve-Rv"
      },
      "source": [
        "## Bonus"
      ]
    },
    {
      "cell_type": "markdown",
      "metadata": {
        "id": "RPnFiU6Ue-Rv"
      },
      "source": [
        "On souhaite maintenant comparer les prix du paracetamol sous forme de comprimé pelliculé, dont l'autorisation de mise sur le marché est active et actuellement commercialisé.\n",
        "Il existe 18 médicaments de ce type, trouvez les !"
      ]
    },
    {
      "cell_type": "code",
      "metadata": {
        "colab": {
          "base_uri": "https://localhost:8080/",
          "height": 779
        },
        "id": "pXi7mzy_e-Rv",
        "outputId": "88eb7ee3-35a6-4c86-848d-233be2a27fc1"
      },
      "source": [
        ""
      ],
      "execution_count": 50,
      "outputs": [
        {
          "output_type": "execute_result",
          "data": {
            "text/html": [
              "<div>\n",
              "<style scoped>\n",
              "    .dataframe tbody tr th:only-of-type {\n",
              "        vertical-align: middle;\n",
              "    }\n",
              "\n",
              "    .dataframe tbody tr th {\n",
              "        vertical-align: top;\n",
              "    }\n",
              "\n",
              "    .dataframe thead th {\n",
              "        text-align: right;\n",
              "    }\n",
              "</style>\n",
              "<table border=\"1\" class=\"dataframe\">\n",
              "  <thead>\n",
              "    <tr style=\"text-align: right;\">\n",
              "      <th></th>\n",
              "      <th>Dénomination</th>\n",
              "      <th>Titulaires</th>\n",
              "      <th>Prix hors honoraire</th>\n",
              "      <th>Taux de Remboursement</th>\n",
              "    </tr>\n",
              "  </thead>\n",
              "  <tbody>\n",
              "    <tr>\n",
              "      <th>1308</th>\n",
              "      <td>PARACETAMOL/CODEINE TEVA 500 mg/30 mg, comprim...</td>\n",
              "      <td>TEVA (PAYS-BAS)</td>\n",
              "      <td>1.72</td>\n",
              "      <td>0.65</td>\n",
              "    </tr>\n",
              "    <tr>\n",
              "      <th>2101</th>\n",
              "      <td>TRAMADOL/PARACETAMOL EVOLUGEN PHARMA 37,5 mg/3...</td>\n",
              "      <td>EVOLUPHARM</td>\n",
              "      <td>1.88</td>\n",
              "      <td>0.65</td>\n",
              "    </tr>\n",
              "    <tr>\n",
              "      <th>2198</th>\n",
              "      <td>TRAMADOL/PARACETAMOL BGR 37,5 mg/325 mg, compr...</td>\n",
              "      <td>BIOGARAN</td>\n",
              "      <td>1.88</td>\n",
              "      <td>0.65</td>\n",
              "    </tr>\n",
              "    <tr>\n",
              "      <th>2199</th>\n",
              "      <td>TRAMADOL/PARACETAMOL BGR 37,5 mg/325 mg, compr...</td>\n",
              "      <td>BIOGARAN</td>\n",
              "      <td>1.88</td>\n",
              "      <td>0.65</td>\n",
              "    </tr>\n",
              "    <tr>\n",
              "      <th>2261</th>\n",
              "      <td>TRAMADOL/PARACETAMOL MYLAN GENERIQUES 37,5 mg/...</td>\n",
              "      <td>LABORATOIRES GRUNENTHAL</td>\n",
              "      <td>1.88</td>\n",
              "      <td>0.65</td>\n",
              "    </tr>\n",
              "    <tr>\n",
              "      <th>2262</th>\n",
              "      <td>TRAMADOL/PARACETAMOL MYLAN GENERIQUES 37,5 mg/...</td>\n",
              "      <td>LABORATOIRES GRUNENTHAL</td>\n",
              "      <td>1.88</td>\n",
              "      <td>0.65</td>\n",
              "    </tr>\n",
              "    <tr>\n",
              "      <th>4742</th>\n",
              "      <td>TRAMADOL/PARACETAMOL ARROW LAB 37,5 mg/325 mg,...</td>\n",
              "      <td>ARROW GENERIQUES</td>\n",
              "      <td>1.88</td>\n",
              "      <td>0.65</td>\n",
              "    </tr>\n",
              "    <tr>\n",
              "      <th>5484</th>\n",
              "      <td>TRAMADOL/PARACETAMOL GERDA 37,5 mg/325 mg, com...</td>\n",
              "      <td>LABORATOIRES GERDA</td>\n",
              "      <td>1.88</td>\n",
              "      <td>0.65</td>\n",
              "    </tr>\n",
              "    <tr>\n",
              "      <th>5587</th>\n",
              "      <td>TRAMADOL/PARACETAMOL ZYDUS 37,5 mg/325 mg, com...</td>\n",
              "      <td>ZYDUS FRANCE</td>\n",
              "      <td>1.88</td>\n",
              "      <td>0.65</td>\n",
              "    </tr>\n",
              "    <tr>\n",
              "      <th>5886</th>\n",
              "      <td>TRAMADOL/PARACETAMOL EG LABO 37,5 mg/325 mg, c...</td>\n",
              "      <td>EG LABO - LABORATOIRES EUROGENERICS</td>\n",
              "      <td>1.88</td>\n",
              "      <td>0.65</td>\n",
              "    </tr>\n",
              "    <tr>\n",
              "      <th>6325</th>\n",
              "      <td>TRAMADOL PARACETAMOL EVOLUGEN 37,5 mg/325 mg, ...</td>\n",
              "      <td>EVOLUPHARM</td>\n",
              "      <td>1.88</td>\n",
              "      <td>0.65</td>\n",
              "    </tr>\n",
              "    <tr>\n",
              "      <th>6413</th>\n",
              "      <td>TRAMADOL/PARACETAMOL KRKA 37,5 mg/325 mg, comp...</td>\n",
              "      <td>KRKA (SLOVENIE)</td>\n",
              "      <td>1.88</td>\n",
              "      <td>0.65</td>\n",
              "    </tr>\n",
              "    <tr>\n",
              "      <th>6444</th>\n",
              "      <td>TRAMADOL/PARACETAMOL ARROW GENERIQUES 37,5 mg/...</td>\n",
              "      <td>ARROW GENERIQUES</td>\n",
              "      <td>1.88</td>\n",
              "      <td>0.65</td>\n",
              "    </tr>\n",
              "    <tr>\n",
              "      <th>6452</th>\n",
              "      <td>TRAMADOL/PARACETAMOL CRISTERS 37,5 mg/325 mg, ...</td>\n",
              "      <td>CRISTERS</td>\n",
              "      <td>1.88</td>\n",
              "      <td>0.65</td>\n",
              "    </tr>\n",
              "    <tr>\n",
              "      <th>6477</th>\n",
              "      <td>TRAMADOL/PARACETAMOL RANBAXY PHARMACIE GENERIQ...</td>\n",
              "      <td>RANBAXY PHARMACIE GENERIQUES</td>\n",
              "      <td>1.88</td>\n",
              "      <td>0.65</td>\n",
              "    </tr>\n",
              "    <tr>\n",
              "      <th>6521</th>\n",
              "      <td>TRAMADOL/PARACETAMOL TEVA 37.5 mg/325 mg, comp...</td>\n",
              "      <td>TEVA SANTE</td>\n",
              "      <td>1.88</td>\n",
              "      <td>0.65</td>\n",
              "    </tr>\n",
              "    <tr>\n",
              "      <th>6544</th>\n",
              "      <td>TRAMADOL/PARACETAMOL ZENTIVA 37,5 mg/325 mg, c...</td>\n",
              "      <td>LABORATOIRES GRUNENTHAL</td>\n",
              "      <td>1.88</td>\n",
              "      <td>0.65</td>\n",
              "    </tr>\n",
              "    <tr>\n",
              "      <th>6545</th>\n",
              "      <td>TRAMADOL/PARACETAMOL SANDOZ 37,5 mg/325 mg, co...</td>\n",
              "      <td>LABORATOIRES GRUNENTHAL</td>\n",
              "      <td>1.88</td>\n",
              "      <td>0.65</td>\n",
              "    </tr>\n",
              "  </tbody>\n",
              "</table>\n",
              "</div>"
            ],
            "text/plain": [
              "                                           Dénomination  ... Taux de Remboursement\n",
              "1308  PARACETAMOL/CODEINE TEVA 500 mg/30 mg, comprim...  ...                  0.65\n",
              "2101  TRAMADOL/PARACETAMOL EVOLUGEN PHARMA 37,5 mg/3...  ...                  0.65\n",
              "2198  TRAMADOL/PARACETAMOL BGR 37,5 mg/325 mg, compr...  ...                  0.65\n",
              "2199  TRAMADOL/PARACETAMOL BGR 37,5 mg/325 mg, compr...  ...                  0.65\n",
              "2261  TRAMADOL/PARACETAMOL MYLAN GENERIQUES 37,5 mg/...  ...                  0.65\n",
              "2262  TRAMADOL/PARACETAMOL MYLAN GENERIQUES 37,5 mg/...  ...                  0.65\n",
              "4742  TRAMADOL/PARACETAMOL ARROW LAB 37,5 mg/325 mg,...  ...                  0.65\n",
              "5484  TRAMADOL/PARACETAMOL GERDA 37,5 mg/325 mg, com...  ...                  0.65\n",
              "5587  TRAMADOL/PARACETAMOL ZYDUS 37,5 mg/325 mg, com...  ...                  0.65\n",
              "5886  TRAMADOL/PARACETAMOL EG LABO 37,5 mg/325 mg, c...  ...                  0.65\n",
              "6325  TRAMADOL PARACETAMOL EVOLUGEN 37,5 mg/325 mg, ...  ...                  0.65\n",
              "6413  TRAMADOL/PARACETAMOL KRKA 37,5 mg/325 mg, comp...  ...                  0.65\n",
              "6444  TRAMADOL/PARACETAMOL ARROW GENERIQUES 37,5 mg/...  ...                  0.65\n",
              "6452  TRAMADOL/PARACETAMOL CRISTERS 37,5 mg/325 mg, ...  ...                  0.65\n",
              "6477  TRAMADOL/PARACETAMOL RANBAXY PHARMACIE GENERIQ...  ...                  0.65\n",
              "6521  TRAMADOL/PARACETAMOL TEVA 37.5 mg/325 mg, comp...  ...                  0.65\n",
              "6544  TRAMADOL/PARACETAMOL ZENTIVA 37,5 mg/325 mg, c...  ...                  0.65\n",
              "6545  TRAMADOL/PARACETAMOL SANDOZ 37,5 mg/325 mg, co...  ...                  0.65\n",
              "\n",
              "[18 rows x 4 columns]"
            ]
          },
          "metadata": {},
          "execution_count": 50
        }
      ]
    },
    {
      "cell_type": "markdown",
      "metadata": {
        "id": "Mq1BJjYfe-Rv"
      },
      "source": [
        "Écrivez une fonction qui pour un mot clé donné et une forme pharmaceutique donnée, retourne le prix moyen (avec honoraire) des médicaments commercialisés et actifs."
      ]
    },
    {
      "cell_type": "code",
      "metadata": {
        "id": "iT2ha_SSe-Rv"
      },
      "source": [
        ""
      ],
      "execution_count": 51,
      "outputs": []
    },
    {
      "cell_type": "markdown",
      "metadata": {
        "id": "ftSAnJ6ue-Rv"
      },
      "source": [
        "Testez cette fonction pour le paracetamol"
      ]
    },
    {
      "cell_type": "code",
      "metadata": {
        "colab": {
          "base_uri": "https://localhost:8080/"
        },
        "id": "n6iBAhYTe-Rw",
        "outputId": "d8e822e4-a6bf-4336-9a67-96ce82e1335a"
      },
      "source": [
        ""
      ],
      "execution_count": 52,
      "outputs": [
        {
          "output_type": "execute_result",
          "data": {
            "text/plain": [
              "1.8711111111111103"
            ]
          },
          "metadata": {},
          "execution_count": 52
        }
      ]
    },
    {
      "cell_type": "markdown",
      "metadata": {
        "id": "o1VkAlFoe-Rw"
      },
      "source": [
        "### Conclusion"
      ]
    },
    {
      "cell_type": "markdown",
      "metadata": {
        "id": "vvAPMccme-Rw"
      },
      "source": [
        "Nous n'avons pas encore mis en avant des faits précis, certains médicaments sont très coûteux, mais nous ne savons pas encore pour quelles raisons (identification des substances actives, rareté de la maladie). Cependant nous avons appris à nettoyer un jeu de données composé de plusieurs fichiers, afficher quelques informations importantes, mettre en place quelques fonctions pour extraire des données rapidement. \n",
        "\n",
        "C'est donc la fin d'une première phase d'analyse orientée dans l'exploration.\n",
        "\n",
        "**Les éléments mis en avant sont très subjectifs et ne peuvent pas permettre d'évaluer correctement de la qualité d'un médicament ou d'un fabricant. Pour établir un indicateur qualitatif, il faudrait dans un premier temps approfondir la recherche documentaire afin de lister les variables réflétant les bons ou mauvais comportements.**"
      ]
    },
    {
      "cell_type": "markdown",
      "metadata": {
        "id": "MJG3z3b4e-Rw"
      },
      "source": [
        "### Pour aller plus loin\n",
        "\n",
        "D'autres fichiers sont encore disponibles, par exemple le fichier des compositions, des avis rendus pour les autorités gouvernementales. On pourrait par exemple utiliser des méthodes d'analyse de texte afin de déterminer si certains avis sont positifs ou négatifs, calculer un score global par rapport à la présence de certaines substances actives."
      ]
    }
  ]
}