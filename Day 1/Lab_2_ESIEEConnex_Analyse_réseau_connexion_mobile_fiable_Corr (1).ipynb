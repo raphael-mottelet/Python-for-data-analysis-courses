{
  "nbformat": 4,
  "nbformat_minor": 0,
  "metadata": {
    "kernelspec": {
      "display_name": "Python 3",
      "language": "python",
      "name": "python3"
    },
    "language_info": {
      "codemirror_mode": {
        "name": "ipython",
        "version": 3
      },
      "file_extension": ".py",
      "mimetype": "text/x-python",
      "name": "python",
      "nbconvert_exporter": "python",
      "pygments_lexer": "ipython3",
      "version": "3.7.7"
    },
    "colab": {
      "name": "Lab_2_ESIEEConnex_Analyse_réseau_connexion_mobile_fiable_Corr.ipynb",
      "provenance": []
    }
  },
  "cells": [
    {
      "cell_type": "code",
      "metadata": {
        "id": "MQMYRldQMgnt"
      },
      "source": [
        "import pandas as pd"
      ],
      "execution_count": 1,
      "outputs": []
    },
    {
      "cell_type": "markdown",
      "metadata": {
        "id": "Hd3A7MLRMgnw"
      },
      "source": [
        "## Énoncé\n",
        "En tant que data analyst de l'entreprise ESIEEConnex, votre rôle est d'aider les salariés/freelances à trouver le lieu idéal pour travailler à distance. C'est votre deuxième mois chez ESIEEConnex, après avoir suivi un onboarding qui vous a fait découvrir le fonctionnement interne, on vous assigne maintenant votre première mission !\n",
        "\n",
        "## Mission\n",
        "À la suite d'une enquête de satisfaction dans le but d'améliorer nos services, certains utilisateurs ont fait remonter le besoin d'une connection mobile fiable. C'est nécessaire pour accéder à des documents en déplacement ou même lorsque la connexion Wifi principale tombe. On vous demande donc à partir de données disponibles en open data, d'établir un classement des communes et départements disposant des meilleures couvertures mobiles pour plusieurs opérateurs français. En effet, on doit aussi prendre en compte l'opérateur mobile de nos utilisateurs, car ils ne sont pas tous disposés à en changer.\n",
        "\n",
        "Pour cette mission, vous aurez à disposition 2 fichiers :\n",
        "- la taille de la population par commune ([source](https://www.insee.fr/fr/statistiques/4265429?sommaire=4265511))\n",
        "- des informations sur la connectivité mobile par commune ([source](https://www.data.gouv.fr/fr/datasets/mon-reseau-mobile/))"
      ]
    },
    {
      "cell_type": "markdown",
      "metadata": {
        "id": "jxm9XAMXMgny"
      },
      "source": [
        "# Exercice\n",
        "## Partie 1 - Répartition de la population\n",
        "### 1 - Chargement des données\n",
        " Téléchargez l'[archive suivante](https://www.insee.fr/fr/statistiques/fichier/4265429/ensemble.zip) puis chargez le fichier `Communes.csv` à l'aide de Pandas. Stockez le résultat du chargement dans la variable `df_pop`.\n",
        "\n",
        "Les colonnes du fichier sont uniquement séparées par des points-virgules.\n",
        "\n",
        "**Petit coup de pouce pour démarrer**, pour chacune des conditions suivantes, trouvez le paramètre de la fonction `read_csv` adapté :\n",
        "- les colonnes sont séparées par des points-virgules\n",
        "- l'encodage à utiliser est *UTF-8*"
      ]
    },
    {
      "cell_type": "code",
      "metadata": {
        "id": "cdN8ksZ-Mgnz"
      },
      "source": [
        "df_pop = pd.read_csv('Communes.csv', sep=';', encoding='UTF-8')"
      ],
      "execution_count": 2,
      "outputs": []
    },
    {
      "cell_type": "markdown",
      "metadata": {
        "id": "r61t22NbMgnz"
      },
      "source": [
        " "
      ]
    },
    {
      "cell_type": "markdown",
      "metadata": {
        "id": "EE1nf6xtMgn0"
      },
      "source": [
        "Pouvez-vous afficher les 5 premières lignes du dataframe pour vérifier que les données sont bien chargées ?"
      ]
    },
    {
      "cell_type": "code",
      "metadata": {
        "colab": {
          "base_uri": "https://localhost:8080/",
          "height": 204
        },
        "id": "1z1Kh1TRMgn0",
        "outputId": "d4f4bc7c-5417-43fe-d876-89e72ac54205"
      },
      "source": [
        "df_pop.head(5)"
      ],
      "execution_count": 3,
      "outputs": [
        {
          "output_type": "execute_result",
          "data": {
            "text/html": [
              "<div>\n",
              "<style scoped>\n",
              "    .dataframe tbody tr th:only-of-type {\n",
              "        vertical-align: middle;\n",
              "    }\n",
              "\n",
              "    .dataframe tbody tr th {\n",
              "        vertical-align: top;\n",
              "    }\n",
              "\n",
              "    .dataframe thead th {\n",
              "        text-align: right;\n",
              "    }\n",
              "</style>\n",
              "<table border=\"1\" class=\"dataframe\">\n",
              "  <thead>\n",
              "    <tr style=\"text-align: right;\">\n",
              "      <th></th>\n",
              "      <th>DEPCOM</th>\n",
              "      <th>COM</th>\n",
              "      <th>PMUN</th>\n",
              "      <th>PCAP</th>\n",
              "      <th>PTOT</th>\n",
              "    </tr>\n",
              "  </thead>\n",
              "  <tbody>\n",
              "    <tr>\n",
              "      <th>0</th>\n",
              "      <td>01001</td>\n",
              "      <td>L' Abergement-Clémenciat</td>\n",
              "      <td>776</td>\n",
              "      <td>18</td>\n",
              "      <td>794</td>\n",
              "    </tr>\n",
              "    <tr>\n",
              "      <th>1</th>\n",
              "      <td>01002</td>\n",
              "      <td>L' Abergement-de-Varey</td>\n",
              "      <td>248</td>\n",
              "      <td>1</td>\n",
              "      <td>249</td>\n",
              "    </tr>\n",
              "    <tr>\n",
              "      <th>2</th>\n",
              "      <td>01004</td>\n",
              "      <td>Ambérieu-en-Bugey</td>\n",
              "      <td>14035</td>\n",
              "      <td>393</td>\n",
              "      <td>14428</td>\n",
              "    </tr>\n",
              "    <tr>\n",
              "      <th>3</th>\n",
              "      <td>01005</td>\n",
              "      <td>Ambérieux-en-Dombes</td>\n",
              "      <td>1689</td>\n",
              "      <td>34</td>\n",
              "      <td>1723</td>\n",
              "    </tr>\n",
              "    <tr>\n",
              "      <th>4</th>\n",
              "      <td>01006</td>\n",
              "      <td>Ambléon</td>\n",
              "      <td>111</td>\n",
              "      <td>6</td>\n",
              "      <td>117</td>\n",
              "    </tr>\n",
              "  </tbody>\n",
              "</table>\n",
              "</div>"
            ],
            "text/plain": [
              "  DEPCOM                       COM   PMUN  PCAP   PTOT\n",
              "0  01001  L' Abergement-Clémenciat    776    18    794\n",
              "1  01002    L' Abergement-de-Varey    248     1    249\n",
              "2  01004         Ambérieu-en-Bugey  14035   393  14428\n",
              "3  01005       Ambérieux-en-Dombes   1689    34   1723\n",
              "4  01006                   Ambléon    111     6    117"
            ]
          },
          "metadata": {},
          "execution_count": 3
        }
      ]
    },
    {
      "cell_type": "markdown",
      "metadata": {
        "id": "l1R3XTh9Mgn1"
      },
      "source": [
        "À l'aide de la fonction `loc`, sélectionnez uniquement les colonnes `DEPCOM`, `COM` et `PTOT`."
      ]
    },
    {
      "cell_type": "code",
      "metadata": {
        "colab": {
          "base_uri": "https://localhost:8080/",
          "height": 420
        },
        "id": "FbQzlsXtMgn2",
        "outputId": "7445a242-d66d-4c08-f388-0cc89eac21c8"
      },
      "source": [
        "df_pop.loc[:, ['DEPCOM', 'COM', 'PTOT']]"
      ],
      "execution_count": 4,
      "outputs": [
        {
          "output_type": "execute_result",
          "data": {
            "text/html": [
              "<div>\n",
              "<style scoped>\n",
              "    .dataframe tbody tr th:only-of-type {\n",
              "        vertical-align: middle;\n",
              "    }\n",
              "\n",
              "    .dataframe tbody tr th {\n",
              "        vertical-align: top;\n",
              "    }\n",
              "\n",
              "    .dataframe thead th {\n",
              "        text-align: right;\n",
              "    }\n",
              "</style>\n",
              "<table border=\"1\" class=\"dataframe\">\n",
              "  <thead>\n",
              "    <tr style=\"text-align: right;\">\n",
              "      <th></th>\n",
              "      <th>DEPCOM</th>\n",
              "      <th>COM</th>\n",
              "      <th>PTOT</th>\n",
              "    </tr>\n",
              "  </thead>\n",
              "  <tbody>\n",
              "    <tr>\n",
              "      <th>0</th>\n",
              "      <td>01001</td>\n",
              "      <td>L' Abergement-Clémenciat</td>\n",
              "      <td>794</td>\n",
              "    </tr>\n",
              "    <tr>\n",
              "      <th>1</th>\n",
              "      <td>01002</td>\n",
              "      <td>L' Abergement-de-Varey</td>\n",
              "      <td>249</td>\n",
              "    </tr>\n",
              "    <tr>\n",
              "      <th>2</th>\n",
              "      <td>01004</td>\n",
              "      <td>Ambérieu-en-Bugey</td>\n",
              "      <td>14428</td>\n",
              "    </tr>\n",
              "    <tr>\n",
              "      <th>3</th>\n",
              "      <td>01005</td>\n",
              "      <td>Ambérieux-en-Dombes</td>\n",
              "      <td>1723</td>\n",
              "    </tr>\n",
              "    <tr>\n",
              "      <th>4</th>\n",
              "      <td>01006</td>\n",
              "      <td>Ambléon</td>\n",
              "      <td>117</td>\n",
              "    </tr>\n",
              "    <tr>\n",
              "      <th>...</th>\n",
              "      <td>...</td>\n",
              "      <td>...</td>\n",
              "      <td>...</td>\n",
              "    </tr>\n",
              "    <tr>\n",
              "      <th>34990</th>\n",
              "      <td>97419</td>\n",
              "      <td>Sainte-Rose</td>\n",
              "      <td>6497</td>\n",
              "    </tr>\n",
              "    <tr>\n",
              "      <th>34991</th>\n",
              "      <td>97420</td>\n",
              "      <td>Sainte-Suzanne</td>\n",
              "      <td>23704</td>\n",
              "    </tr>\n",
              "    <tr>\n",
              "      <th>34992</th>\n",
              "      <td>97421</td>\n",
              "      <td>Salazie</td>\n",
              "      <td>7387</td>\n",
              "    </tr>\n",
              "    <tr>\n",
              "      <th>34993</th>\n",
              "      <td>97422</td>\n",
              "      <td>Le Tampon</td>\n",
              "      <td>79705</td>\n",
              "    </tr>\n",
              "    <tr>\n",
              "      <th>34994</th>\n",
              "      <td>97423</td>\n",
              "      <td>Les Trois-Bassins</td>\n",
              "      <td>7234</td>\n",
              "    </tr>\n",
              "  </tbody>\n",
              "</table>\n",
              "<p>34995 rows × 3 columns</p>\n",
              "</div>"
            ],
            "text/plain": [
              "      DEPCOM                       COM   PTOT\n",
              "0      01001  L' Abergement-Clémenciat    794\n",
              "1      01002    L' Abergement-de-Varey    249\n",
              "2      01004         Ambérieu-en-Bugey  14428\n",
              "3      01005       Ambérieux-en-Dombes   1723\n",
              "4      01006                   Ambléon    117\n",
              "...      ...                       ...    ...\n",
              "34990  97419               Sainte-Rose   6497\n",
              "34991  97420            Sainte-Suzanne  23704\n",
              "34992  97421                   Salazie   7387\n",
              "34993  97422                 Le Tampon  79705\n",
              "34994  97423         Les Trois-Bassins   7234\n",
              "\n",
              "[34995 rows x 3 columns]"
            ]
          },
          "metadata": {},
          "execution_count": 4
        }
      ]
    },
    {
      "cell_type": "markdown",
      "metadata": {
        "id": "smt0CuHyMgn3"
      },
      "source": [
        "### Description des colonnes\n",
        "**DEPCOM** : numéro de commune\n",
        "\n",
        "**COM** : nom de la commune\n",
        "\n",
        "**PMUN** : la population municipale comprend les personnes ayant leur résidence habituelle sur le territoire de la commune, dans un logement ou une communauté, les personnes détenues dans les établissements pénitentiaires de la commune, les personnes sans abri recensées sur le territoire de la commune et les personnes résidant habituellement dans une habitation mobile recensées sur le territoire de la commune.\n",
        "\n",
        "**PCAP** : La population comptée à part comprend certaines personnes dont la résidence habituelle est dans une autre commune mais qui ont conservé une résidence sur le territoire de la commune.\n",
        "\n",
        "**PTOT** : la population totale est la somme de la population municipale et de la population comptée à part."
      ]
    },
    {
      "cell_type": "markdown",
      "metadata": {
        "id": "4knGsG73Mgn3"
      },
      "source": [
        "### 2 - Le dataframe\n",
        "\n",
        " Quel est le type de la variable `df_pop` ?"
      ]
    },
    {
      "cell_type": "code",
      "metadata": {
        "colab": {
          "base_uri": "https://localhost:8080/"
        },
        "id": "20IFjaUnMgn3",
        "outputId": "45396c26-810b-4cdc-9adf-d6f0dedd50f1"
      },
      "source": [
        "type(df_pop)"
      ],
      "execution_count": 5,
      "outputs": [
        {
          "output_type": "execute_result",
          "data": {
            "text/plain": [
              "pandas.core.frame.DataFrame"
            ]
          },
          "metadata": {},
          "execution_count": 5
        }
      ]
    },
    {
      "cell_type": "markdown",
      "metadata": {
        "id": "0Y_hh79TMgn4"
      },
      "source": [
        "Combien de lignes et colonnes sont contenues dans `df_pop` ?"
      ]
    },
    {
      "cell_type": "code",
      "metadata": {
        "colab": {
          "base_uri": "https://localhost:8080/"
        },
        "id": "Xp_UnhzTMgn4",
        "outputId": "9d9fc6d9-2d68-4c1f-b25a-dbc676bf5f25"
      },
      "source": [
        "df_pop.shape"
      ],
      "execution_count": 6,
      "outputs": [
        {
          "output_type": "execute_result",
          "data": {
            "text/plain": [
              "(34995, 5)"
            ]
          },
          "metadata": {},
          "execution_count": 6
        }
      ]
    },
    {
      "cell_type": "markdown",
      "metadata": {
        "id": "pq6G8Zy4Mgn4"
      },
      "source": [
        "Affichez le type des colonnes"
      ]
    },
    {
      "cell_type": "code",
      "metadata": {
        "colab": {
          "base_uri": "https://localhost:8080/"
        },
        "id": "BKLzQRC3Mgn5",
        "outputId": "f1836c3d-b27e-440c-d492-79ec648739e8"
      },
      "source": [
        "df_pop.dtypes"
      ],
      "execution_count": 7,
      "outputs": [
        {
          "output_type": "execute_result",
          "data": {
            "text/plain": [
              "DEPCOM    object\n",
              "COM       object\n",
              "PMUN       int64\n",
              "PCAP       int64\n",
              "PTOT       int64\n",
              "dtype: object"
            ]
          },
          "metadata": {},
          "execution_count": 7
        }
      ]
    },
    {
      "cell_type": "markdown",
      "metadata": {
        "id": "44mR1kpvMgn5"
      },
      "source": [
        "### 3 - Qualité des données\n",
        "\n",
        "Un jeu de données contient parfois des [valeurs manquantes](https://fr.wikipedia.org/wiki/Donn%C3%A9es_manquantes), ce sont des valeurs qui ne sont pas renseignées, cela pour plusieurs raisons :\n",
        "- volontairement (ex: la valeur n'existe pas)\n",
        "- involontairement (ex: la valeur n'est pas lisible)\n",
        "- etc"
      ]
    },
    {
      "cell_type": "markdown",
      "metadata": {
        "id": "kHonMuvSMgn5"
      },
      "source": [
        "Existe-t-il des valeurs manquantes dans ce jeu de données ?"
      ]
    },
    {
      "cell_type": "code",
      "metadata": {
        "colab": {
          "base_uri": "https://localhost:8080/"
        },
        "id": "tbFWNfGdMgn5",
        "outputId": "d031d6e7-95d5-4483-fb89-46ba9e6f16c6"
      },
      "source": [
        "df_pop.isna().sum()"
      ],
      "execution_count": 8,
      "outputs": [
        {
          "output_type": "execute_result",
          "data": {
            "text/plain": [
              "DEPCOM    0\n",
              "COM       0\n",
              "PMUN      0\n",
              "PCAP      0\n",
              "PTOT      0\n",
              "dtype: int64"
            ]
          },
          "metadata": {},
          "execution_count": 8
        }
      ]
    },
    {
      "cell_type": "markdown",
      "metadata": {
        "id": "AXG372fgMgn6"
      },
      "source": [
        "Existe-t-il des duplicatas ?"
      ]
    },
    {
      "cell_type": "code",
      "metadata": {
        "colab": {
          "base_uri": "https://localhost:8080/"
        },
        "id": "XNWQimpdMgn6",
        "outputId": "2da94e97-2bda-4ec1-dba9-1ea715be2c2e"
      },
      "source": [
        "df_pop.duplicated(subset=['DEPCOM']).sum()"
      ],
      "execution_count": 9,
      "outputs": [
        {
          "output_type": "execute_result",
          "data": {
            "text/plain": [
              "0"
            ]
          },
          "metadata": {},
          "execution_count": 9
        }
      ]
    },
    {
      "cell_type": "markdown",
      "metadata": {
        "id": "nxo0i1lEMgn6"
      },
      "source": [
        "### 4 - Analyse des données\n",
        "\n",
        "Quel est le top 15 des communes les plus peuplées ?"
      ]
    },
    {
      "cell_type": "code",
      "metadata": {
        "colab": {
          "base_uri": "https://localhost:8080/",
          "height": 515
        },
        "id": "793TNgLLMgn6",
        "outputId": "097b4570-634c-43a1-b5e3-038017a8fd22"
      },
      "source": [
        "df_pop.sort_values('PTOT', ascending=False).head(15)"
      ],
      "execution_count": 10,
      "outputs": [
        {
          "output_type": "execute_result",
          "data": {
            "text/html": [
              "<div>\n",
              "<style scoped>\n",
              "    .dataframe tbody tr th:only-of-type {\n",
              "        vertical-align: middle;\n",
              "    }\n",
              "\n",
              "    .dataframe tbody tr th {\n",
              "        vertical-align: top;\n",
              "    }\n",
              "\n",
              "    .dataframe thead th {\n",
              "        text-align: right;\n",
              "    }\n",
              "</style>\n",
              "<table border=\"1\" class=\"dataframe\">\n",
              "  <thead>\n",
              "    <tr style=\"text-align: right;\">\n",
              "      <th></th>\n",
              "      <th>DEPCOM</th>\n",
              "      <th>COM</th>\n",
              "      <th>PMUN</th>\n",
              "      <th>PCAP</th>\n",
              "      <th>PTOT</th>\n",
              "    </tr>\n",
              "  </thead>\n",
              "  <tbody>\n",
              "    <tr>\n",
              "      <th>11831</th>\n",
              "      <td>31555</td>\n",
              "      <td>Toulouse</td>\n",
              "      <td>479553</td>\n",
              "      <td>5256</td>\n",
              "      <td>484809</td>\n",
              "    </tr>\n",
              "    <tr>\n",
              "      <th>1958</th>\n",
              "      <td>06088</td>\n",
              "      <td>Nice</td>\n",
              "      <td>340017</td>\n",
              "      <td>2962</td>\n",
              "      <td>342979</td>\n",
              "    </tr>\n",
              "    <tr>\n",
              "      <th>16332</th>\n",
              "      <td>44109</td>\n",
              "      <td>Nantes</td>\n",
              "      <td>309346</td>\n",
              "      <td>5157</td>\n",
              "      <td>314503</td>\n",
              "    </tr>\n",
              "    <tr>\n",
              "      <th>13035</th>\n",
              "      <td>34172</td>\n",
              "      <td>Montpellier</td>\n",
              "      <td>285121</td>\n",
              "      <td>3479</td>\n",
              "      <td>288600</td>\n",
              "    </tr>\n",
              "    <tr>\n",
              "      <th>26571</th>\n",
              "      <td>67482</td>\n",
              "      <td>Strasbourg</td>\n",
              "      <td>280966</td>\n",
              "      <td>2779</td>\n",
              "      <td>283745</td>\n",
              "    </tr>\n",
              "    <tr>\n",
              "      <th>12386</th>\n",
              "      <td>33063</td>\n",
              "      <td>Bordeaux</td>\n",
              "      <td>254436</td>\n",
              "      <td>3368</td>\n",
              "      <td>257804</td>\n",
              "    </tr>\n",
              "    <tr>\n",
              "      <th>29311</th>\n",
              "      <td>75115</td>\n",
              "      <td>Paris 15e Arrondissement</td>\n",
              "      <td>233392</td>\n",
              "      <td>1786</td>\n",
              "      <td>235178</td>\n",
              "    </tr>\n",
              "    <tr>\n",
              "      <th>22165</th>\n",
              "      <td>59350</td>\n",
              "      <td>Lille</td>\n",
              "      <td>232787</td>\n",
              "      <td>2055</td>\n",
              "      <td>234842</td>\n",
              "    </tr>\n",
              "    <tr>\n",
              "      <th>13425</th>\n",
              "      <td>35238</td>\n",
              "      <td>Rennes</td>\n",
              "      <td>216815</td>\n",
              "      <td>4110</td>\n",
              "      <td>220925</td>\n",
              "    </tr>\n",
              "    <tr>\n",
              "      <th>29316</th>\n",
              "      <td>75120</td>\n",
              "      <td>Paris 20e Arrondissement</td>\n",
              "      <td>195814</td>\n",
              "      <td>925</td>\n",
              "      <td>196739</td>\n",
              "    </tr>\n",
              "    <tr>\n",
              "      <th>29314</th>\n",
              "      <td>75118</td>\n",
              "      <td>Paris 18e Arrondissement</td>\n",
              "      <td>195233</td>\n",
              "      <td>898</td>\n",
              "      <td>196131</td>\n",
              "    </tr>\n",
              "    <tr>\n",
              "      <th>29315</th>\n",
              "      <td>75119</td>\n",
              "      <td>Paris 19e Arrondissement</td>\n",
              "      <td>187015</td>\n",
              "      <td>1051</td>\n",
              "      <td>188066</td>\n",
              "    </tr>\n",
              "    <tr>\n",
              "      <th>18585</th>\n",
              "      <td>51454</td>\n",
              "      <td>Reims</td>\n",
              "      <td>182460</td>\n",
              "      <td>3116</td>\n",
              "      <td>185576</td>\n",
              "    </tr>\n",
              "    <tr>\n",
              "      <th>29309</th>\n",
              "      <td>75113</td>\n",
              "      <td>Paris 13e Arrondissement</td>\n",
              "      <td>182099</td>\n",
              "      <td>1300</td>\n",
              "      <td>183399</td>\n",
              "    </tr>\n",
              "    <tr>\n",
              "      <th>15856</th>\n",
              "      <td>42218</td>\n",
              "      <td>Saint-Étienne</td>\n",
              "      <td>172565</td>\n",
              "      <td>1955</td>\n",
              "      <td>174520</td>\n",
              "    </tr>\n",
              "  </tbody>\n",
              "</table>\n",
              "</div>"
            ],
            "text/plain": [
              "      DEPCOM                       COM    PMUN  PCAP    PTOT\n",
              "11831  31555                  Toulouse  479553  5256  484809\n",
              "1958   06088                      Nice  340017  2962  342979\n",
              "16332  44109                    Nantes  309346  5157  314503\n",
              "13035  34172               Montpellier  285121  3479  288600\n",
              "26571  67482                Strasbourg  280966  2779  283745\n",
              "12386  33063                  Bordeaux  254436  3368  257804\n",
              "29311  75115  Paris 15e Arrondissement  233392  1786  235178\n",
              "22165  59350                     Lille  232787  2055  234842\n",
              "13425  35238                    Rennes  216815  4110  220925\n",
              "29316  75120  Paris 20e Arrondissement  195814   925  196739\n",
              "29314  75118  Paris 18e Arrondissement  195233   898  196131\n",
              "29315  75119  Paris 19e Arrondissement  187015  1051  188066\n",
              "18585  51454                     Reims  182460  3116  185576\n",
              "29309  75113  Paris 13e Arrondissement  182099  1300  183399\n",
              "15856  42218             Saint-Étienne  172565  1955  174520"
            ]
          },
          "metadata": {},
          "execution_count": 10
        }
      ]
    },
    {
      "cell_type": "markdown",
      "metadata": {
        "id": "wrUKswuJMgn7"
      },
      "source": [
        " \n"
      ]
    },
    {
      "cell_type": "markdown",
      "metadata": {
        "id": "1Lvlsk_iMgn7"
      },
      "source": [
        "Affichez les statistiques élémentaires (min, max, moyenne). Quel est la taille de la plus petite population ?"
      ]
    },
    {
      "cell_type": "code",
      "metadata": {
        "colab": {
          "base_uri": "https://localhost:8080/"
        },
        "id": "sjoXVyeiMgn7",
        "outputId": "e1bf23b0-bf02-45a1-a4d6-b052061b5706"
      },
      "source": [
        "df_pop['PTOT'].describe()"
      ],
      "execution_count": 11,
      "outputs": [
        {
          "output_type": "execute_result",
          "data": {
            "text/plain": [
              "count     34995.000000\n",
              "mean       1936.307815\n",
              "std        8696.358429\n",
              "min           0.000000\n",
              "25%         203.000000\n",
              "50%         468.000000\n",
              "75%        1184.000000\n",
              "max      484809.000000\n",
              "Name: PTOT, dtype: float64"
            ]
          },
          "metadata": {},
          "execution_count": 11
        }
      ]
    },
    {
      "cell_type": "markdown",
      "metadata": {
        "id": "aEV9f7aOMgn8"
      },
      "source": [
        "Pensez-vous que la distribution des données est très homogène autour de la valeur médiane, ou au contraire très variable ? Pour répondre à cette question vous pouvez faire un diagramme en boîte."
      ]
    },
    {
      "cell_type": "code",
      "metadata": {
        "colab": {
          "base_uri": "https://localhost:8080/",
          "height": 265
        },
        "id": "PKAqFrb8Mgn8",
        "outputId": "db145481-7975-4500-f9da-53eaae7051c2"
      },
      "source": [
        "df_pop.boxplot('PTOT', showfliers=False);"
      ],
      "execution_count": 12,
      "outputs": [
        {
          "output_type": "display_data",
          "data": {
            "image/png": "[encoded data removed]",
            "text/plain": [
              "<Figure size 432x288 with 1 Axes>"
            ]
          },
          "metadata": {
            "needs_background": "light"
          }
        }
      ]
    },
    {
      "cell_type": "markdown",
      "metadata": {
        "id": "MccnaorvMgn8"
      },
      "source": [
        "Quelles sont les communes n'ayant aucun habitant ?"
      ]
    },
    {
      "cell_type": "code",
      "metadata": {
        "colab": {
          "base_uri": "https://localhost:8080/",
          "height": 235
        },
        "id": "YMoLdmaSMgn9",
        "outputId": "dabf8012-bc52-4ef3-d6aa-795a22c89e46"
      },
      "source": [
        "df_pop[df_pop['PTOT'] == 0]"
      ],
      "execution_count": 13,
      "outputs": [
        {
          "output_type": "execute_result",
          "data": {
            "text/html": [
              "<div>\n",
              "<style scoped>\n",
              "    .dataframe tbody tr th:only-of-type {\n",
              "        vertical-align: middle;\n",
              "    }\n",
              "\n",
              "    .dataframe tbody tr th {\n",
              "        vertical-align: top;\n",
              "    }\n",
              "\n",
              "    .dataframe thead th {\n",
              "        text-align: right;\n",
              "    }\n",
              "</style>\n",
              "<table border=\"1\" class=\"dataframe\">\n",
              "  <thead>\n",
              "    <tr style=\"text-align: right;\">\n",
              "      <th></th>\n",
              "      <th>DEPCOM</th>\n",
              "      <th>COM</th>\n",
              "      <th>PMUN</th>\n",
              "      <th>PCAP</th>\n",
              "      <th>PTOT</th>\n",
              "    </tr>\n",
              "  </thead>\n",
              "  <tbody>\n",
              "    <tr>\n",
              "      <th>20074</th>\n",
              "      <td>55039</td>\n",
              "      <td>Beaumont-en-Verdunois</td>\n",
              "      <td>0</td>\n",
              "      <td>0</td>\n",
              "      <td>0</td>\n",
              "    </tr>\n",
              "    <tr>\n",
              "      <th>20085</th>\n",
              "      <td>55050</td>\n",
              "      <td>Bezonvaux</td>\n",
              "      <td>0</td>\n",
              "      <td>0</td>\n",
              "      <td>0</td>\n",
              "    </tr>\n",
              "    <tr>\n",
              "      <th>20161</th>\n",
              "      <td>55139</td>\n",
              "      <td>Cumières-le-Mort-Homme</td>\n",
              "      <td>0</td>\n",
              "      <td>0</td>\n",
              "      <td>0</td>\n",
              "    </tr>\n",
              "    <tr>\n",
              "      <th>20205</th>\n",
              "      <td>55189</td>\n",
              "      <td>Fleury-devant-Douaumont</td>\n",
              "      <td>0</td>\n",
              "      <td>0</td>\n",
              "      <td>0</td>\n",
              "    </tr>\n",
              "    <tr>\n",
              "      <th>20243</th>\n",
              "      <td>55239</td>\n",
              "      <td>Haumont-près-Samogneux</td>\n",
              "      <td>0</td>\n",
              "      <td>0</td>\n",
              "      <td>0</td>\n",
              "    </tr>\n",
              "    <tr>\n",
              "      <th>20301</th>\n",
              "      <td>55307</td>\n",
              "      <td>Louvemont-Côte-du-Poivre</td>\n",
              "      <td>0</td>\n",
              "      <td>0</td>\n",
              "      <td>0</td>\n",
              "    </tr>\n",
              "  </tbody>\n",
              "</table>\n",
              "</div>"
            ],
            "text/plain": [
              "      DEPCOM                       COM  PMUN  PCAP  PTOT\n",
              "20074  55039     Beaumont-en-Verdunois     0     0     0\n",
              "20085  55050                 Bezonvaux     0     0     0\n",
              "20161  55139    Cumières-le-Mort-Homme     0     0     0\n",
              "20205  55189   Fleury-devant-Douaumont     0     0     0\n",
              "20243  55239    Haumont-près-Samogneux     0     0     0\n",
              "20301  55307  Louvemont-Côte-du-Poivre     0     0     0"
            ]
          },
          "metadata": {},
          "execution_count": 13
        }
      ]
    },
    {
      "cell_type": "markdown",
      "metadata": {
        "id": "6Iu55eCwMgn9"
      },
      "source": [
        "Toutes les communes n'ayant aucun habitant sont dans le département 55 !"
      ]
    },
    {
      "cell_type": "markdown",
      "metadata": {
        "id": "bbdiSm9tMgn9"
      },
      "source": [
        "Quel est le total de la population ?"
      ]
    },
    {
      "cell_type": "code",
      "metadata": {
        "colab": {
          "base_uri": "https://localhost:8080/"
        },
        "id": "CET9ZAoMMgn9",
        "outputId": "92c145b3-180e-4b79-8772-72f31ec133b3"
      },
      "source": [
        "df_pop['PTOT'].sum()"
      ],
      "execution_count": 14,
      "outputs": [
        {
          "output_type": "execute_result",
          "data": {
            "text/plain": [
              "67761092"
            ]
          },
          "metadata": {},
          "execution_count": 14
        }
      ]
    },
    {
      "cell_type": "markdown",
      "metadata": {
        "id": "BxyjAGp2Mgn9"
      },
      "source": [
        "Pour simplifier le travail, on exploitera uniquement `PTOT` comme indicateur de la taille de la population. Supprimez donc `PMUN` et `PCAP`."
      ]
    },
    {
      "cell_type": "code",
      "metadata": {
        "id": "kYunSz9YMgn-"
      },
      "source": [
        "df_pop = df_pop.drop(['PMUN', 'PCAP'], axis=1)"
      ],
      "execution_count": 15,
      "outputs": []
    },
    {
      "cell_type": "markdown",
      "metadata": {
        "id": "8-DgINnnMgn-"
      },
      "source": [
        "Renommez la colonne `PTOT` en `population`, `DEPCOM` en `code_dep`, `COM` en `nom_dep`."
      ]
    },
    {
      "cell_type": "code",
      "metadata": {
        "id": "GyApE76HMgn-"
      },
      "source": [
        "df_pop = df_pop.rename({'PTOT':'population',\n",
        "                        'DEPCOM': 'code_dep',\n",
        "                        'COM': 'nom_dep'}, axis=1)"
      ],
      "execution_count": 16,
      "outputs": []
    },
    {
      "cell_type": "markdown",
      "metadata": {
        "id": "i3_REkkDMgn-"
      },
      "source": [
        "Nous allons utiliser ce fichier de données dans la suite du projet, seulement un problème persiste, les villes avec des arrondissements doivent être fusionnées, pour ne plus prendre en considération ces derniers. Première étape, lister les communes dont le nom termine par `Arrondissement`. ([aide](https://pandas.pydata.org/pandas-docs/stable/reference/api/pandas.Series.str.endswith.html))"
      ]
    },
    {
      "cell_type": "code",
      "metadata": {
        "colab": {
          "base_uri": "https://localhost:8080/",
          "height": 204
        },
        "id": "a1a5fafVMgn-",
        "outputId": "ec7ff0c8-7f00-4bce-9531-ab2b3e10136e"
      },
      "source": [
        "arrondissement_filter = df_pop['nom_dep'].str.endswith('Arrondissement')\n",
        "df_pop[arrondissement_filter].head()"
      ],
      "execution_count": 17,
      "outputs": [
        {
          "output_type": "execute_result",
          "data": {
            "text/html": [
              "<div>\n",
              "<style scoped>\n",
              "    .dataframe tbody tr th:only-of-type {\n",
              "        vertical-align: middle;\n",
              "    }\n",
              "\n",
              "    .dataframe tbody tr th {\n",
              "        vertical-align: top;\n",
              "    }\n",
              "\n",
              "    .dataframe thead th {\n",
              "        text-align: right;\n",
              "    }\n",
              "</style>\n",
              "<table border=\"1\" class=\"dataframe\">\n",
              "  <thead>\n",
              "    <tr style=\"text-align: right;\">\n",
              "      <th></th>\n",
              "      <th>code_dep</th>\n",
              "      <th>nom_dep</th>\n",
              "      <th>population</th>\n",
              "    </tr>\n",
              "  </thead>\n",
              "  <tbody>\n",
              "    <tr>\n",
              "      <th>4349</th>\n",
              "      <td>13201</td>\n",
              "      <td>Marseille 1er Arrondissement</td>\n",
              "      <td>39967</td>\n",
              "    </tr>\n",
              "    <tr>\n",
              "      <th>4350</th>\n",
              "      <td>13202</td>\n",
              "      <td>Marseille 2e Arrondissement</td>\n",
              "      <td>24873</td>\n",
              "    </tr>\n",
              "    <tr>\n",
              "      <th>4351</th>\n",
              "      <td>13203</td>\n",
              "      <td>Marseille 3e Arrondissement</td>\n",
              "      <td>48990</td>\n",
              "    </tr>\n",
              "    <tr>\n",
              "      <th>4352</th>\n",
              "      <td>13204</td>\n",
              "      <td>Marseille 4e Arrondissement</td>\n",
              "      <td>48791</td>\n",
              "    </tr>\n",
              "    <tr>\n",
              "      <th>4353</th>\n",
              "      <td>13205</td>\n",
              "      <td>Marseille 5e Arrondissement</td>\n",
              "      <td>46499</td>\n",
              "    </tr>\n",
              "  </tbody>\n",
              "</table>\n",
              "</div>"
            ],
            "text/plain": [
              "     code_dep                       nom_dep  population\n",
              "4349    13201  Marseille 1er Arrondissement       39967\n",
              "4350    13202   Marseille 2e Arrondissement       24873\n",
              "4351    13203   Marseille 3e Arrondissement       48990\n",
              "4352    13204   Marseille 4e Arrondissement       48791\n",
              "4353    13205   Marseille 5e Arrondissement       46499"
            ]
          },
          "metadata": {},
          "execution_count": 17
        }
      ]
    },
    {
      "cell_type": "markdown",
      "metadata": {
        "id": "Ddc8Ki5UMgn_"
      },
      "source": [
        "Calculez la population totale de Marseille, de même pour Lyon et Paris."
      ]
    },
    {
      "cell_type": "code",
      "metadata": {
        "id": "ZC2QGy7tMgn_"
      },
      "source": [
        "pop_paris = df_pop[(arrondissement_filter) & (df_pop['nom_dep'].str.startswith('Paris'))]['population'].sum()\n",
        "pop_marseille = df_pop[(arrondissement_filter) & (df_pop['nom_dep'].str.startswith('Marseille'))]['population'].sum()\n",
        "pop_lyon = df_pop[(arrondissement_filter) & (df_pop['nom_dep'].str.startswith('Lyon'))]['population'].sum()"
      ],
      "execution_count": 18,
      "outputs": []
    },
    {
      "cell_type": "code",
      "metadata": {
        "colab": {
          "base_uri": "https://localhost:8080/"
        },
        "id": "Zp02zRhubDzH",
        "outputId": "ec82574f-a129-4efb-efc5-f94ae927f287"
      },
      "source": [
        "pop_paris"
      ],
      "execution_count": 19,
      "outputs": [
        {
          "output_type": "execute_result",
          "data": {
            "text/plain": [
              "2204773"
            ]
          },
          "metadata": {},
          "execution_count": 19
        }
      ]
    },
    {
      "cell_type": "code",
      "metadata": {
        "colab": {
          "base_uri": "https://localhost:8080/"
        },
        "id": "3dt5KfjTbDUJ",
        "outputId": "874e51fe-e545-495a-9cc8-d92680f12198"
      },
      "source": [
        "pop_marseille"
      ],
      "execution_count": 20,
      "outputs": [
        {
          "output_type": "execute_result",
          "data": {
            "text/plain": [
              "869815"
            ]
          },
          "metadata": {},
          "execution_count": 20
        }
      ]
    },
    {
      "cell_type": "code",
      "metadata": {
        "colab": {
          "base_uri": "https://localhost:8080/"
        },
        "id": "uxvNVWHMa_zY",
        "outputId": "59284a65-dd81-4421-95be-0180fca782c1"
      },
      "source": [
        "pop_lyon"
      ],
      "execution_count": 21,
      "outputs": [
        {
          "output_type": "execute_result",
          "data": {
            "text/plain": [
              "522679"
            ]
          },
          "metadata": {},
          "execution_count": 21
        }
      ]
    },
    {
      "cell_type": "markdown",
      "metadata": {
        "id": "A3MSUeLEMgn_"
      },
      "source": [
        "Supprimez les communes dont le nom termine par `Arrondissement`."
      ]
    },
    {
      "cell_type": "code",
      "metadata": {
        "id": "C8mj2A8aMgn_"
      },
      "source": [
        "df_pop = df_pop.drop(df_pop[df_pop['nom_dep'].str.endswith('Arrondissement')].index, axis=0)"
      ],
      "execution_count": 22,
      "outputs": []
    },
    {
      "cell_type": "markdown",
      "metadata": {
        "id": "Tcit9iITMgn_"
      },
      "source": [
        "Ajouter les communes fusionnées dans le dataframe (3 lignes). ([aide](https://pandas.pydata.org/pandas-docs/stable/reference/api/pandas.DataFrame.append.html))"
      ]
    },
    {
      "cell_type": "code",
      "metadata": {
        "id": "7_UR5ZcHMgn_"
      },
      "source": [
        "df_pop = df_pop.append(pd.DataFrame([['75056', 'Paris', pop_paris],\n",
        "                                     ['69123', 'Lyon', pop_lyon],\n",
        "                                     ['13055', 'Marseille', pop_marseille]], \n",
        "                                    columns=['code_dep', 'nom_dep', 'population']))"
      ],
      "execution_count": 23,
      "outputs": []
    },
    {
      "cell_type": "markdown",
      "metadata": {
        "id": "tQ3Kz54iMgoA"
      },
      "source": [
        "Réinitialiser les index du dataframe."
      ]
    },
    {
      "cell_type": "code",
      "metadata": {
        "id": "re9GpDWTMgoA"
      },
      "source": [
        "df_pop = df_pop.reset_index(drop=True)"
      ],
      "execution_count": 24,
      "outputs": []
    },
    {
      "cell_type": "code",
      "metadata": {
        "colab": {
          "base_uri": "https://localhost:8080/",
          "height": 420
        },
        "id": "aHRqYK8Nb1gq",
        "outputId": "a869fd04-6b6b-4753-c061-bcb1d52962cd"
      },
      "source": [
        "df_pop"
      ],
      "execution_count": 25,
      "outputs": [
        {
          "output_type": "execute_result",
          "data": {
            "text/html": [
              "<div>\n",
              "<style scoped>\n",
              "    .dataframe tbody tr th:only-of-type {\n",
              "        vertical-align: middle;\n",
              "    }\n",
              "\n",
              "    .dataframe tbody tr th {\n",
              "        vertical-align: top;\n",
              "    }\n",
              "\n",
              "    .dataframe thead th {\n",
              "        text-align: right;\n",
              "    }\n",
              "</style>\n",
              "<table border=\"1\" class=\"dataframe\">\n",
              "  <thead>\n",
              "    <tr style=\"text-align: right;\">\n",
              "      <th></th>\n",
              "      <th>code_dep</th>\n",
              "      <th>nom_dep</th>\n",
              "      <th>population</th>\n",
              "    </tr>\n",
              "  </thead>\n",
              "  <tbody>\n",
              "    <tr>\n",
              "      <th>0</th>\n",
              "      <td>01001</td>\n",
              "      <td>L' Abergement-Clémenciat</td>\n",
              "      <td>794</td>\n",
              "    </tr>\n",
              "    <tr>\n",
              "      <th>1</th>\n",
              "      <td>01002</td>\n",
              "      <td>L' Abergement-de-Varey</td>\n",
              "      <td>249</td>\n",
              "    </tr>\n",
              "    <tr>\n",
              "      <th>2</th>\n",
              "      <td>01004</td>\n",
              "      <td>Ambérieu-en-Bugey</td>\n",
              "      <td>14428</td>\n",
              "    </tr>\n",
              "    <tr>\n",
              "      <th>3</th>\n",
              "      <td>01005</td>\n",
              "      <td>Ambérieux-en-Dombes</td>\n",
              "      <td>1723</td>\n",
              "    </tr>\n",
              "    <tr>\n",
              "      <th>4</th>\n",
              "      <td>01006</td>\n",
              "      <td>Ambléon</td>\n",
              "      <td>117</td>\n",
              "    </tr>\n",
              "    <tr>\n",
              "      <th>...</th>\n",
              "      <td>...</td>\n",
              "      <td>...</td>\n",
              "      <td>...</td>\n",
              "    </tr>\n",
              "    <tr>\n",
              "      <th>34948</th>\n",
              "      <td>97422</td>\n",
              "      <td>Le Tampon</td>\n",
              "      <td>79705</td>\n",
              "    </tr>\n",
              "    <tr>\n",
              "      <th>34949</th>\n",
              "      <td>97423</td>\n",
              "      <td>Les Trois-Bassins</td>\n",
              "      <td>7234</td>\n",
              "    </tr>\n",
              "    <tr>\n",
              "      <th>34950</th>\n",
              "      <td>75056</td>\n",
              "      <td>Paris</td>\n",
              "      <td>2204773</td>\n",
              "    </tr>\n",
              "    <tr>\n",
              "      <th>34951</th>\n",
              "      <td>69123</td>\n",
              "      <td>Lyon</td>\n",
              "      <td>522679</td>\n",
              "    </tr>\n",
              "    <tr>\n",
              "      <th>34952</th>\n",
              "      <td>13055</td>\n",
              "      <td>Marseille</td>\n",
              "      <td>869815</td>\n",
              "    </tr>\n",
              "  </tbody>\n",
              "</table>\n",
              "<p>34953 rows × 3 columns</p>\n",
              "</div>"
            ],
            "text/plain": [
              "      code_dep                   nom_dep  population\n",
              "0        01001  L' Abergement-Clémenciat         794\n",
              "1        01002    L' Abergement-de-Varey         249\n",
              "2        01004         Ambérieu-en-Bugey       14428\n",
              "3        01005       Ambérieux-en-Dombes        1723\n",
              "4        01006                   Ambléon         117\n",
              "...        ...                       ...         ...\n",
              "34948    97422                 Le Tampon       79705\n",
              "34949    97423         Les Trois-Bassins        7234\n",
              "34950    75056                     Paris     2204773\n",
              "34951    69123                      Lyon      522679\n",
              "34952    13055                 Marseille      869815\n",
              "\n",
              "[34953 rows x 3 columns]"
            ]
          },
          "metadata": {},
          "execution_count": 25
        }
      ]
    },
    {
      "cell_type": "markdown",
      "metadata": {
        "id": "ByvTYVSfMgoA"
      },
      "source": [
        "-----------\n",
        "\n",
        "## Partie 2 - Qualité de la couverture du réseau mobile\n",
        "### 1 - Chargement des données"
      ]
    },
    {
      "cell_type": "markdown",
      "metadata": {
        "id": "wu5DH9P5MgoA"
      },
      "source": [
        "Téléchargez et importez le fichier à [l'URL suivante](https://www.data.gouv.fr/fr/datasets/r/77ca5457-c1fe-4450-9761-1a6a598921c0), stockez le résultat du chargement dans la variable `df_reseau`.\n",
        "\n",
        "**Petit coup de pouce pour démarrer**, pour chacune des conditions suivantes, trouvez le paramètre de la fonction `read_csv` adapté :\n",
        "- les colonnes sont séparées par des points-virgules\n",
        "- l'encodage a utiliser est *iso-8859-1*"
      ]
    },
    {
      "cell_type": "code",
      "metadata": {
        "colab": {
          "base_uri": "https://localhost:8080/"
        },
        "id": "jcGKG71YMgoA",
        "outputId": "37e6995e-e330-4c9c-f690-5288a449792d"
      },
      "source": [
        "df_reseau = pd.read_csv('2020-t2-metropole-sites (1).csv', sep=';', encoding='iso-8859-1')"
      ],
      "execution_count": 28,
      "outputs": [
        {
          "output_type": "stream",
          "name": "stderr",
          "text": [
            "/usr/local/lib/python3.7/dist-packages/IPython/core/interactiveshell.py:2718: DtypeWarning: Columns (3,4,9) have mixed types.Specify dtype option on import or set low_memory=False.\n",
            "  interactivity=interactivity, compiler=compiler, result=result)\n"
          ]
        }
      ]
    },
    {
      "cell_type": "markdown",
      "metadata": {
        "id": "9VICsQxGMgoA"
      },
      "source": [
        "Familliarisez vous avec les données, le détails des colonnes est disponible [ici](https://www.data.gouv.fr/fr/datasets/mon-reseau-mobile/#resource-77ca5457-c1fe-4450-9761-1a6a598921c0)."
      ]
    },
    {
      "cell_type": "markdown",
      "metadata": {
        "id": "29HZdA3_MgoA"
      },
      "source": [
        "### 2 - Qualité des données"
      ]
    },
    {
      "cell_type": "markdown",
      "metadata": {
        "id": "_shqjRjDMgoA"
      },
      "source": [
        "Calculer le nombre de valeurs manquantes par colonne."
      ]
    },
    {
      "cell_type": "code",
      "metadata": {
        "colab": {
          "base_uri": "https://localhost:8080/"
        },
        "id": "JgxY8IHCMgoB",
        "outputId": "b9cfabd8-14b4-4c71-fa7a-a469540b3c64"
      },
      "source": [
        "df_reseau.isna().sum()"
      ],
      "execution_count": 29,
      "outputs": [
        {
          "output_type": "execute_result",
          "data": {
            "text/plain": [
              "code_op          0\n",
              "nom_op           0\n",
              "num_site         0\n",
              "x_lambert_93     0\n",
              "y_lambert_93     0\n",
              "nom_reg          0\n",
              "nom_dep          0\n",
              "insee_dep        0\n",
              "nom_com         11\n",
              "insee_com        0\n",
              "site_2g          0\n",
              "site_3g          0\n",
              "site_4g          0\n",
              "mes_4g_trim      0\n",
              "site_ZB          0\n",
              "site_DCC         0\n",
              "dtype: int64"
            ]
          },
          "metadata": {},
          "execution_count": 29
        }
      ]
    },
    {
      "cell_type": "markdown",
      "metadata": {
        "id": "9ghSo74tMgoB"
      },
      "source": [
        "Existe-t-il des duplicatas ? si oui, supprimez les."
      ]
    },
    {
      "cell_type": "code",
      "metadata": {
        "id": "AoBSfInQMgoB"
      },
      "source": [
        "df_reseau.duplicated().sum()\n",
        "df_reseau = df_reseau.drop_duplicates()"
      ],
      "execution_count": 30,
      "outputs": []
    },
    {
      "cell_type": "markdown",
      "metadata": {
        "id": "9T1q9gChMgoB"
      },
      "source": [
        "Supprimez les variables suivantes ['num_site', 'code_op', 'x_lambert_93', 'y_lambert_93', 'site_ZB', 'site_DCC']."
      ]
    },
    {
      "cell_type": "code",
      "metadata": {
        "id": "sLj5OdjmMgoB"
      },
      "source": [
        "df_reseau = df_reseau.drop(['num_site', 'code_op', 'x_lambert_93',\n",
        "                            'y_lambert_93', 'mes_4g_trim', 'site_ZB', 'site_DCC'], axis=1)"
      ],
      "execution_count": 31,
      "outputs": []
    },
    {
      "cell_type": "code",
      "metadata": {
        "colab": {
          "base_uri": "https://localhost:8080/",
          "height": 204
        },
        "id": "tqnsUqDsMgoB",
        "outputId": "18820fde-287a-4655-f876-696520c9b333"
      },
      "source": [
        "df_reseau.head(5)"
      ],
      "execution_count": 32,
      "outputs": [
        {
          "output_type": "execute_result",
          "data": {
            "text/html": [
              "<div>\n",
              "<style scoped>\n",
              "    .dataframe tbody tr th:only-of-type {\n",
              "        vertical-align: middle;\n",
              "    }\n",
              "\n",
              "    .dataframe tbody tr th {\n",
              "        vertical-align: top;\n",
              "    }\n",
              "\n",
              "    .dataframe thead th {\n",
              "        text-align: right;\n",
              "    }\n",
              "</style>\n",
              "<table border=\"1\" class=\"dataframe\">\n",
              "  <thead>\n",
              "    <tr style=\"text-align: right;\">\n",
              "      <th></th>\n",
              "      <th>nom_op</th>\n",
              "      <th>nom_reg</th>\n",
              "      <th>nom_dep</th>\n",
              "      <th>insee_dep</th>\n",
              "      <th>nom_com</th>\n",
              "      <th>insee_com</th>\n",
              "      <th>site_2g</th>\n",
              "      <th>site_3g</th>\n",
              "      <th>site_4g</th>\n",
              "    </tr>\n",
              "  </thead>\n",
              "  <tbody>\n",
              "    <tr>\n",
              "      <th>0</th>\n",
              "      <td>Orange</td>\n",
              "      <td>AUVERGNE RHONE ALPES</td>\n",
              "      <td>AIN</td>\n",
              "      <td>01</td>\n",
              "      <td>BOURG EN BRESSE</td>\n",
              "      <td>01053</td>\n",
              "      <td>1</td>\n",
              "      <td>1</td>\n",
              "      <td>1</td>\n",
              "    </tr>\n",
              "    <tr>\n",
              "      <th>1</th>\n",
              "      <td>Orange</td>\n",
              "      <td>AUVERGNE RHONE ALPES</td>\n",
              "      <td>AIN</td>\n",
              "      <td>01</td>\n",
              "      <td>DAGNEUX</td>\n",
              "      <td>01142</td>\n",
              "      <td>1</td>\n",
              "      <td>1</td>\n",
              "      <td>1</td>\n",
              "    </tr>\n",
              "    <tr>\n",
              "      <th>2</th>\n",
              "      <td>Orange</td>\n",
              "      <td>AUVERGNE RHONE ALPES</td>\n",
              "      <td>AIN</td>\n",
              "      <td>01</td>\n",
              "      <td>TRAMOYES</td>\n",
              "      <td>01424</td>\n",
              "      <td>1</td>\n",
              "      <td>1</td>\n",
              "      <td>1</td>\n",
              "    </tr>\n",
              "    <tr>\n",
              "      <th>3</th>\n",
              "      <td>Orange</td>\n",
              "      <td>AUVERGNE RHONE ALPES</td>\n",
              "      <td>AIN</td>\n",
              "      <td>01</td>\n",
              "      <td>NANTUA</td>\n",
              "      <td>01269</td>\n",
              "      <td>1</td>\n",
              "      <td>1</td>\n",
              "      <td>1</td>\n",
              "    </tr>\n",
              "    <tr>\n",
              "      <th>4</th>\n",
              "      <td>Orange</td>\n",
              "      <td>AUVERGNE RHONE ALPES</td>\n",
              "      <td>AIN</td>\n",
              "      <td>01</td>\n",
              "      <td>NEYROLLES</td>\n",
              "      <td>01274</td>\n",
              "      <td>1</td>\n",
              "      <td>1</td>\n",
              "      <td>1</td>\n",
              "    </tr>\n",
              "  </tbody>\n",
              "</table>\n",
              "</div>"
            ],
            "text/plain": [
              "   nom_op               nom_reg nom_dep  ... site_2g site_3g site_4g\n",
              "0  Orange  AUVERGNE RHONE ALPES     AIN  ...       1       1       1\n",
              "1  Orange  AUVERGNE RHONE ALPES     AIN  ...       1       1       1\n",
              "2  Orange  AUVERGNE RHONE ALPES     AIN  ...       1       1       1\n",
              "3  Orange  AUVERGNE RHONE ALPES     AIN  ...       1       1       1\n",
              "4  Orange  AUVERGNE RHONE ALPES     AIN  ...       1       1       1\n",
              "\n",
              "[5 rows x 9 columns]"
            ]
          },
          "metadata": {},
          "execution_count": 32
        }
      ]
    },
    {
      "cell_type": "markdown",
      "metadata": {
        "id": "q9jvcS82MgoB"
      },
      "source": [
        "Quels sont les départements listés dans ce fichier ? "
      ]
    },
    {
      "cell_type": "code",
      "metadata": {
        "colab": {
          "base_uri": "https://localhost:8080/"
        },
        "id": "WAavaWOMMgoC",
        "outputId": "d218b587-e16d-4787-82dd-c38153155fca"
      },
      "source": [
        "df_reseau['nom_dep'].unique()"
      ],
      "execution_count": 33,
      "outputs": [
        {
          "output_type": "execute_result",
          "data": {
            "text/plain": [
              "array(['AIN', 'AISNE', 'ALLIER', 'ALPES-DE-HAUTE-PROVENCE',\n",
              "       'HAUTES-ALPES', 'ALPES-MARITIMES', 'ARDECHE', 'ARDENNES', 'ARIEGE',\n",
              "       'AUBE', 'HAUTE-MARNE', 'AUDE', 'AVEYRON', 'BOUCHES-DU-RHONE',\n",
              "       'CALVADOS', 'CANTAL', 'CHARENTE', 'CHARENTE-MARITIME', 'CHER',\n",
              "       'CORREZE', \"COTE-D'OR\", \"COTES-D'ARMOR\", 'CREUSE', 'INDRE',\n",
              "       'DORDOGNE', 'DOUBS', 'DROME', 'EURE', 'SEINE-MARITIME',\n",
              "       'EURE-ET-LOIR', 'FINISTERE', 'CORSE-DU-SUD', 'HAUTE-CORSE', 'GARD',\n",
              "       'HAUTE-GARONNE', 'GERS', 'GIRONDE', 'HERAULT', 'ILLE-ET-VILAINE',\n",
              "       'INDRE-ET-LOIRE', 'ISERE', 'JURA', 'LANDES', 'LOIR-ET-CHER',\n",
              "       'LOIRE', 'RHONE', 'HAUTE-LOIRE', 'LOIRE-ATLANTIQUE', 'MORBIHAN',\n",
              "       'LOIRET', 'LOT', 'LOT-ET-GARONNE', 'LOZERE', 'MAINE-ET-LOIRE',\n",
              "       'MANCHE', 'MARNE', 'MAYENNE', 'MEURTHE-ET-MOSELLE', 'MOSELLE',\n",
              "       'MEUSE', 'NIEVRE', 'NORD', 'OISE', 'ORNE', 'PAS-DE-CALAIS',\n",
              "       'PUY-DE-DOME', 'PYRENEES-ATLANTIQUES', 'HAUTES-PYRENEES',\n",
              "       'PYRENEES-ORIENTALES', 'BAS-RHIN', 'HAUT-RHIN', 'HAUTE-SAONE',\n",
              "       'SAONE-ET-LOIRE', 'SARTHE', 'SAVOIE', 'HAUTE-SAVOIE', 'PARIS',\n",
              "       'SEINE-ET-MARNE', 'SEINE-SAINT-DENIS', 'YVELINES', \"VAL-D'OISE\",\n",
              "       'DEUX-SEVRES', 'SOMME', 'TARN', 'TARN-ET-GARONNE', 'VAR',\n",
              "       'VAUCLUSE', 'VENDEE', 'VIENNE', 'HAUTE-VIENNE', 'VOSGES', 'YONNE',\n",
              "       'TERRITOIRE DE BELFORT', 'ESSONNE', 'HAUTS-DE-SEINE',\n",
              "       'VAL-DE-MARNE', 'TERRITOIRE-DE-BELFORT', 'SEINE MARITIME', 'Ain',\n",
              "       'Allier', 'ARDÈCHE', 'Ardennes', 'FINISTÈRE', 'Aude',\n",
              "       'INDRE ET LOIRE', 'Aveyron', 'Calvados', 'COTE D\\x92OR',\n",
              "       'PUY DE DOME', 'PYRENEES ATLANTIQUES', 'Doubs', 'Eure',\n",
              "       'EURE ET LOIR', 'Jura', 'Loiret', 'Lot', 'ALPES DE HAUTE PROVENCE',\n",
              "       'HAUTES ALPES', 'ALPES MARITIMES', 'LOT ET GARONNE', 'Manche',\n",
              "       'ARIÈGE', 'MEURTHE ET MOSELLE', 'Moselle', 'CORSE DU SUD', 'Oise',\n",
              "       'PAS DE CALAIS', 'HAUTE GARONNE', 'ILLE ET VILAINE',\n",
              "       'LOIR ET CHER', 'HAUTE LOIRE', 'LOIRE ATLANTIQUE', 'Tarn',\n",
              "       'Vaucluse', 'MAINE ET LOIRE', 'BAS RHIN', 'HAUTE SAONE',\n",
              "       'SAONE ET LOIRE', 'HAUTE SAVOIE', 'HAUTE VIENNE'], dtype=object)"
            ]
          },
          "metadata": {},
          "execution_count": 33
        }
      ]
    },
    {
      "cell_type": "markdown",
      "metadata": {
        "id": "tA6KZ-PAeCey"
      },
      "source": [
        "Mettez tous les nom des regions et des département en miniscule, et remplacer le '-' par un espace."
      ]
    },
    {
      "cell_type": "code",
      "metadata": {
        "id": "XRDPV9_cMgoC"
      },
      "source": [
        "df_reseau['nom_dep'] = df_reseau['nom_dep'].str.lower().str.replace('-', ' ')\n",
        "df_reseau['nom_reg'] = df_reseau['nom_reg'].str.lower().str.replace('-', ' ')"
      ],
      "execution_count": 34,
      "outputs": []
    },
    {
      "cell_type": "code",
      "metadata": {
        "colab": {
          "base_uri": "https://localhost:8080/",
          "height": 420
        },
        "id": "bAewkT3Ed-xh",
        "outputId": "2e81d265-094e-4102-97b6-8cba804b050b"
      },
      "source": [
        "df_reseau"
      ],
      "execution_count": 35,
      "outputs": [
        {
          "output_type": "execute_result",
          "data": {
            "text/html": [
              "<div>\n",
              "<style scoped>\n",
              "    .dataframe tbody tr th:only-of-type {\n",
              "        vertical-align: middle;\n",
              "    }\n",
              "\n",
              "    .dataframe tbody tr th {\n",
              "        vertical-align: top;\n",
              "    }\n",
              "\n",
              "    .dataframe thead th {\n",
              "        text-align: right;\n",
              "    }\n",
              "</style>\n",
              "<table border=\"1\" class=\"dataframe\">\n",
              "  <thead>\n",
              "    <tr style=\"text-align: right;\">\n",
              "      <th></th>\n",
              "      <th>nom_op</th>\n",
              "      <th>nom_reg</th>\n",
              "      <th>nom_dep</th>\n",
              "      <th>insee_dep</th>\n",
              "      <th>nom_com</th>\n",
              "      <th>insee_com</th>\n",
              "      <th>site_2g</th>\n",
              "      <th>site_3g</th>\n",
              "      <th>site_4g</th>\n",
              "    </tr>\n",
              "  </thead>\n",
              "  <tbody>\n",
              "    <tr>\n",
              "      <th>0</th>\n",
              "      <td>Orange</td>\n",
              "      <td>auvergne rhone alpes</td>\n",
              "      <td>ain</td>\n",
              "      <td>01</td>\n",
              "      <td>BOURG EN BRESSE</td>\n",
              "      <td>01053</td>\n",
              "      <td>1</td>\n",
              "      <td>1</td>\n",
              "      <td>1</td>\n",
              "    </tr>\n",
              "    <tr>\n",
              "      <th>1</th>\n",
              "      <td>Orange</td>\n",
              "      <td>auvergne rhone alpes</td>\n",
              "      <td>ain</td>\n",
              "      <td>01</td>\n",
              "      <td>DAGNEUX</td>\n",
              "      <td>01142</td>\n",
              "      <td>1</td>\n",
              "      <td>1</td>\n",
              "      <td>1</td>\n",
              "    </tr>\n",
              "    <tr>\n",
              "      <th>2</th>\n",
              "      <td>Orange</td>\n",
              "      <td>auvergne rhone alpes</td>\n",
              "      <td>ain</td>\n",
              "      <td>01</td>\n",
              "      <td>TRAMOYES</td>\n",
              "      <td>01424</td>\n",
              "      <td>1</td>\n",
              "      <td>1</td>\n",
              "      <td>1</td>\n",
              "    </tr>\n",
              "    <tr>\n",
              "      <th>3</th>\n",
              "      <td>Orange</td>\n",
              "      <td>auvergne rhone alpes</td>\n",
              "      <td>ain</td>\n",
              "      <td>01</td>\n",
              "      <td>NANTUA</td>\n",
              "      <td>01269</td>\n",
              "      <td>1</td>\n",
              "      <td>1</td>\n",
              "      <td>1</td>\n",
              "    </tr>\n",
              "    <tr>\n",
              "      <th>4</th>\n",
              "      <td>Orange</td>\n",
              "      <td>auvergne rhone alpes</td>\n",
              "      <td>ain</td>\n",
              "      <td>01</td>\n",
              "      <td>NEYROLLES</td>\n",
              "      <td>01274</td>\n",
              "      <td>1</td>\n",
              "      <td>1</td>\n",
              "      <td>1</td>\n",
              "    </tr>\n",
              "    <tr>\n",
              "      <th>...</th>\n",
              "      <td>...</td>\n",
              "      <td>...</td>\n",
              "      <td>...</td>\n",
              "      <td>...</td>\n",
              "      <td>...</td>\n",
              "      <td>...</td>\n",
              "      <td>...</td>\n",
              "      <td>...</td>\n",
              "      <td>...</td>\n",
              "    </tr>\n",
              "    <tr>\n",
              "      <th>86439</th>\n",
              "      <td>Bouygues Telecom</td>\n",
              "      <td>provence alpes cote d'azur</td>\n",
              "      <td>vaucluse</td>\n",
              "      <td>84</td>\n",
              "      <td>GRAMBOIS</td>\n",
              "      <td>84052</td>\n",
              "      <td>0</td>\n",
              "      <td>1</td>\n",
              "      <td>0</td>\n",
              "    </tr>\n",
              "    <tr>\n",
              "      <th>86440</th>\n",
              "      <td>Bouygues Telecom</td>\n",
              "      <td>grand est</td>\n",
              "      <td>vosges</td>\n",
              "      <td>88</td>\n",
              "      <td>MARTIGNY-LES-GERBONVAUX</td>\n",
              "      <td>88290</td>\n",
              "      <td>0</td>\n",
              "      <td>1</td>\n",
              "      <td>0</td>\n",
              "    </tr>\n",
              "    <tr>\n",
              "      <th>86441</th>\n",
              "      <td>Bouygues Telecom</td>\n",
              "      <td>grand est</td>\n",
              "      <td>vosges</td>\n",
              "      <td>88</td>\n",
              "      <td>GRIGNONCOURT</td>\n",
              "      <td>88220</td>\n",
              "      <td>0</td>\n",
              "      <td>1</td>\n",
              "      <td>1</td>\n",
              "    </tr>\n",
              "    <tr>\n",
              "      <th>86442</th>\n",
              "      <td>Bouygues Telecom</td>\n",
              "      <td>grand est</td>\n",
              "      <td>vosges</td>\n",
              "      <td>88</td>\n",
              "      <td>PROVENCHERES-LES-DARNEY</td>\n",
              "      <td>88360</td>\n",
              "      <td>0</td>\n",
              "      <td>1</td>\n",
              "      <td>1</td>\n",
              "    </tr>\n",
              "    <tr>\n",
              "      <th>86443</th>\n",
              "      <td>Bouygues Telecom</td>\n",
              "      <td>nouvelle aquitaine</td>\n",
              "      <td>dordogne</td>\n",
              "      <td>24</td>\n",
              "      <td>VALEUIL</td>\n",
              "      <td>24064</td>\n",
              "      <td>0</td>\n",
              "      <td>1</td>\n",
              "      <td>1</td>\n",
              "    </tr>\n",
              "  </tbody>\n",
              "</table>\n",
              "<p>86331 rows × 9 columns</p>\n",
              "</div>"
            ],
            "text/plain": [
              "                 nom_op                     nom_reg  ... site_3g site_4g\n",
              "0                Orange        auvergne rhone alpes  ...       1       1\n",
              "1                Orange        auvergne rhone alpes  ...       1       1\n",
              "2                Orange        auvergne rhone alpes  ...       1       1\n",
              "3                Orange        auvergne rhone alpes  ...       1       1\n",
              "4                Orange        auvergne rhone alpes  ...       1       1\n",
              "...                 ...                         ...  ...     ...     ...\n",
              "86439  Bouygues Telecom  provence alpes cote d'azur  ...       1       0\n",
              "86440  Bouygues Telecom                   grand est  ...       1       0\n",
              "86441  Bouygues Telecom                   grand est  ...       1       1\n",
              "86442  Bouygues Telecom                   grand est  ...       1       1\n",
              "86443  Bouygues Telecom          nouvelle aquitaine  ...       1       1\n",
              "\n",
              "[86331 rows x 9 columns]"
            ]
          },
          "metadata": {},
          "execution_count": 35
        }
      ]
    },
    {
      "cell_type": "markdown",
      "metadata": {
        "id": "MXCFuzaNMgoC"
      },
      "source": [
        "### 3 - Analyse des données"
      ]
    },
    {
      "cell_type": "markdown",
      "metadata": {
        "id": "2Wc7QlpiMgoC"
      },
      "source": [
        "Quels sont les opérateurs français référencés dans ce fichier ?"
      ]
    },
    {
      "cell_type": "code",
      "metadata": {
        "colab": {
          "base_uri": "https://localhost:8080/"
        },
        "id": "QXvt7fPZMgoC",
        "outputId": "1a688893-163b-4b81-9b35-12a953e963cb"
      },
      "source": [
        "df_reseau['nom_op'].unique()"
      ],
      "execution_count": 36,
      "outputs": [
        {
          "output_type": "execute_result",
          "data": {
            "text/plain": [
              "array(['Orange', 'SFR', 'Free Mobile', 'Bouygues Telecom'], dtype=object)"
            ]
          },
          "metadata": {},
          "execution_count": 36
        }
      ]
    },
    {
      "cell_type": "markdown",
      "metadata": {
        "id": "R5nZ7PLbMgoC"
      },
      "source": [
        "Affichez le nombre de sites pour chacun des opérateurs."
      ]
    },
    {
      "cell_type": "code",
      "metadata": {
        "colab": {
          "base_uri": "https://localhost:8080/"
        },
        "id": "Xv1UWN3OMgoC",
        "outputId": "9b2a0967-05f8-4e0e-e0ee-cbca970ec2c3"
      },
      "source": [
        "df_reseau['nom_op'].value_counts()"
      ],
      "execution_count": 37,
      "outputs": [
        {
          "output_type": "execute_result",
          "data": {
            "text/plain": [
              "Orange              25141\n",
              "SFR                 22267\n",
              "Bouygues Telecom    21005\n",
              "Free Mobile         17918\n",
              "Name: nom_op, dtype: int64"
            ]
          },
          "metadata": {},
          "execution_count": 37
        }
      ]
    },
    {
      "cell_type": "markdown",
      "metadata": {
        "id": "d9LV4VD-MgoD"
      },
      "source": [
        "Affichez le nombre d'antennes en fonction des opérateurs et des technologies (indice : tableau pivot)."
      ]
    },
    {
      "cell_type": "code",
      "metadata": {
        "colab": {
          "base_uri": "https://localhost:8080/",
          "height": 235
        },
        "id": "pwzLKHFYMgoD",
        "outputId": "822befdc-d8c9-4dc1-df16-558eee81883e"
      },
      "source": [
        "df_reseau.pivot_table(['site_2g', 'site_3g', 'site_4g'], ['nom_op'], aggfunc='sum', margins=True)"
      ],
      "execution_count": 38,
      "outputs": [
        {
          "output_type": "execute_result",
          "data": {
            "text/html": [
              "<div>\n",
              "<style scoped>\n",
              "    .dataframe tbody tr th:only-of-type {\n",
              "        vertical-align: middle;\n",
              "    }\n",
              "\n",
              "    .dataframe tbody tr th {\n",
              "        vertical-align: top;\n",
              "    }\n",
              "\n",
              "    .dataframe thead th {\n",
              "        text-align: right;\n",
              "    }\n",
              "</style>\n",
              "<table border=\"1\" class=\"dataframe\">\n",
              "  <thead>\n",
              "    <tr style=\"text-align: right;\">\n",
              "      <th></th>\n",
              "      <th>site_2g</th>\n",
              "      <th>site_3g</th>\n",
              "      <th>site_4g</th>\n",
              "    </tr>\n",
              "    <tr>\n",
              "      <th>nom_op</th>\n",
              "      <th></th>\n",
              "      <th></th>\n",
              "      <th></th>\n",
              "    </tr>\n",
              "  </thead>\n",
              "  <tbody>\n",
              "    <tr>\n",
              "      <th>Bouygues Telecom</th>\n",
              "      <td>19988</td>\n",
              "      <td>20823</td>\n",
              "      <td>19158</td>\n",
              "    </tr>\n",
              "    <tr>\n",
              "      <th>Free Mobile</th>\n",
              "      <td>0</td>\n",
              "      <td>17918</td>\n",
              "      <td>16605</td>\n",
              "    </tr>\n",
              "    <tr>\n",
              "      <th>Orange</th>\n",
              "      <td>19766</td>\n",
              "      <td>24770</td>\n",
              "      <td>22620</td>\n",
              "    </tr>\n",
              "    <tr>\n",
              "      <th>SFR</th>\n",
              "      <td>20621</td>\n",
              "      <td>22093</td>\n",
              "      <td>19758</td>\n",
              "    </tr>\n",
              "    <tr>\n",
              "      <th>All</th>\n",
              "      <td>60375</td>\n",
              "      <td>85604</td>\n",
              "      <td>78141</td>\n",
              "    </tr>\n",
              "  </tbody>\n",
              "</table>\n",
              "</div>"
            ],
            "text/plain": [
              "                  site_2g  site_3g  site_4g\n",
              "nom_op                                     \n",
              "Bouygues Telecom    19988    20823    19158\n",
              "Free Mobile             0    17918    16605\n",
              "Orange              19766    24770    22620\n",
              "SFR                 20621    22093    19758\n",
              "All                 60375    85604    78141"
            ]
          },
          "metadata": {},
          "execution_count": 38
        }
      ]
    },
    {
      "cell_type": "markdown",
      "metadata": {
        "id": "lvFyT8KnMgoD"
      },
      "source": [
        "Quelles sont les 15 communes disposant du plus d'antennes, tous types confondus ? utilisez le code commune comme indicateur de regroupement (indice groupby)."
      ]
    },
    {
      "cell_type": "code",
      "metadata": {
        "id": "JCQDv56yMgoD"
      },
      "source": [
        "top15_com = df_reseau.groupby('insee_com').sum()[['site_2g', 'site_3g', 'site_4g']].sum(axis=1).sort_values(ascending=False).head(15)"
      ],
      "execution_count": 39,
      "outputs": []
    },
    {
      "cell_type": "code",
      "metadata": {
        "colab": {
          "base_uri": "https://localhost:8080/"
        },
        "id": "0QC3wuvRgYj2",
        "outputId": "3af010c9-876a-4a04-dbbf-e9f739613512"
      },
      "source": [
        "top15_com"
      ],
      "execution_count": 40,
      "outputs": [
        {
          "output_type": "execute_result",
          "data": {
            "text/plain": [
              "insee_com\n",
              "75056    1735\n",
              "31555    1114\n",
              "06088     864\n",
              "13055     624\n",
              "34172     595\n",
              "67482     546\n",
              "44109     528\n",
              "59350     522\n",
              "69123     516\n",
              "33063     495\n",
              "35238     434\n",
              "13001     420\n",
              "30189     395\n",
              "42218     358\n",
              "31555     343\n",
              "dtype: int64"
            ]
          },
          "metadata": {},
          "execution_count": 40
        }
      ]
    },
    {
      "cell_type": "markdown",
      "metadata": {
        "id": "XaqzSJd8MgoD"
      },
      "source": [
        "Avec ce top 15 des codes communes, retrouvez la taille de population associée (utilisez le fichier population). Une autre façon d'expliquer : affichez la taille de population des communes dont le numéro est contenu dans le top 15. (indice isin)"
      ]
    },
    {
      "cell_type": "code",
      "metadata": {
        "colab": {
          "base_uri": "https://localhost:8080/",
          "height": 484
        },
        "id": "ncYE25j3MgoD",
        "outputId": "3e78e0ac-1008-4d58-bea5-5402fd01f95d"
      },
      "source": [
        "df_pop[df_pop['code_dep'].isin(top15_com.index.map(str))]"
      ],
      "execution_count": 41,
      "outputs": [
        {
          "output_type": "execute_result",
          "data": {
            "text/html": [
              "<div>\n",
              "<style scoped>\n",
              "    .dataframe tbody tr th:only-of-type {\n",
              "        vertical-align: middle;\n",
              "    }\n",
              "\n",
              "    .dataframe tbody tr th {\n",
              "        vertical-align: top;\n",
              "    }\n",
              "\n",
              "    .dataframe thead th {\n",
              "        text-align: right;\n",
              "    }\n",
              "</style>\n",
              "<table border=\"1\" class=\"dataframe\">\n",
              "  <thead>\n",
              "    <tr style=\"text-align: right;\">\n",
              "      <th></th>\n",
              "      <th>code_dep</th>\n",
              "      <th>nom_dep</th>\n",
              "      <th>population</th>\n",
              "    </tr>\n",
              "  </thead>\n",
              "  <tbody>\n",
              "    <tr>\n",
              "      <th>1958</th>\n",
              "      <td>06088</td>\n",
              "      <td>Nice</td>\n",
              "      <td>342979</td>\n",
              "    </tr>\n",
              "    <tr>\n",
              "      <th>4293</th>\n",
              "      <td>13001</td>\n",
              "      <td>Aix-en-Provence</td>\n",
              "      <td>145676</td>\n",
              "    </tr>\n",
              "    <tr>\n",
              "      <th>11098</th>\n",
              "      <td>30189</td>\n",
              "      <td>Nîmes</td>\n",
              "      <td>152952</td>\n",
              "    </tr>\n",
              "    <tr>\n",
              "      <th>11815</th>\n",
              "      <td>31555</td>\n",
              "      <td>Toulouse</td>\n",
              "      <td>484809</td>\n",
              "    </tr>\n",
              "    <tr>\n",
              "      <th>12370</th>\n",
              "      <td>33063</td>\n",
              "      <td>Bordeaux</td>\n",
              "      <td>257804</td>\n",
              "    </tr>\n",
              "    <tr>\n",
              "      <th>13019</th>\n",
              "      <td>34172</td>\n",
              "      <td>Montpellier</td>\n",
              "      <td>288600</td>\n",
              "    </tr>\n",
              "    <tr>\n",
              "      <th>13409</th>\n",
              "      <td>35238</td>\n",
              "      <td>Rennes</td>\n",
              "      <td>220925</td>\n",
              "    </tr>\n",
              "    <tr>\n",
              "      <th>15840</th>\n",
              "      <td>42218</td>\n",
              "      <td>Saint-Étienne</td>\n",
              "      <td>174520</td>\n",
              "    </tr>\n",
              "    <tr>\n",
              "      <th>16316</th>\n",
              "      <td>44109</td>\n",
              "      <td>Nantes</td>\n",
              "      <td>314503</td>\n",
              "    </tr>\n",
              "    <tr>\n",
              "      <th>22149</th>\n",
              "      <td>59350</td>\n",
              "      <td>Lille</td>\n",
              "      <td>234842</td>\n",
              "    </tr>\n",
              "    <tr>\n",
              "      <th>26555</th>\n",
              "      <td>67482</td>\n",
              "      <td>Strasbourg</td>\n",
              "      <td>283745</td>\n",
              "    </tr>\n",
              "    <tr>\n",
              "      <th>34950</th>\n",
              "      <td>75056</td>\n",
              "      <td>Paris</td>\n",
              "      <td>2204773</td>\n",
              "    </tr>\n",
              "    <tr>\n",
              "      <th>34951</th>\n",
              "      <td>69123</td>\n",
              "      <td>Lyon</td>\n",
              "      <td>522679</td>\n",
              "    </tr>\n",
              "    <tr>\n",
              "      <th>34952</th>\n",
              "      <td>13055</td>\n",
              "      <td>Marseille</td>\n",
              "      <td>869815</td>\n",
              "    </tr>\n",
              "  </tbody>\n",
              "</table>\n",
              "</div>"
            ],
            "text/plain": [
              "      code_dep          nom_dep  population\n",
              "1958     06088             Nice      342979\n",
              "4293     13001  Aix-en-Provence      145676\n",
              "11098    30189            Nîmes      152952\n",
              "11815    31555         Toulouse      484809\n",
              "12370    33063         Bordeaux      257804\n",
              "13019    34172      Montpellier      288600\n",
              "13409    35238           Rennes      220925\n",
              "15840    42218    Saint-Étienne      174520\n",
              "16316    44109           Nantes      314503\n",
              "22149    59350            Lille      234842\n",
              "26555    67482       Strasbourg      283745\n",
              "34950    75056            Paris     2204773\n",
              "34951    69123             Lyon      522679\n",
              "34952    13055        Marseille      869815"
            ]
          },
          "metadata": {},
          "execution_count": 41
        }
      ]
    },
    {
      "cell_type": "markdown",
      "metadata": {
        "id": "0N1QBcgZMgoE"
      },
      "source": [
        "Faites une jointure des tables réseau et population pour récupérer la population totale associée à chacune des communes."
      ]
    },
    {
      "cell_type": "code",
      "metadata": {
        "id": "_gnjsP2-MgoE"
      },
      "source": [
        "df_pop_reseau = df_reseau.merge(df_pop[['code_dep', 'population']], \n",
        "                                left_on='insee_com', \n",
        "                                right_on='code_dep', \n",
        "                                how='left')"
      ],
      "execution_count": 42,
      "outputs": []
    },
    {
      "cell_type": "code",
      "metadata": {
        "colab": {
          "base_uri": "https://localhost:8080/",
          "height": 590
        },
        "id": "IQ13wDqtg4fx",
        "outputId": "5bad82bc-51d8-46fc-a8c7-85fe015fe5f8"
      },
      "source": [
        "df_pop_reseau"
      ],
      "execution_count": 43,
      "outputs": [
        {
          "output_type": "execute_result",
          "data": {
            "text/html": [
              "<div>\n",
              "<style scoped>\n",
              "    .dataframe tbody tr th:only-of-type {\n",
              "        vertical-align: middle;\n",
              "    }\n",
              "\n",
              "    .dataframe tbody tr th {\n",
              "        vertical-align: top;\n",
              "    }\n",
              "\n",
              "    .dataframe thead th {\n",
              "        text-align: right;\n",
              "    }\n",
              "</style>\n",
              "<table border=\"1\" class=\"dataframe\">\n",
              "  <thead>\n",
              "    <tr style=\"text-align: right;\">\n",
              "      <th></th>\n",
              "      <th>nom_op</th>\n",
              "      <th>nom_reg</th>\n",
              "      <th>nom_dep</th>\n",
              "      <th>insee_dep</th>\n",
              "      <th>nom_com</th>\n",
              "      <th>insee_com</th>\n",
              "      <th>site_2g</th>\n",
              "      <th>site_3g</th>\n",
              "      <th>site_4g</th>\n",
              "      <th>code_dep</th>\n",
              "      <th>population</th>\n",
              "    </tr>\n",
              "  </thead>\n",
              "  <tbody>\n",
              "    <tr>\n",
              "      <th>0</th>\n",
              "      <td>Orange</td>\n",
              "      <td>auvergne rhone alpes</td>\n",
              "      <td>ain</td>\n",
              "      <td>01</td>\n",
              "      <td>BOURG EN BRESSE</td>\n",
              "      <td>01053</td>\n",
              "      <td>1</td>\n",
              "      <td>1</td>\n",
              "      <td>1</td>\n",
              "      <td>01053</td>\n",
              "      <td>43306.0</td>\n",
              "    </tr>\n",
              "    <tr>\n",
              "      <th>1</th>\n",
              "      <td>Orange</td>\n",
              "      <td>auvergne rhone alpes</td>\n",
              "      <td>ain</td>\n",
              "      <td>01</td>\n",
              "      <td>DAGNEUX</td>\n",
              "      <td>01142</td>\n",
              "      <td>1</td>\n",
              "      <td>1</td>\n",
              "      <td>1</td>\n",
              "      <td>01142</td>\n",
              "      <td>4772.0</td>\n",
              "    </tr>\n",
              "    <tr>\n",
              "      <th>2</th>\n",
              "      <td>Orange</td>\n",
              "      <td>auvergne rhone alpes</td>\n",
              "      <td>ain</td>\n",
              "      <td>01</td>\n",
              "      <td>TRAMOYES</td>\n",
              "      <td>01424</td>\n",
              "      <td>1</td>\n",
              "      <td>1</td>\n",
              "      <td>1</td>\n",
              "      <td>01424</td>\n",
              "      <td>1724.0</td>\n",
              "    </tr>\n",
              "    <tr>\n",
              "      <th>3</th>\n",
              "      <td>Orange</td>\n",
              "      <td>auvergne rhone alpes</td>\n",
              "      <td>ain</td>\n",
              "      <td>01</td>\n",
              "      <td>NANTUA</td>\n",
              "      <td>01269</td>\n",
              "      <td>1</td>\n",
              "      <td>1</td>\n",
              "      <td>1</td>\n",
              "      <td>01269</td>\n",
              "      <td>3584.0</td>\n",
              "    </tr>\n",
              "    <tr>\n",
              "      <th>4</th>\n",
              "      <td>Orange</td>\n",
              "      <td>auvergne rhone alpes</td>\n",
              "      <td>ain</td>\n",
              "      <td>01</td>\n",
              "      <td>NEYROLLES</td>\n",
              "      <td>01274</td>\n",
              "      <td>1</td>\n",
              "      <td>1</td>\n",
              "      <td>1</td>\n",
              "      <td>01274</td>\n",
              "      <td>654.0</td>\n",
              "    </tr>\n",
              "    <tr>\n",
              "      <th>...</th>\n",
              "      <td>...</td>\n",
              "      <td>...</td>\n",
              "      <td>...</td>\n",
              "      <td>...</td>\n",
              "      <td>...</td>\n",
              "      <td>...</td>\n",
              "      <td>...</td>\n",
              "      <td>...</td>\n",
              "      <td>...</td>\n",
              "      <td>...</td>\n",
              "      <td>...</td>\n",
              "    </tr>\n",
              "    <tr>\n",
              "      <th>86326</th>\n",
              "      <td>Bouygues Telecom</td>\n",
              "      <td>provence alpes cote d'azur</td>\n",
              "      <td>vaucluse</td>\n",
              "      <td>84</td>\n",
              "      <td>GRAMBOIS</td>\n",
              "      <td>84052</td>\n",
              "      <td>0</td>\n",
              "      <td>1</td>\n",
              "      <td>0</td>\n",
              "      <td>NaN</td>\n",
              "      <td>NaN</td>\n",
              "    </tr>\n",
              "    <tr>\n",
              "      <th>86327</th>\n",
              "      <td>Bouygues Telecom</td>\n",
              "      <td>grand est</td>\n",
              "      <td>vosges</td>\n",
              "      <td>88</td>\n",
              "      <td>MARTIGNY-LES-GERBONVAUX</td>\n",
              "      <td>88290</td>\n",
              "      <td>0</td>\n",
              "      <td>1</td>\n",
              "      <td>0</td>\n",
              "      <td>NaN</td>\n",
              "      <td>NaN</td>\n",
              "    </tr>\n",
              "    <tr>\n",
              "      <th>86328</th>\n",
              "      <td>Bouygues Telecom</td>\n",
              "      <td>grand est</td>\n",
              "      <td>vosges</td>\n",
              "      <td>88</td>\n",
              "      <td>GRIGNONCOURT</td>\n",
              "      <td>88220</td>\n",
              "      <td>0</td>\n",
              "      <td>1</td>\n",
              "      <td>1</td>\n",
              "      <td>NaN</td>\n",
              "      <td>NaN</td>\n",
              "    </tr>\n",
              "    <tr>\n",
              "      <th>86329</th>\n",
              "      <td>Bouygues Telecom</td>\n",
              "      <td>grand est</td>\n",
              "      <td>vosges</td>\n",
              "      <td>88</td>\n",
              "      <td>PROVENCHERES-LES-DARNEY</td>\n",
              "      <td>88360</td>\n",
              "      <td>0</td>\n",
              "      <td>1</td>\n",
              "      <td>1</td>\n",
              "      <td>NaN</td>\n",
              "      <td>NaN</td>\n",
              "    </tr>\n",
              "    <tr>\n",
              "      <th>86330</th>\n",
              "      <td>Bouygues Telecom</td>\n",
              "      <td>nouvelle aquitaine</td>\n",
              "      <td>dordogne</td>\n",
              "      <td>24</td>\n",
              "      <td>VALEUIL</td>\n",
              "      <td>24064</td>\n",
              "      <td>0</td>\n",
              "      <td>1</td>\n",
              "      <td>1</td>\n",
              "      <td>NaN</td>\n",
              "      <td>NaN</td>\n",
              "    </tr>\n",
              "  </tbody>\n",
              "</table>\n",
              "<p>86331 rows × 11 columns</p>\n",
              "</div>"
            ],
            "text/plain": [
              "                 nom_op                     nom_reg  ... code_dep population\n",
              "0                Orange        auvergne rhone alpes  ...    01053    43306.0\n",
              "1                Orange        auvergne rhone alpes  ...    01142     4772.0\n",
              "2                Orange        auvergne rhone alpes  ...    01424     1724.0\n",
              "3                Orange        auvergne rhone alpes  ...    01269     3584.0\n",
              "4                Orange        auvergne rhone alpes  ...    01274      654.0\n",
              "...                 ...                         ...  ...      ...        ...\n",
              "86326  Bouygues Telecom  provence alpes cote d'azur  ...      NaN        NaN\n",
              "86327  Bouygues Telecom                   grand est  ...      NaN        NaN\n",
              "86328  Bouygues Telecom                   grand est  ...      NaN        NaN\n",
              "86329  Bouygues Telecom                   grand est  ...      NaN        NaN\n",
              "86330  Bouygues Telecom          nouvelle aquitaine  ...      NaN        NaN\n",
              "\n",
              "[86331 rows x 11 columns]"
            ]
          },
          "metadata": {},
          "execution_count": 43
        }
      ]
    },
    {
      "cell_type": "markdown",
      "metadata": {
        "id": "cThlhlkOMgoE"
      },
      "source": [
        "Un utilisateur nous demande de lui trouver une **commune dans le rhone**, dont la population est inférieure à **1 000 habitants** et disposant d'une bonne couverture réseau pour l'opérateur **Orange**, à vous de jouer."
      ]
    },
    {
      "cell_type": "code",
      "metadata": {
        "colab": {
          "base_uri": "https://localhost:8080/",
          "height": 771
        },
        "id": "K9eBme1-MgoG",
        "outputId": "e7b9cb80-12a4-413b-dc7e-22a9a23af4de"
      },
      "source": [
        "filter_rhone = df_pop_reseau['nom_dep'] == 'rhone'\n",
        "filter_pop = df_pop_reseau['population'] <= 1000\n",
        "filter_op = df_pop_reseau['nom_op'] == 'Orange'\n",
        "df_client = df_pop_reseau[filter_rhone & filter_pop & filter_op]\n",
        "\n",
        "candidates = df_client[['site_2g', 'site_3g', 'site_4g']].sum(axis=1).sort_values(ascending=False).head(15).index\n",
        "df_client.loc[candidates]"
      ],
      "execution_count": 44,
      "outputs": [
        {
          "output_type": "execute_result",
          "data": {
            "text/html": [
              "<div>\n",
              "<style scoped>\n",
              "    .dataframe tbody tr th:only-of-type {\n",
              "        vertical-align: middle;\n",
              "    }\n",
              "\n",
              "    .dataframe tbody tr th {\n",
              "        vertical-align: top;\n",
              "    }\n",
              "\n",
              "    .dataframe thead th {\n",
              "        text-align: right;\n",
              "    }\n",
              "</style>\n",
              "<table border=\"1\" class=\"dataframe\">\n",
              "  <thead>\n",
              "    <tr style=\"text-align: right;\">\n",
              "      <th></th>\n",
              "      <th>nom_op</th>\n",
              "      <th>nom_reg</th>\n",
              "      <th>nom_dep</th>\n",
              "      <th>insee_dep</th>\n",
              "      <th>nom_com</th>\n",
              "      <th>insee_com</th>\n",
              "      <th>site_2g</th>\n",
              "      <th>site_3g</th>\n",
              "      <th>site_4g</th>\n",
              "      <th>code_dep</th>\n",
              "      <th>population</th>\n",
              "    </tr>\n",
              "  </thead>\n",
              "  <tbody>\n",
              "    <tr>\n",
              "      <th>17766</th>\n",
              "      <td>Orange</td>\n",
              "      <td>auvergne rhone alpes</td>\n",
              "      <td>rhone</td>\n",
              "      <td>69</td>\n",
              "      <td>SAINT VINCENT DE REINS</td>\n",
              "      <td>69240</td>\n",
              "      <td>1</td>\n",
              "      <td>1</td>\n",
              "      <td>1</td>\n",
              "      <td>69240</td>\n",
              "      <td>636.0</td>\n",
              "    </tr>\n",
              "    <tr>\n",
              "      <th>17753</th>\n",
              "      <td>Orange</td>\n",
              "      <td>auvergne rhone alpes</td>\n",
              "      <td>rhone</td>\n",
              "      <td>69</td>\n",
              "      <td>SAINT ROMAIN EN GIER</td>\n",
              "      <td>69236</td>\n",
              "      <td>1</td>\n",
              "      <td>1</td>\n",
              "      <td>1</td>\n",
              "      <td>69236</td>\n",
              "      <td>584.0</td>\n",
              "    </tr>\n",
              "    <tr>\n",
              "      <th>17561</th>\n",
              "      <td>Orange</td>\n",
              "      <td>auvergne rhone alpes</td>\n",
              "      <td>rhone</td>\n",
              "      <td>69</td>\n",
              "      <td>SAUVAGES</td>\n",
              "      <td>69174</td>\n",
              "      <td>1</td>\n",
              "      <td>1</td>\n",
              "      <td>1</td>\n",
              "      <td>69174</td>\n",
              "      <td>625.0</td>\n",
              "    </tr>\n",
              "    <tr>\n",
              "      <th>17571</th>\n",
              "      <td>Orange</td>\n",
              "      <td>auvergne rhone alpes</td>\n",
              "      <td>rhone</td>\n",
              "      <td>69</td>\n",
              "      <td>GREZIEU LE MARCHE</td>\n",
              "      <td>69095</td>\n",
              "      <td>1</td>\n",
              "      <td>1</td>\n",
              "      <td>1</td>\n",
              "      <td>69095</td>\n",
              "      <td>832.0</td>\n",
              "    </tr>\n",
              "    <tr>\n",
              "      <th>17584</th>\n",
              "      <td>Orange</td>\n",
              "      <td>auvergne rhone alpes</td>\n",
              "      <td>rhone</td>\n",
              "      <td>69</td>\n",
              "      <td>TREVES</td>\n",
              "      <td>69252</td>\n",
              "      <td>1</td>\n",
              "      <td>1</td>\n",
              "      <td>1</td>\n",
              "      <td>69252</td>\n",
              "      <td>746.0</td>\n",
              "    </tr>\n",
              "    <tr>\n",
              "      <th>17585</th>\n",
              "      <td>Orange</td>\n",
              "      <td>auvergne rhone alpes</td>\n",
              "      <td>rhone</td>\n",
              "      <td>69</td>\n",
              "      <td>SALLES ARBUISSONNAS EN BEAUJOLAIS</td>\n",
              "      <td>69172</td>\n",
              "      <td>1</td>\n",
              "      <td>1</td>\n",
              "      <td>1</td>\n",
              "      <td>69172</td>\n",
              "      <td>819.0</td>\n",
              "    </tr>\n",
              "    <tr>\n",
              "      <th>17588</th>\n",
              "      <td>Orange</td>\n",
              "      <td>auvergne rhone alpes</td>\n",
              "      <td>rhone</td>\n",
              "      <td>69</td>\n",
              "      <td>ARDILLATS</td>\n",
              "      <td>69012</td>\n",
              "      <td>1</td>\n",
              "      <td>1</td>\n",
              "      <td>1</td>\n",
              "      <td>69012</td>\n",
              "      <td>637.0</td>\n",
              "    </tr>\n",
              "    <tr>\n",
              "      <th>17650</th>\n",
              "      <td>Orange</td>\n",
              "      <td>auvergne rhone alpes</td>\n",
              "      <td>rhone</td>\n",
              "      <td>69</td>\n",
              "      <td>CHAMELET</td>\n",
              "      <td>69039</td>\n",
              "      <td>1</td>\n",
              "      <td>1</td>\n",
              "      <td>1</td>\n",
              "      <td>69039</td>\n",
              "      <td>692.0</td>\n",
              "    </tr>\n",
              "    <tr>\n",
              "      <th>17652</th>\n",
              "      <td>Orange</td>\n",
              "      <td>auvergne rhone alpes</td>\n",
              "      <td>rhone</td>\n",
              "      <td>69</td>\n",
              "      <td>SAINT NIZIER D AZERGUES</td>\n",
              "      <td>69229</td>\n",
              "      <td>1</td>\n",
              "      <td>1</td>\n",
              "      <td>1</td>\n",
              "      <td>69229</td>\n",
              "      <td>804.0</td>\n",
              "    </tr>\n",
              "    <tr>\n",
              "      <th>17657</th>\n",
              "      <td>Orange</td>\n",
              "      <td>auvergne rhone alpes</td>\n",
              "      <td>rhone</td>\n",
              "      <td>69</td>\n",
              "      <td>CLAVEISOLLES</td>\n",
              "      <td>69060</td>\n",
              "      <td>1</td>\n",
              "      <td>1</td>\n",
              "      <td>1</td>\n",
              "      <td>69060</td>\n",
              "      <td>730.0</td>\n",
              "    </tr>\n",
              "    <tr>\n",
              "      <th>17683</th>\n",
              "      <td>Orange</td>\n",
              "      <td>auvergne rhone alpes</td>\n",
              "      <td>rhone</td>\n",
              "      <td>69</td>\n",
              "      <td>SAINTE CATHERINE</td>\n",
              "      <td>69184</td>\n",
              "      <td>1</td>\n",
              "      <td>1</td>\n",
              "      <td>1</td>\n",
              "      <td>69184</td>\n",
              "      <td>1000.0</td>\n",
              "    </tr>\n",
              "    <tr>\n",
              "      <th>17722</th>\n",
              "      <td>Orange</td>\n",
              "      <td>auvergne rhone alpes</td>\n",
              "      <td>rhone</td>\n",
              "      <td>69</td>\n",
              "      <td>SAINT CLEMENT SUR VALSONNE</td>\n",
              "      <td>69188</td>\n",
              "      <td>1</td>\n",
              "      <td>1</td>\n",
              "      <td>1</td>\n",
              "      <td>69188</td>\n",
              "      <td>918.0</td>\n",
              "    </tr>\n",
              "    <tr>\n",
              "      <th>10340</th>\n",
              "      <td>Orange</td>\n",
              "      <td>auvergne rhone alpes</td>\n",
              "      <td>rhone</td>\n",
              "      <td>69</td>\n",
              "      <td>BELLEROCHE</td>\n",
              "      <td>42014</td>\n",
              "      <td>1</td>\n",
              "      <td>1</td>\n",
              "      <td>1</td>\n",
              "      <td>42014</td>\n",
              "      <td>321.0</td>\n",
              "    </tr>\n",
              "    <tr>\n",
              "      <th>17868</th>\n",
              "      <td>Orange</td>\n",
              "      <td>auvergne rhone alpes</td>\n",
              "      <td>rhone</td>\n",
              "      <td>69</td>\n",
              "      <td>COISE</td>\n",
              "      <td>69062</td>\n",
              "      <td>1</td>\n",
              "      <td>1</td>\n",
              "      <td>1</td>\n",
              "      <td>69062</td>\n",
              "      <td>791.0</td>\n",
              "    </tr>\n",
              "    <tr>\n",
              "      <th>17881</th>\n",
              "      <td>Orange</td>\n",
              "      <td>auvergne rhone alpes</td>\n",
              "      <td>rhone</td>\n",
              "      <td>69</td>\n",
              "      <td>SAINT MARCEL L ECLAIRE</td>\n",
              "      <td>69225</td>\n",
              "      <td>1</td>\n",
              "      <td>1</td>\n",
              "      <td>1</td>\n",
              "      <td>69225</td>\n",
              "      <td>538.0</td>\n",
              "    </tr>\n",
              "  </tbody>\n",
              "</table>\n",
              "</div>"
            ],
            "text/plain": [
              "       nom_op               nom_reg nom_dep  ... site_4g code_dep population\n",
              "17766  Orange  auvergne rhone alpes   rhone  ...       1    69240      636.0\n",
              "17753  Orange  auvergne rhone alpes   rhone  ...       1    69236      584.0\n",
              "17561  Orange  auvergne rhone alpes   rhone  ...       1    69174      625.0\n",
              "17571  Orange  auvergne rhone alpes   rhone  ...       1    69095      832.0\n",
              "17584  Orange  auvergne rhone alpes   rhone  ...       1    69252      746.0\n",
              "17585  Orange  auvergne rhone alpes   rhone  ...       1    69172      819.0\n",
              "17588  Orange  auvergne rhone alpes   rhone  ...       1    69012      637.0\n",
              "17650  Orange  auvergne rhone alpes   rhone  ...       1    69039      692.0\n",
              "17652  Orange  auvergne rhone alpes   rhone  ...       1    69229      804.0\n",
              "17657  Orange  auvergne rhone alpes   rhone  ...       1    69060      730.0\n",
              "17683  Orange  auvergne rhone alpes   rhone  ...       1    69184     1000.0\n",
              "17722  Orange  auvergne rhone alpes   rhone  ...       1    69188      918.0\n",
              "10340  Orange  auvergne rhone alpes   rhone  ...       1    42014      321.0\n",
              "17868  Orange  auvergne rhone alpes   rhone  ...       1    69062      791.0\n",
              "17881  Orange  auvergne rhone alpes   rhone  ...       1    69225      538.0\n",
              "\n",
              "[15 rows x 11 columns]"
            ]
          },
          "metadata": {},
          "execution_count": 44
        }
      ]
    },
    {
      "cell_type": "markdown",
      "metadata": {
        "id": "G0rP_2cMMgoG"
      },
      "source": [
        "Pouvez-vous faire une fonction pour automatiser cette recherche ?"
      ]
    },
    {
      "cell_type": "code",
      "metadata": {
        "id": "JXk3fLieMgoG"
      },
      "source": [
        "def find_best_communes(nom_dep, taille_pop, nom_op, df_pop_reseau, df_client):\n",
        "    filter_dep = df_pop_reseau['nom_dep'] == nom_dep\n",
        "    filter_pop = df_pop_reseau['population'] <= taille_pop\n",
        "    filter_op = df_pop_reseau['nom_op'] == nom_op\n",
        "    df_client = df_pop_reseau[filter_dep & filter_pop & filter_op]\n",
        "\n",
        "    candidates = df_client[['site_2g', 'site_3g', 'site_4g']].sum(axis=1).sort_values(ascending=False).head(15).index\n",
        "    return df_client.loc[candidates]"
      ],
      "execution_count": 45,
      "outputs": []
    },
    {
      "cell_type": "markdown",
      "metadata": {
        "id": "b9g8jopfMgoG"
      },
      "source": [
        "En utilisant la fonction précédente, ré-implémentez la recherche précédente."
      ]
    },
    {
      "cell_type": "code",
      "metadata": {
        "colab": {
          "base_uri": "https://localhost:8080/",
          "height": 771
        },
        "id": "prwb6Bk5MgoG",
        "outputId": "6098d293-aeec-4260-b084-3dbbffe31c1f"
      },
      "source": [
        "find_best_communes('rhone', 1000, 'Orange', df_pop_reseau, df_client)"
      ],
      "execution_count": 46,
      "outputs": [
        {
          "output_type": "execute_result",
          "data": {
            "text/html": [
              "<div>\n",
              "<style scoped>\n",
              "    .dataframe tbody tr th:only-of-type {\n",
              "        vertical-align: middle;\n",
              "    }\n",
              "\n",
              "    .dataframe tbody tr th {\n",
              "        vertical-align: top;\n",
              "    }\n",
              "\n",
              "    .dataframe thead th {\n",
              "        text-align: right;\n",
              "    }\n",
              "</style>\n",
              "<table border=\"1\" class=\"dataframe\">\n",
              "  <thead>\n",
              "    <tr style=\"text-align: right;\">\n",
              "      <th></th>\n",
              "      <th>nom_op</th>\n",
              "      <th>nom_reg</th>\n",
              "      <th>nom_dep</th>\n",
              "      <th>insee_dep</th>\n",
              "      <th>nom_com</th>\n",
              "      <th>insee_com</th>\n",
              "      <th>site_2g</th>\n",
              "      <th>site_3g</th>\n",
              "      <th>site_4g</th>\n",
              "      <th>code_dep</th>\n",
              "      <th>population</th>\n",
              "    </tr>\n",
              "  </thead>\n",
              "  <tbody>\n",
              "    <tr>\n",
              "      <th>17766</th>\n",
              "      <td>Orange</td>\n",
              "      <td>auvergne rhone alpes</td>\n",
              "      <td>rhone</td>\n",
              "      <td>69</td>\n",
              "      <td>SAINT VINCENT DE REINS</td>\n",
              "      <td>69240</td>\n",
              "      <td>1</td>\n",
              "      <td>1</td>\n",
              "      <td>1</td>\n",
              "      <td>69240</td>\n",
              "      <td>636.0</td>\n",
              "    </tr>\n",
              "    <tr>\n",
              "      <th>17753</th>\n",
              "      <td>Orange</td>\n",
              "      <td>auvergne rhone alpes</td>\n",
              "      <td>rhone</td>\n",
              "      <td>69</td>\n",
              "      <td>SAINT ROMAIN EN GIER</td>\n",
              "      <td>69236</td>\n",
              "      <td>1</td>\n",
              "      <td>1</td>\n",
              "      <td>1</td>\n",
              "      <td>69236</td>\n",
              "      <td>584.0</td>\n",
              "    </tr>\n",
              "    <tr>\n",
              "      <th>17561</th>\n",
              "      <td>Orange</td>\n",
              "      <td>auvergne rhone alpes</td>\n",
              "      <td>rhone</td>\n",
              "      <td>69</td>\n",
              "      <td>SAUVAGES</td>\n",
              "      <td>69174</td>\n",
              "      <td>1</td>\n",
              "      <td>1</td>\n",
              "      <td>1</td>\n",
              "      <td>69174</td>\n",
              "      <td>625.0</td>\n",
              "    </tr>\n",
              "    <tr>\n",
              "      <th>17571</th>\n",
              "      <td>Orange</td>\n",
              "      <td>auvergne rhone alpes</td>\n",
              "      <td>rhone</td>\n",
              "      <td>69</td>\n",
              "      <td>GREZIEU LE MARCHE</td>\n",
              "      <td>69095</td>\n",
              "      <td>1</td>\n",
              "      <td>1</td>\n",
              "      <td>1</td>\n",
              "      <td>69095</td>\n",
              "      <td>832.0</td>\n",
              "    </tr>\n",
              "    <tr>\n",
              "      <th>17584</th>\n",
              "      <td>Orange</td>\n",
              "      <td>auvergne rhone alpes</td>\n",
              "      <td>rhone</td>\n",
              "      <td>69</td>\n",
              "      <td>TREVES</td>\n",
              "      <td>69252</td>\n",
              "      <td>1</td>\n",
              "      <td>1</td>\n",
              "      <td>1</td>\n",
              "      <td>69252</td>\n",
              "      <td>746.0</td>\n",
              "    </tr>\n",
              "    <tr>\n",
              "      <th>17585</th>\n",
              "      <td>Orange</td>\n",
              "      <td>auvergne rhone alpes</td>\n",
              "      <td>rhone</td>\n",
              "      <td>69</td>\n",
              "      <td>SALLES ARBUISSONNAS EN BEAUJOLAIS</td>\n",
              "      <td>69172</td>\n",
              "      <td>1</td>\n",
              "      <td>1</td>\n",
              "      <td>1</td>\n",
              "      <td>69172</td>\n",
              "      <td>819.0</td>\n",
              "    </tr>\n",
              "    <tr>\n",
              "      <th>17588</th>\n",
              "      <td>Orange</td>\n",
              "      <td>auvergne rhone alpes</td>\n",
              "      <td>rhone</td>\n",
              "      <td>69</td>\n",
              "      <td>ARDILLATS</td>\n",
              "      <td>69012</td>\n",
              "      <td>1</td>\n",
              "      <td>1</td>\n",
              "      <td>1</td>\n",
              "      <td>69012</td>\n",
              "      <td>637.0</td>\n",
              "    </tr>\n",
              "    <tr>\n",
              "      <th>17650</th>\n",
              "      <td>Orange</td>\n",
              "      <td>auvergne rhone alpes</td>\n",
              "      <td>rhone</td>\n",
              "      <td>69</td>\n",
              "      <td>CHAMELET</td>\n",
              "      <td>69039</td>\n",
              "      <td>1</td>\n",
              "      <td>1</td>\n",
              "      <td>1</td>\n",
              "      <td>69039</td>\n",
              "      <td>692.0</td>\n",
              "    </tr>\n",
              "    <tr>\n",
              "      <th>17652</th>\n",
              "      <td>Orange</td>\n",
              "      <td>auvergne rhone alpes</td>\n",
              "      <td>rhone</td>\n",
              "      <td>69</td>\n",
              "      <td>SAINT NIZIER D AZERGUES</td>\n",
              "      <td>69229</td>\n",
              "      <td>1</td>\n",
              "      <td>1</td>\n",
              "      <td>1</td>\n",
              "      <td>69229</td>\n",
              "      <td>804.0</td>\n",
              "    </tr>\n",
              "    <tr>\n",
              "      <th>17657</th>\n",
              "      <td>Orange</td>\n",
              "      <td>auvergne rhone alpes</td>\n",
              "      <td>rhone</td>\n",
              "      <td>69</td>\n",
              "      <td>CLAVEISOLLES</td>\n",
              "      <td>69060</td>\n",
              "      <td>1</td>\n",
              "      <td>1</td>\n",
              "      <td>1</td>\n",
              "      <td>69060</td>\n",
              "      <td>730.0</td>\n",
              "    </tr>\n",
              "    <tr>\n",
              "      <th>17683</th>\n",
              "      <td>Orange</td>\n",
              "      <td>auvergne rhone alpes</td>\n",
              "      <td>rhone</td>\n",
              "      <td>69</td>\n",
              "      <td>SAINTE CATHERINE</td>\n",
              "      <td>69184</td>\n",
              "      <td>1</td>\n",
              "      <td>1</td>\n",
              "      <td>1</td>\n",
              "      <td>69184</td>\n",
              "      <td>1000.0</td>\n",
              "    </tr>\n",
              "    <tr>\n",
              "      <th>17722</th>\n",
              "      <td>Orange</td>\n",
              "      <td>auvergne rhone alpes</td>\n",
              "      <td>rhone</td>\n",
              "      <td>69</td>\n",
              "      <td>SAINT CLEMENT SUR VALSONNE</td>\n",
              "      <td>69188</td>\n",
              "      <td>1</td>\n",
              "      <td>1</td>\n",
              "      <td>1</td>\n",
              "      <td>69188</td>\n",
              "      <td>918.0</td>\n",
              "    </tr>\n",
              "    <tr>\n",
              "      <th>10340</th>\n",
              "      <td>Orange</td>\n",
              "      <td>auvergne rhone alpes</td>\n",
              "      <td>rhone</td>\n",
              "      <td>69</td>\n",
              "      <td>BELLEROCHE</td>\n",
              "      <td>42014</td>\n",
              "      <td>1</td>\n",
              "      <td>1</td>\n",
              "      <td>1</td>\n",
              "      <td>42014</td>\n",
              "      <td>321.0</td>\n",
              "    </tr>\n",
              "    <tr>\n",
              "      <th>17868</th>\n",
              "      <td>Orange</td>\n",
              "      <td>auvergne rhone alpes</td>\n",
              "      <td>rhone</td>\n",
              "      <td>69</td>\n",
              "      <td>COISE</td>\n",
              "      <td>69062</td>\n",
              "      <td>1</td>\n",
              "      <td>1</td>\n",
              "      <td>1</td>\n",
              "      <td>69062</td>\n",
              "      <td>791.0</td>\n",
              "    </tr>\n",
              "    <tr>\n",
              "      <th>17881</th>\n",
              "      <td>Orange</td>\n",
              "      <td>auvergne rhone alpes</td>\n",
              "      <td>rhone</td>\n",
              "      <td>69</td>\n",
              "      <td>SAINT MARCEL L ECLAIRE</td>\n",
              "      <td>69225</td>\n",
              "      <td>1</td>\n",
              "      <td>1</td>\n",
              "      <td>1</td>\n",
              "      <td>69225</td>\n",
              "      <td>538.0</td>\n",
              "    </tr>\n",
              "  </tbody>\n",
              "</table>\n",
              "</div>"
            ],
            "text/plain": [
              "       nom_op               nom_reg nom_dep  ... site_4g code_dep population\n",
              "17766  Orange  auvergne rhone alpes   rhone  ...       1    69240      636.0\n",
              "17753  Orange  auvergne rhone alpes   rhone  ...       1    69236      584.0\n",
              "17561  Orange  auvergne rhone alpes   rhone  ...       1    69174      625.0\n",
              "17571  Orange  auvergne rhone alpes   rhone  ...       1    69095      832.0\n",
              "17584  Orange  auvergne rhone alpes   rhone  ...       1    69252      746.0\n",
              "17585  Orange  auvergne rhone alpes   rhone  ...       1    69172      819.0\n",
              "17588  Orange  auvergne rhone alpes   rhone  ...       1    69012      637.0\n",
              "17650  Orange  auvergne rhone alpes   rhone  ...       1    69039      692.0\n",
              "17652  Orange  auvergne rhone alpes   rhone  ...       1    69229      804.0\n",
              "17657  Orange  auvergne rhone alpes   rhone  ...       1    69060      730.0\n",
              "17683  Orange  auvergne rhone alpes   rhone  ...       1    69184     1000.0\n",
              "17722  Orange  auvergne rhone alpes   rhone  ...       1    69188      918.0\n",
              "10340  Orange  auvergne rhone alpes   rhone  ...       1    42014      321.0\n",
              "17868  Orange  auvergne rhone alpes   rhone  ...       1    69062      791.0\n",
              "17881  Orange  auvergne rhone alpes   rhone  ...       1    69225      538.0\n",
              "\n",
              "[15 rows x 11 columns]"
            ]
          },
          "metadata": {},
          "execution_count": 46
        }
      ]
    },
    {
      "cell_type": "markdown",
      "metadata": {
        "id": "PJfC7QiLMgoG"
      },
      "source": [
        "### Conclusion\n",
        "\n",
        "On estime ici la qualité de la couverture réseau en comptant le nombre d'antennes dans chaque commune, c'est une approche simpliste, en réalité les signaux vont  transiter entre les communes. Pour améliorer notre approche, il serait plus adapté de construire une carte de la densité du nombre d'antennes au Km². **Toutefois c'est un bon début, il faut toujours commencer par une solution simple, l'évaluer, puis itérer vers une amélioration, plutôt que de réfléchir éternellement à la mise en place d'une solution parfaite.**\n",
        "\n",
        "*Premature optimisation is the root of all evil. Donald Knuth*"
      ]
    },
    {
      "cell_type": "markdown",
      "metadata": {
        "id": "KrLdP0l0MgoH"
      },
      "source": [
        "### Pour aller plus loin\n",
        "\n",
        "Il est évident que ESIEEConnex doit exploiter d'autres indicateurs afin d'affiner la sélection de communes candidates, par exemple l'accès à la fibre optique, la présence d'une ou plusieurs salles de sport, des restaurants, etc. Pour aller plus loin, utilisez le [fichier suivant](https://www.data.gouv.fr/fr/datasets/data-insee-sur-les-communes/) qui regroupe divers indicateurs par commune. À terme, certaines informations ne seront plus accessibles en open data, il faudra alors faire appel à des API payantes ou du web scraping pour collecter directement à la source."
      ]
    },
    {
      "cell_type": "markdown",
      "metadata": {
        "id": "-iWs7O5ch0yK"
      },
      "source": [
        "# Travail à faire: Concevez et Développez une solution plus raffinée à cette problématique "
      ]
    }
  ]
}