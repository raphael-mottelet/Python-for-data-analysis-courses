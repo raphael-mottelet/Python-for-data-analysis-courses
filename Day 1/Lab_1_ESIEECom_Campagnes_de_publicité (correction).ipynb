{
  "nbformat": 4,
  "nbformat_minor": 0,
  "metadata": {
    "kernelspec": {
      "display_name": "Python 3",
      "language": "python",
      "name": "python3"
    },
    "language_info": {
      "codemirror_mode": {
        "name": "ipython",
        "version": 3
      },
      "file_extension": ".py",
      "mimetype": "text/x-python",
      "name": "python",
      "nbconvert_exporter": "python",
      "pygments_lexer": "ipython3",
      "version": "3.8.5"
    },
    "colab": {
      "name": "Lab_1_ESIEECom_Campagnes_de_publicité.ipynb",
      "provenance": []
    }
  },
  "cells": [
    {
      "cell_type": "markdown",
      "metadata": {
        "id": "bSCRK54nDGEU"
      },
      "source": [
        "# **Lab 1: ESIEECom - Campagnes de publicité**"
      ]
    },
    {
      "cell_type": "code",
      "metadata": {
        "id": "p-npEsuqFCNJ"
      },
      "source": [
        "! pip install pandas"
      ],
      "execution_count": null,
      "outputs": []
    },
    {
      "cell_type": "code",
      "metadata": {
        "id": "JMulY6xCDDri"
      },
      "source": [
        "import pandas as pd"
      ],
      "execution_count": null,
      "outputs": []
    },
    {
      "cell_type": "markdown",
      "metadata": {
        "id": "V4DRd9LnDDrj"
      },
      "source": [
        "# Enoncé\n",
        "\n",
        "Vous travaillez au sein de **ESIEECom**, une entreprise de communication qui a pour objectif de créer des campagnes de publicité pour des entreprises tierces, dans le but d'inciter les gens à acheter des produits chez ces dîtes entreprises. Ainsi, plusieurs campagnes marketing ont été diffusées à 29 758 clients potentiels (une seule campagne par client) pour le compte d'une entreprise marketing **greenSCart**.\n",
        "\n",
        "\n",
        "Plusieurs semaines sont passées, il est à présent temps d'analyser les performances des campagnes en termes de clics et d'achats. Votre rôle dans cette analyse va être de préparer le terrain, en formattant les données pour les rendre exploitables.\n",
        "\n",
        "Vous avez pour cela trois fichiers à votre disposition :\n",
        "- *campaign.csv* : un fichier présentant, par client, la campagne reçue et le canal d'acquisition (external_site_id)\n",
        "- *click.csv* : un fichier présentant l'ensemble des clients ayant cliqué au moins une fois sur le lien contenu dans la campagne, avec la date du premier clic\n",
        "- *purchase.csv* : un fichier présentant l'ensemble des clients ayant acheté parmi ceux ayant cliqué sur le lien, avec la date d'achat et une série d'informations sur le client.\n",
        "\n",
        "\n",
        "# Exercice\n",
        "\n",
        "## Partie 1 : analyse sur les campagnes\n",
        "\n",
        "### 1. Importation \n",
        "\n",
        "Vous commencerez par importer le fichier campaign.csv. Pour cela, vous utiliserez la fonction [`read_csv`](https://pandas.pydata.org/pandas-docs/stable/reference/api/pandas.read_csv.html)."
      ]
    },
    {
      "cell_type": "code",
      "metadata": {
        "id": "S-6UpO8nDDrk"
      },
      "source": [
        "campaign = pd.read_csv('campaign.csv')"
      ],
      "execution_count": null,
      "outputs": []
    },
    {
      "cell_type": "code",
      "metadata": {
        "colab": {
          "base_uri": "https://localhost:8080/",
          "height": 420
        },
        "id": "fmeCHbZQI9cI",
        "outputId": "e26100a3-2b38-42bd-d4f0-29fe57493dbd"
      },
      "source": [
        "campaign"
      ],
      "execution_count": null,
      "outputs": [
        {
          "output_type": "execute_result",
          "data": {
            "text/html": [
              "<div>\n",
              "<style scoped>\n",
              "    .dataframe tbody tr th:only-of-type {\n",
              "        vertical-align: middle;\n",
              "    }\n",
              "\n",
              "    .dataframe tbody tr th {\n",
              "        vertical-align: top;\n",
              "    }\n",
              "\n",
              "    .dataframe thead th {\n",
              "        text-align: right;\n",
              "    }\n",
              "</style>\n",
              "<table border=\"1\" class=\"dataframe\">\n",
              "  <thead>\n",
              "    <tr style=\"text-align: right;\">\n",
              "      <th></th>\n",
              "      <th>client_id</th>\n",
              "      <th>campaign_id</th>\n",
              "      <th>canal_id</th>\n",
              "    </tr>\n",
              "  </thead>\n",
              "  <tbody>\n",
              "    <tr>\n",
              "      <th>0</th>\n",
              "      <td>2392769782</td>\n",
              "      <td>3</td>\n",
              "      <td>370668</td>\n",
              "    </tr>\n",
              "    <tr>\n",
              "      <th>1</th>\n",
              "      <td>2693949047</td>\n",
              "      <td>1</td>\n",
              "      <td>339897</td>\n",
              "    </tr>\n",
              "    <tr>\n",
              "      <th>2</th>\n",
              "      <td>6841408721</td>\n",
              "      <td>2</td>\n",
              "      <td>989339</td>\n",
              "    </tr>\n",
              "    <tr>\n",
              "      <th>3</th>\n",
              "      <td>1457891936</td>\n",
              "      <td>1</td>\n",
              "      <td>530191</td>\n",
              "    </tr>\n",
              "    <tr>\n",
              "      <th>4</th>\n",
              "      <td>5354259272</td>\n",
              "      <td>1</td>\n",
              "      <td>206900</td>\n",
              "    </tr>\n",
              "    <tr>\n",
              "      <th>...</th>\n",
              "      <td>...</td>\n",
              "      <td>...</td>\n",
              "      <td>...</td>\n",
              "    </tr>\n",
              "    <tr>\n",
              "      <th>29753</th>\n",
              "      <td>2701723551</td>\n",
              "      <td>3</td>\n",
              "      <td>140514</td>\n",
              "    </tr>\n",
              "    <tr>\n",
              "      <th>29754</th>\n",
              "      <td>7271996385</td>\n",
              "      <td>1</td>\n",
              "      <td>892234</td>\n",
              "    </tr>\n",
              "    <tr>\n",
              "      <th>29755</th>\n",
              "      <td>4035966889</td>\n",
              "      <td>1</td>\n",
              "      <td>563313</td>\n",
              "    </tr>\n",
              "    <tr>\n",
              "      <th>29756</th>\n",
              "      <td>7499403392</td>\n",
              "      <td>1</td>\n",
              "      <td>325552</td>\n",
              "    </tr>\n",
              "    <tr>\n",
              "      <th>29757</th>\n",
              "      <td>2017465235</td>\n",
              "      <td>1</td>\n",
              "      <td>812611</td>\n",
              "    </tr>\n",
              "  </tbody>\n",
              "</table>\n",
              "<p>29758 rows × 3 columns</p>\n",
              "</div>"
            ],
            "text/plain": [
              "        client_id  campaign_id  canal_id\n",
              "0      2392769782            3    370668\n",
              "1      2693949047            1    339897\n",
              "2      6841408721            2    989339\n",
              "3      1457891936            1    530191\n",
              "4      5354259272            1    206900\n",
              "...           ...          ...       ...\n",
              "29753  2701723551            3    140514\n",
              "29754  7271996385            1    892234\n",
              "29755  4035966889            1    563313\n",
              "29756  7499403392            1    325552\n",
              "29757  2017465235            1    812611\n",
              "\n",
              "[29758 rows x 3 columns]"
            ]
          },
          "metadata": {},
          "execution_count": 19
        }
      ]
    },
    {
      "cell_type": "markdown",
      "metadata": {
        "id": "Lnf7xyBkDDrk"
      },
      "source": [
        "La première étape après toute importation est de regarder les premières lignes, cela permet :\n",
        "- de vérifier que l'importation s'est bien passée\n",
        "- d'avoir un apperçu rapide de ce à quoi ressemble notre dataframe"
      ]
    },
    {
      "cell_type": "code",
      "metadata": {
        "scrolled": true,
        "colab": {
          "base_uri": "https://localhost:8080/",
          "height": 359
        },
        "id": "kfQoxgxFDDrk",
        "outputId": "d8dc13e4-a098-44c3-b511-c019fe8efba5"
      },
      "source": [
        "campaign.sample(10)"
      ],
      "execution_count": null,
      "outputs": [
        {
          "output_type": "execute_result",
          "data": {
            "text/html": [
              "<div>\n",
              "<style scoped>\n",
              "    .dataframe tbody tr th:only-of-type {\n",
              "        vertical-align: middle;\n",
              "    }\n",
              "\n",
              "    .dataframe tbody tr th {\n",
              "        vertical-align: top;\n",
              "    }\n",
              "\n",
              "    .dataframe thead th {\n",
              "        text-align: right;\n",
              "    }\n",
              "</style>\n",
              "<table border=\"1\" class=\"dataframe\">\n",
              "  <thead>\n",
              "    <tr style=\"text-align: right;\">\n",
              "      <th></th>\n",
              "      <th>client_id</th>\n",
              "      <th>campaign_id</th>\n",
              "      <th>external_site_id</th>\n",
              "    </tr>\n",
              "  </thead>\n",
              "  <tbody>\n",
              "    <tr>\n",
              "      <th>12125</th>\n",
              "      <td>3028638661</td>\n",
              "      <td>1</td>\n",
              "      <td>804952</td>\n",
              "    </tr>\n",
              "    <tr>\n",
              "      <th>21989</th>\n",
              "      <td>1104487119</td>\n",
              "      <td>1</td>\n",
              "      <td>424087</td>\n",
              "    </tr>\n",
              "    <tr>\n",
              "      <th>2872</th>\n",
              "      <td>52510814</td>\n",
              "      <td>1</td>\n",
              "      <td>561239</td>\n",
              "    </tr>\n",
              "    <tr>\n",
              "      <th>22981</th>\n",
              "      <td>7068175889</td>\n",
              "      <td>3</td>\n",
              "      <td>380034</td>\n",
              "    </tr>\n",
              "    <tr>\n",
              "      <th>23206</th>\n",
              "      <td>9592769884</td>\n",
              "      <td>2</td>\n",
              "      <td>656637</td>\n",
              "    </tr>\n",
              "    <tr>\n",
              "      <th>28536</th>\n",
              "      <td>610343808</td>\n",
              "      <td>1</td>\n",
              "      <td>958665</td>\n",
              "    </tr>\n",
              "    <tr>\n",
              "      <th>17730</th>\n",
              "      <td>1524702166</td>\n",
              "      <td>3</td>\n",
              "      <td>642614</td>\n",
              "    </tr>\n",
              "    <tr>\n",
              "      <th>27515</th>\n",
              "      <td>6211825211</td>\n",
              "      <td>3</td>\n",
              "      <td>886881</td>\n",
              "    </tr>\n",
              "    <tr>\n",
              "      <th>8804</th>\n",
              "      <td>4232560670</td>\n",
              "      <td>2</td>\n",
              "      <td>572492</td>\n",
              "    </tr>\n",
              "    <tr>\n",
              "      <th>24551</th>\n",
              "      <td>8778803062</td>\n",
              "      <td>1</td>\n",
              "      <td>631219</td>\n",
              "    </tr>\n",
              "  </tbody>\n",
              "</table>\n",
              "</div>"
            ],
            "text/plain": [
              "        client_id  campaign_id  external_site_id\n",
              "12125  3028638661            1            804952\n",
              "21989  1104487119            1            424087\n",
              "2872     52510814            1            561239\n",
              "22981  7068175889            3            380034\n",
              "23206  9592769884            2            656637\n",
              "28536   610343808            1            958665\n",
              "17730  1524702166            3            642614\n",
              "27515  6211825211            3            886881\n",
              "8804   4232560670            2            572492\n",
              "24551  8778803062            1            631219"
            ]
          },
          "metadata": {},
          "execution_count": 10
        }
      ]
    },
    {
      "cell_type": "markdown",
      "metadata": {
        "id": "ebtUFx4JDDrl"
      },
      "source": [
        "La seconde chose à faire est une petite vérification sur les types de chaque colonne attribués par pandas lors de l'importation, encore une fois pour vérifier que l'importation s'est bien déroulée. Affichez le type de l'ensemble des colonnes"
      ]
    },
    {
      "cell_type": "code",
      "metadata": {
        "colab": {
          "base_uri": "https://localhost:8080/"
        },
        "id": "jb6eoheSDDrl",
        "outputId": "2d61a45a-6e59-4735-c5cb-99e4dbd6cabf"
      },
      "source": [
        "campaign.dtypes"
      ],
      "execution_count": null,
      "outputs": [
        {
          "output_type": "execute_result",
          "data": {
            "text/plain": [
              "client_id           int64\n",
              "campaign_id         int64\n",
              "external_site_id    int64\n",
              "dtype: object"
            ]
          },
          "metadata": {},
          "execution_count": 11
        }
      ]
    },
    {
      "cell_type": "markdown",
      "metadata": {
        "id": "he7H5p9ADDrl"
      },
      "source": [
        "Combien de lignes et colonnes sont contenues dans notre fichier ?"
      ]
    },
    {
      "cell_type": "code",
      "metadata": {
        "colab": {
          "base_uri": "https://localhost:8080/"
        },
        "id": "szwn-2tgDDrl",
        "outputId": "da907a57-0954-4726-c048-962514574c83"
      },
      "source": [
        "campaign.shape"
      ],
      "execution_count": null,
      "outputs": [
        {
          "output_type": "execute_result",
          "data": {
            "text/plain": [
              "(29758, 3)"
            ]
          },
          "metadata": {},
          "execution_count": 15
        }
      ]
    },
    {
      "cell_type": "markdown",
      "metadata": {
        "id": "d0I5d5kFDDrm"
      },
      "source": [
        "Modifiez le nom de la variable `external_site_id` par `canal_id`."
      ]
    },
    {
      "cell_type": "code",
      "metadata": {
        "id": "TZOWhPohDDrm"
      },
      "source": [
        "campaign= campaign.rename(   columns={ \"external_site_id\" : \"canal_id\"}   )"
      ],
      "execution_count": null,
      "outputs": []
    },
    {
      "cell_type": "code",
      "metadata": {
        "colab": {
          "base_uri": "https://localhost:8080/",
          "height": 420
        },
        "id": "fRihQJmOIQ9m",
        "outputId": "be009f48-0567-42ea-ad69-0442aa63cde2"
      },
      "source": [
        "campaign"
      ],
      "execution_count": null,
      "outputs": [
        {
          "output_type": "execute_result",
          "data": {
            "text/html": [
              "<div>\n",
              "<style scoped>\n",
              "    .dataframe tbody tr th:only-of-type {\n",
              "        vertical-align: middle;\n",
              "    }\n",
              "\n",
              "    .dataframe tbody tr th {\n",
              "        vertical-align: top;\n",
              "    }\n",
              "\n",
              "    .dataframe thead th {\n",
              "        text-align: right;\n",
              "    }\n",
              "</style>\n",
              "<table border=\"1\" class=\"dataframe\">\n",
              "  <thead>\n",
              "    <tr style=\"text-align: right;\">\n",
              "      <th></th>\n",
              "      <th>client_id</th>\n",
              "      <th>campaign_id</th>\n",
              "      <th>canal_id</th>\n",
              "    </tr>\n",
              "  </thead>\n",
              "  <tbody>\n",
              "    <tr>\n",
              "      <th>0</th>\n",
              "      <td>2392769782</td>\n",
              "      <td>3</td>\n",
              "      <td>370668</td>\n",
              "    </tr>\n",
              "    <tr>\n",
              "      <th>1</th>\n",
              "      <td>2693949047</td>\n",
              "      <td>1</td>\n",
              "      <td>339897</td>\n",
              "    </tr>\n",
              "    <tr>\n",
              "      <th>2</th>\n",
              "      <td>6841408721</td>\n",
              "      <td>2</td>\n",
              "      <td>989339</td>\n",
              "    </tr>\n",
              "    <tr>\n",
              "      <th>3</th>\n",
              "      <td>1457891936</td>\n",
              "      <td>1</td>\n",
              "      <td>530191</td>\n",
              "    </tr>\n",
              "    <tr>\n",
              "      <th>4</th>\n",
              "      <td>5354259272</td>\n",
              "      <td>1</td>\n",
              "      <td>206900</td>\n",
              "    </tr>\n",
              "    <tr>\n",
              "      <th>...</th>\n",
              "      <td>...</td>\n",
              "      <td>...</td>\n",
              "      <td>...</td>\n",
              "    </tr>\n",
              "    <tr>\n",
              "      <th>29753</th>\n",
              "      <td>2701723551</td>\n",
              "      <td>3</td>\n",
              "      <td>140514</td>\n",
              "    </tr>\n",
              "    <tr>\n",
              "      <th>29754</th>\n",
              "      <td>7271996385</td>\n",
              "      <td>1</td>\n",
              "      <td>892234</td>\n",
              "    </tr>\n",
              "    <tr>\n",
              "      <th>29755</th>\n",
              "      <td>4035966889</td>\n",
              "      <td>1</td>\n",
              "      <td>563313</td>\n",
              "    </tr>\n",
              "    <tr>\n",
              "      <th>29756</th>\n",
              "      <td>7499403392</td>\n",
              "      <td>1</td>\n",
              "      <td>325552</td>\n",
              "    </tr>\n",
              "    <tr>\n",
              "      <th>29757</th>\n",
              "      <td>2017465235</td>\n",
              "      <td>1</td>\n",
              "      <td>812611</td>\n",
              "    </tr>\n",
              "  </tbody>\n",
              "</table>\n",
              "<p>29758 rows × 3 columns</p>\n",
              "</div>"
            ],
            "text/plain": [
              "        client_id  campaign_id  canal_id\n",
              "0      2392769782            3    370668\n",
              "1      2693949047            1    339897\n",
              "2      6841408721            2    989339\n",
              "3      1457891936            1    530191\n",
              "4      5354259272            1    206900\n",
              "...           ...          ...       ...\n",
              "29753  2701723551            3    140514\n",
              "29754  7271996385            1    892234\n",
              "29755  4035966889            1    563313\n",
              "29756  7499403392            1    325552\n",
              "29757  2017465235            1    812611\n",
              "\n",
              "[29758 rows x 3 columns]"
            ]
          },
          "metadata": {},
          "execution_count": 18
        }
      ]
    },
    {
      "cell_type": "markdown",
      "metadata": {
        "id": "yytNPu46DDrm"
      },
      "source": [
        "### 2. Méthodes de series\n",
        "\n",
        "Il va être temps de commencer notre analyse en déterminant le nombre de campagnes différentes qui ont été envoyées. En premier lieu, sélectionnez uniquement la colonne `campaign_id`."
      ]
    },
    {
      "cell_type": "code",
      "metadata": {
        "colab": {
          "base_uri": "https://localhost:8080/"
        },
        "id": "apP8IsVcDDrm",
        "outputId": "f42f6b93-aa63-4359-e032-d82a455f355c"
      },
      "source": [
        "campaign.campaign_id"
      ],
      "execution_count": null,
      "outputs": [
        {
          "output_type": "execute_result",
          "data": {
            "text/plain": [
              "0        3\n",
              "1        1\n",
              "2        2\n",
              "3        1\n",
              "4        1\n",
              "        ..\n",
              "29753    3\n",
              "29754    1\n",
              "29755    1\n",
              "29756    1\n",
              "29757    1\n",
              "Name: campaign_id, Length: 29758, dtype: int64"
            ]
          },
          "metadata": {},
          "execution_count": 21
        }
      ]
    },
    {
      "cell_type": "markdown",
      "metadata": {
        "id": "vyeeMvWeDDrm"
      },
      "source": [
        "Même si cette dernière est codée avec des nombres, il s'agit bien d'une variable **qualitative**. Nous verrons un peu plus tard comment changer le type, mais nous chercherons avant tout le nombre de valeurs différentes au sein de notre variable : trouvez une [méthode](https://pandas.pydata.org/docs/reference/api/pandas.unique.html) appliquée à cette colonne permettant d'obtenir cela."
      ]
    },
    {
      "cell_type": "code",
      "metadata": {
        "scrolled": true,
        "colab": {
          "base_uri": "https://localhost:8080/"
        },
        "id": "iu_9mGDlDDrn",
        "outputId": "34146c20-b763-4bb6-d399-df98f4503c50"
      },
      "source": [
        "campaign['campaign_id'].unique()"
      ],
      "execution_count": null,
      "outputs": [
        {
          "output_type": "execute_result",
          "data": {
            "text/plain": [
              "array([3, 1, 2])"
            ]
          },
          "metadata": {},
          "execution_count": 22
        }
      ]
    },
    {
      "cell_type": "markdown",
      "metadata": {
        "id": "HUFKtIl8DDrn"
      },
      "source": [
        "De façon assez similaire, combien de canaux d'acquisition (`canal_id`) différents ont été utilisés ?"
      ]
    },
    {
      "cell_type": "code",
      "metadata": {
        "colab": {
          "base_uri": "https://localhost:8080/"
        },
        "id": "Ytox7kwzDDrn",
        "outputId": "815e98c6-737f-4432-dcbf-939d81dca96f"
      },
      "source": [
        "len(campaign['canal_id'].unique())"
      ],
      "execution_count": null,
      "outputs": [
        {
          "output_type": "execute_result",
          "data": {
            "text/plain": [
              "12880"
            ]
          },
          "metadata": {},
          "execution_count": 24
        }
      ]
    },
    {
      "cell_type": "markdown",
      "metadata": {
        "id": "_r_qWT7lDDro"
      },
      "source": [
        "Nous souhaitons à présent avoir le nombre de personnes qui ont été contactées par campagne, en gardant bien en tête qu'un individu n'a pu recevoir qu'une seule campagne sur les trois envoyées, donc une ligne de notre dataframe correspond à un client unique"
      ]
    },
    {
      "cell_type": "code",
      "metadata": {
        "colab": {
          "base_uri": "https://localhost:8080/"
        },
        "id": "ytBCeP32DDro",
        "outputId": "108c3972-28df-45b3-bf02-2d9152e83efc"
      },
      "source": [
        "campaign['campaign_id'].value_counts()"
      ],
      "execution_count": null,
      "outputs": [
        {
          "output_type": "execute_result",
          "data": {
            "text/plain": [
              "1    10038\n",
              "3     9863\n",
              "2     9857\n",
              "Name: campaign_id, dtype: int64"
            ]
          },
          "metadata": {},
          "execution_count": 25
        }
      ]
    },
    {
      "cell_type": "markdown",
      "metadata": {
        "id": "dx9pCoy-DDro"
      },
      "source": [
        "### 3. Ajout des informations de click et de purchase\n",
        "\n",
        "Dans un premier temps, importez les fichiers *click.csv* et *purchase.csv*, et affichez les 5 premières lignes"
      ]
    },
    {
      "cell_type": "code",
      "metadata": {
        "id": "ZfDDi8SLDDro"
      },
      "source": [
        "click= pd.read_csv('click.csv')"
      ],
      "execution_count": null,
      "outputs": []
    },
    {
      "cell_type": "markdown",
      "metadata": {
        "id": "c3l5uttXLiGV"
      },
      "source": [
        "Combien de cliques en total ?"
      ]
    },
    {
      "cell_type": "code",
      "metadata": {
        "colab": {
          "base_uri": "https://localhost:8080/"
        },
        "id": "MI7LRa6NLhgN",
        "outputId": "cc423e1e-a5e6-4dfd-eb5c-0df6d9282078"
      },
      "source": [
        "click.shape"
      ],
      "execution_count": null,
      "outputs": [
        {
          "output_type": "execute_result",
          "data": {
            "text/plain": [
              "(1775, 2)"
            ]
          },
          "metadata": {},
          "execution_count": 27
        }
      ]
    },
    {
      "cell_type": "code",
      "metadata": {
        "colab": {
          "base_uri": "https://localhost:8080/",
          "height": 420
        },
        "id": "RxZSAnrkNuFA",
        "outputId": "aef571db-2d3e-4848-fb81-b51c2621d8c7"
      },
      "source": [
        "click"
      ],
      "execution_count": null,
      "outputs": [
        {
          "output_type": "execute_result",
          "data": {
            "text/html": [
              "<div>\n",
              "<style scoped>\n",
              "    .dataframe tbody tr th:only-of-type {\n",
              "        vertical-align: middle;\n",
              "    }\n",
              "\n",
              "    .dataframe tbody tr th {\n",
              "        vertical-align: top;\n",
              "    }\n",
              "\n",
              "    .dataframe thead th {\n",
              "        text-align: right;\n",
              "    }\n",
              "</style>\n",
              "<table border=\"1\" class=\"dataframe\">\n",
              "  <thead>\n",
              "    <tr style=\"text-align: right;\">\n",
              "      <th></th>\n",
              "      <th>click_date</th>\n",
              "      <th>client_id</th>\n",
              "    </tr>\n",
              "  </thead>\n",
              "  <tbody>\n",
              "    <tr>\n",
              "      <th>0</th>\n",
              "      <td>2025-11-01 01:57:47</td>\n",
              "      <td>4217174943</td>\n",
              "    </tr>\n",
              "    <tr>\n",
              "      <th>1</th>\n",
              "      <td>2025-11-01 02:11:21</td>\n",
              "      <td>8581188253</td>\n",
              "    </tr>\n",
              "    <tr>\n",
              "      <th>2</th>\n",
              "      <td>2025-11-01 02:13:16</td>\n",
              "      <td>2693232025</td>\n",
              "    </tr>\n",
              "    <tr>\n",
              "      <th>3</th>\n",
              "      <td>2025-11-01 03:28:12</td>\n",
              "      <td>8905731989</td>\n",
              "    </tr>\n",
              "    <tr>\n",
              "      <th>4</th>\n",
              "      <td>2025-11-01 03:51:23</td>\n",
              "      <td>2071156755</td>\n",
              "    </tr>\n",
              "    <tr>\n",
              "      <th>...</th>\n",
              "      <td>...</td>\n",
              "      <td>...</td>\n",
              "    </tr>\n",
              "    <tr>\n",
              "      <th>1770</th>\n",
              "      <td>2025-12-01 10:29:52</td>\n",
              "      <td>4007461204</td>\n",
              "    </tr>\n",
              "    <tr>\n",
              "      <th>1771</th>\n",
              "      <td>2025-12-01 10:37:34</td>\n",
              "      <td>4493292524</td>\n",
              "    </tr>\n",
              "    <tr>\n",
              "      <th>1772</th>\n",
              "      <td>2025-12-01 10:38:14</td>\n",
              "      <td>5302443502</td>\n",
              "    </tr>\n",
              "    <tr>\n",
              "      <th>1773</th>\n",
              "      <td>2025-12-01 10:41:52</td>\n",
              "      <td>7295507401</td>\n",
              "    </tr>\n",
              "    <tr>\n",
              "      <th>1774</th>\n",
              "      <td>2025-12-01 10:42:05</td>\n",
              "      <td>2965986483</td>\n",
              "    </tr>\n",
              "  </tbody>\n",
              "</table>\n",
              "<p>1775 rows × 2 columns</p>\n",
              "</div>"
            ],
            "text/plain": [
              "               click_date   client_id\n",
              "0     2025-11-01 01:57:47  4217174943\n",
              "1     2025-11-01 02:11:21  8581188253\n",
              "2     2025-11-01 02:13:16  2693232025\n",
              "3     2025-11-01 03:28:12  8905731989\n",
              "4     2025-11-01 03:51:23  2071156755\n",
              "...                   ...         ...\n",
              "1770  2025-12-01 10:29:52  4007461204\n",
              "1771  2025-12-01 10:37:34  4493292524\n",
              "1772  2025-12-01 10:38:14  5302443502\n",
              "1773  2025-12-01 10:41:52  7295507401\n",
              "1774  2025-12-01 10:42:05  2965986483\n",
              "\n",
              "[1775 rows x 2 columns]"
            ]
          },
          "metadata": {},
          "execution_count": 28
        }
      ]
    },
    {
      "cell_type": "markdown",
      "metadata": {
        "id": "ELzJ3MhwLpC0"
      },
      "source": [
        "Verifier que nous avions bien un seul clique par client !"
      ]
    },
    {
      "cell_type": "code",
      "metadata": {
        "colab": {
          "base_uri": "https://localhost:8080/"
        },
        "id": "xsPV8lDDK0h_",
        "outputId": "573779f0-cf5b-4774-b10f-2a95f044fb43"
      },
      "source": [
        "len(click['client_id'].unique())"
      ],
      "execution_count": null,
      "outputs": [
        {
          "output_type": "execute_result",
          "data": {
            "text/plain": [
              "1775"
            ]
          },
          "metadata": {},
          "execution_count": 30
        }
      ]
    },
    {
      "cell_type": "code",
      "metadata": {
        "scrolled": true,
        "id": "0Hv0GPbmDDrp"
      },
      "source": [
        "purchase= pd.read_csv('purchase.csv')"
      ],
      "execution_count": null,
      "outputs": []
    },
    {
      "cell_type": "code",
      "metadata": {
        "colab": {
          "base_uri": "https://localhost:8080/",
          "height": 420
        },
        "id": "1RwKIRpJOQ5x",
        "outputId": "36dd7d2a-224e-4901-a48e-ed26e8e2957a"
      },
      "source": [
        "purchase"
      ],
      "execution_count": null,
      "outputs": [
        {
          "output_type": "execute_result",
          "data": {
            "text/html": [
              "<div>\n",
              "<style scoped>\n",
              "    .dataframe tbody tr th:only-of-type {\n",
              "        vertical-align: middle;\n",
              "    }\n",
              "\n",
              "    .dataframe tbody tr th {\n",
              "        vertical-align: top;\n",
              "    }\n",
              "\n",
              "    .dataframe thead th {\n",
              "        text-align: right;\n",
              "    }\n",
              "</style>\n",
              "<table border=\"1\" class=\"dataframe\">\n",
              "  <thead>\n",
              "    <tr style=\"text-align: right;\">\n",
              "      <th></th>\n",
              "      <th>purchase_date</th>\n",
              "      <th>client_id</th>\n",
              "      <th>product_id</th>\n",
              "      <th>gender</th>\n",
              "      <th>price</th>\n",
              "      <th>age</th>\n",
              "    </tr>\n",
              "  </thead>\n",
              "  <tbody>\n",
              "    <tr>\n",
              "      <th>0</th>\n",
              "      <td>1763303606</td>\n",
              "      <td>7048447933</td>\n",
              "      <td>1</td>\n",
              "      <td>m</td>\n",
              "      <td>354</td>\n",
              "      <td>65</td>\n",
              "    </tr>\n",
              "    <tr>\n",
              "      <th>1</th>\n",
              "      <td>1763341126</td>\n",
              "      <td>9138057668</td>\n",
              "      <td>8</td>\n",
              "      <td>f</td>\n",
              "      <td>165</td>\n",
              "      <td>37</td>\n",
              "    </tr>\n",
              "    <tr>\n",
              "      <th>2</th>\n",
              "      <td>1763398855</td>\n",
              "      <td>1327443078</td>\n",
              "      <td>3</td>\n",
              "      <td>f</td>\n",
              "      <td>29</td>\n",
              "      <td>28</td>\n",
              "    </tr>\n",
              "    <tr>\n",
              "      <th>3</th>\n",
              "      <td>1763455517</td>\n",
              "      <td>1083555113</td>\n",
              "      <td>3</td>\n",
              "      <td>f</td>\n",
              "      <td>29</td>\n",
              "      <td>23</td>\n",
              "    </tr>\n",
              "    <tr>\n",
              "      <th>4</th>\n",
              "      <td>1763543415</td>\n",
              "      <td>665955021</td>\n",
              "      <td>6</td>\n",
              "      <td>f</td>\n",
              "      <td>34</td>\n",
              "      <td>25</td>\n",
              "    </tr>\n",
              "    <tr>\n",
              "      <th>...</th>\n",
              "      <td>...</td>\n",
              "      <td>...</td>\n",
              "      <td>...</td>\n",
              "      <td>...</td>\n",
              "      <td>...</td>\n",
              "      <td>...</td>\n",
              "    </tr>\n",
              "    <tr>\n",
              "      <th>135</th>\n",
              "      <td>1766515963</td>\n",
              "      <td>67211265</td>\n",
              "      <td>3</td>\n",
              "      <td>m</td>\n",
              "      <td>29</td>\n",
              "      <td>27</td>\n",
              "    </tr>\n",
              "    <tr>\n",
              "      <th>136</th>\n",
              "      <td>1766531026</td>\n",
              "      <td>6200686769</td>\n",
              "      <td>3</td>\n",
              "      <td>f</td>\n",
              "      <td>29</td>\n",
              "      <td>21</td>\n",
              "    </tr>\n",
              "    <tr>\n",
              "      <th>137</th>\n",
              "      <td>1766638894</td>\n",
              "      <td>7847011933</td>\n",
              "      <td>3</td>\n",
              "      <td>f</td>\n",
              "      <td>29</td>\n",
              "      <td>19</td>\n",
              "    </tr>\n",
              "    <tr>\n",
              "      <th>138</th>\n",
              "      <td>1766662814</td>\n",
              "      <td>7896338445</td>\n",
              "      <td>8</td>\n",
              "      <td>m</td>\n",
              "      <td>165</td>\n",
              "      <td>47</td>\n",
              "    </tr>\n",
              "    <tr>\n",
              "      <th>139</th>\n",
              "      <td>1766690086</td>\n",
              "      <td>2066294216</td>\n",
              "      <td>5</td>\n",
              "      <td>f</td>\n",
              "      <td>89</td>\n",
              "      <td>45</td>\n",
              "    </tr>\n",
              "  </tbody>\n",
              "</table>\n",
              "<p>140 rows × 6 columns</p>\n",
              "</div>"
            ],
            "text/plain": [
              "     purchase_date   client_id  product_id gender  price  age\n",
              "0       1763303606  7048447933           1      m    354   65\n",
              "1       1763341126  9138057668           8      f    165   37\n",
              "2       1763398855  1327443078           3      f     29   28\n",
              "3       1763455517  1083555113           3      f     29   23\n",
              "4       1763543415   665955021           6      f     34   25\n",
              "..             ...         ...         ...    ...    ...  ...\n",
              "135     1766515963    67211265           3      m     29   27\n",
              "136     1766531026  6200686769           3      f     29   21\n",
              "137     1766638894  7847011933           3      f     29   19\n",
              "138     1766662814  7896338445           8      m    165   47\n",
              "139     1766690086  2066294216           5      f     89   45\n",
              "\n",
              "[140 rows x 6 columns]"
            ]
          },
          "metadata": {},
          "execution_count": 32
        }
      ]
    },
    {
      "cell_type": "markdown",
      "metadata": {
        "id": "JSnoC5AeDDrp"
      },
      "source": [
        "Il va falloir à présent ajouter les informations de click et purchase à notre dataframe initial campaign. Nous pourrons faire cela via la fonction [`merge`](https://pandas.pydata.org/pandas-docs/stable/reference/api/pandas.merge.html) de pandas.\n",
        "\n",
        "Il existe 3 grands type de [`jointures`](https://medium.com/@yannicknoubissi2018/sql-jointures-eefc6e77c85d) :\n",
        "- interne\n",
        "- externe\n",
        "- à droite ou à gauche\n",
        "\n",
        "Ici, on souhaite absolument conserver l'ensemble des informations qui sont dans notre dataframe initial (campaign). Faites dans un premier temps la jointure adaptée entre *campaign* et *click* :"
      ]
    },
    {
      "cell_type": "code",
      "metadata": {
        "id": "7EaHg7dpDDrp"
      },
      "source": [
        " df_final= pd.merge(campaign, click, on='client_id', how='left')"
      ],
      "execution_count": null,
      "outputs": []
    },
    {
      "cell_type": "code",
      "metadata": {
        "colab": {
          "base_uri": "https://localhost:8080/",
          "height": 420
        },
        "id": "_tpT7YBdPNb5",
        "outputId": "cf0ec151-cac5-4171-8a04-9d755c277235"
      },
      "source": [
        "df_final"
      ],
      "execution_count": null,
      "outputs": [
        {
          "output_type": "execute_result",
          "data": {
            "text/html": [
              "<div>\n",
              "<style scoped>\n",
              "    .dataframe tbody tr th:only-of-type {\n",
              "        vertical-align: middle;\n",
              "    }\n",
              "\n",
              "    .dataframe tbody tr th {\n",
              "        vertical-align: top;\n",
              "    }\n",
              "\n",
              "    .dataframe thead th {\n",
              "        text-align: right;\n",
              "    }\n",
              "</style>\n",
              "<table border=\"1\" class=\"dataframe\">\n",
              "  <thead>\n",
              "    <tr style=\"text-align: right;\">\n",
              "      <th></th>\n",
              "      <th>client_id</th>\n",
              "      <th>campaign_id</th>\n",
              "      <th>canal_id</th>\n",
              "      <th>click_date</th>\n",
              "    </tr>\n",
              "  </thead>\n",
              "  <tbody>\n",
              "    <tr>\n",
              "      <th>0</th>\n",
              "      <td>2392769782</td>\n",
              "      <td>3</td>\n",
              "      <td>370668</td>\n",
              "      <td>NaN</td>\n",
              "    </tr>\n",
              "    <tr>\n",
              "      <th>1</th>\n",
              "      <td>2693949047</td>\n",
              "      <td>1</td>\n",
              "      <td>339897</td>\n",
              "      <td>NaN</td>\n",
              "    </tr>\n",
              "    <tr>\n",
              "      <th>2</th>\n",
              "      <td>6841408721</td>\n",
              "      <td>2</td>\n",
              "      <td>989339</td>\n",
              "      <td>NaN</td>\n",
              "    </tr>\n",
              "    <tr>\n",
              "      <th>3</th>\n",
              "      <td>1457891936</td>\n",
              "      <td>1</td>\n",
              "      <td>530191</td>\n",
              "      <td>NaN</td>\n",
              "    </tr>\n",
              "    <tr>\n",
              "      <th>4</th>\n",
              "      <td>5354259272</td>\n",
              "      <td>1</td>\n",
              "      <td>206900</td>\n",
              "      <td>NaN</td>\n",
              "    </tr>\n",
              "    <tr>\n",
              "      <th>...</th>\n",
              "      <td>...</td>\n",
              "      <td>...</td>\n",
              "      <td>...</td>\n",
              "      <td>...</td>\n",
              "    </tr>\n",
              "    <tr>\n",
              "      <th>29753</th>\n",
              "      <td>2701723551</td>\n",
              "      <td>3</td>\n",
              "      <td>140514</td>\n",
              "      <td>NaN</td>\n",
              "    </tr>\n",
              "    <tr>\n",
              "      <th>29754</th>\n",
              "      <td>7271996385</td>\n",
              "      <td>1</td>\n",
              "      <td>892234</td>\n",
              "      <td>NaN</td>\n",
              "    </tr>\n",
              "    <tr>\n",
              "      <th>29755</th>\n",
              "      <td>4035966889</td>\n",
              "      <td>1</td>\n",
              "      <td>563313</td>\n",
              "      <td>NaN</td>\n",
              "    </tr>\n",
              "    <tr>\n",
              "      <th>29756</th>\n",
              "      <td>7499403392</td>\n",
              "      <td>1</td>\n",
              "      <td>325552</td>\n",
              "      <td>NaN</td>\n",
              "    </tr>\n",
              "    <tr>\n",
              "      <th>29757</th>\n",
              "      <td>2017465235</td>\n",
              "      <td>1</td>\n",
              "      <td>812611</td>\n",
              "      <td>NaN</td>\n",
              "    </tr>\n",
              "  </tbody>\n",
              "</table>\n",
              "<p>29758 rows × 4 columns</p>\n",
              "</div>"
            ],
            "text/plain": [
              "        client_id  campaign_id  canal_id click_date\n",
              "0      2392769782            3    370668        NaN\n",
              "1      2693949047            1    339897        NaN\n",
              "2      6841408721            2    989339        NaN\n",
              "3      1457891936            1    530191        NaN\n",
              "4      5354259272            1    206900        NaN\n",
              "...           ...          ...       ...        ...\n",
              "29753  2701723551            3    140514        NaN\n",
              "29754  7271996385            1    892234        NaN\n",
              "29755  4035966889            1    563313        NaN\n",
              "29756  7499403392            1    325552        NaN\n",
              "29757  2017465235            1    812611        NaN\n",
              "\n",
              "[29758 rows x 4 columns]"
            ]
          },
          "metadata": {},
          "execution_count": 34
        }
      ]
    },
    {
      "cell_type": "markdown",
      "metadata": {
        "id": "WIuGwh1xDDrp"
      },
      "source": [
        "Vous avez normalement des NaN qui apparaissent : pas de panique tout est parfaitement normal, car sur l'ensemble des clients, tous n'ont pas cliqué !\n",
        "\n",
        "Faites ensuite la jointure entre le dataframe obtenu et la table purchase, de la même façon. Vous nommerez le dataframe final, `df_final` :"
      ]
    },
    {
      "cell_type": "code",
      "metadata": {
        "id": "r20_LGLlDDrp"
      },
      "source": [
        "df_final= pd.merge(df_final, purchase, on='client_id', how='left')"
      ],
      "execution_count": null,
      "outputs": []
    },
    {
      "cell_type": "code",
      "metadata": {
        "colab": {
          "base_uri": "https://localhost:8080/",
          "height": 420
        },
        "id": "o34k14iqQMAr",
        "outputId": "46e6b1f6-4a0e-444c-97e9-8af21f467704"
      },
      "source": [
        "df_final"
      ],
      "execution_count": null,
      "outputs": [
        {
          "output_type": "execute_result",
          "data": {
            "text/html": [
              "<div>\n",
              "<style scoped>\n",
              "    .dataframe tbody tr th:only-of-type {\n",
              "        vertical-align: middle;\n",
              "    }\n",
              "\n",
              "    .dataframe tbody tr th {\n",
              "        vertical-align: top;\n",
              "    }\n",
              "\n",
              "    .dataframe thead th {\n",
              "        text-align: right;\n",
              "    }\n",
              "</style>\n",
              "<table border=\"1\" class=\"dataframe\">\n",
              "  <thead>\n",
              "    <tr style=\"text-align: right;\">\n",
              "      <th></th>\n",
              "      <th>client_id</th>\n",
              "      <th>campaign_id</th>\n",
              "      <th>canal_id</th>\n",
              "      <th>click_date</th>\n",
              "      <th>purchase_date</th>\n",
              "      <th>product_id</th>\n",
              "      <th>gender</th>\n",
              "      <th>price</th>\n",
              "      <th>age</th>\n",
              "    </tr>\n",
              "  </thead>\n",
              "  <tbody>\n",
              "    <tr>\n",
              "      <th>0</th>\n",
              "      <td>2392769782</td>\n",
              "      <td>3</td>\n",
              "      <td>370668</td>\n",
              "      <td>NaN</td>\n",
              "      <td>NaN</td>\n",
              "      <td>NaN</td>\n",
              "      <td>NaN</td>\n",
              "      <td>NaN</td>\n",
              "      <td>NaN</td>\n",
              "    </tr>\n",
              "    <tr>\n",
              "      <th>1</th>\n",
              "      <td>2693949047</td>\n",
              "      <td>1</td>\n",
              "      <td>339897</td>\n",
              "      <td>NaN</td>\n",
              "      <td>NaN</td>\n",
              "      <td>NaN</td>\n",
              "      <td>NaN</td>\n",
              "      <td>NaN</td>\n",
              "      <td>NaN</td>\n",
              "    </tr>\n",
              "    <tr>\n",
              "      <th>2</th>\n",
              "      <td>6841408721</td>\n",
              "      <td>2</td>\n",
              "      <td>989339</td>\n",
              "      <td>NaN</td>\n",
              "      <td>NaN</td>\n",
              "      <td>NaN</td>\n",
              "      <td>NaN</td>\n",
              "      <td>NaN</td>\n",
              "      <td>NaN</td>\n",
              "    </tr>\n",
              "    <tr>\n",
              "      <th>3</th>\n",
              "      <td>1457891936</td>\n",
              "      <td>1</td>\n",
              "      <td>530191</td>\n",
              "      <td>NaN</td>\n",
              "      <td>NaN</td>\n",
              "      <td>NaN</td>\n",
              "      <td>NaN</td>\n",
              "      <td>NaN</td>\n",
              "      <td>NaN</td>\n",
              "    </tr>\n",
              "    <tr>\n",
              "      <th>4</th>\n",
              "      <td>5354259272</td>\n",
              "      <td>1</td>\n",
              "      <td>206900</td>\n",
              "      <td>NaN</td>\n",
              "      <td>NaN</td>\n",
              "      <td>NaN</td>\n",
              "      <td>NaN</td>\n",
              "      <td>NaN</td>\n",
              "      <td>NaN</td>\n",
              "    </tr>\n",
              "    <tr>\n",
              "      <th>...</th>\n",
              "      <td>...</td>\n",
              "      <td>...</td>\n",
              "      <td>...</td>\n",
              "      <td>...</td>\n",
              "      <td>...</td>\n",
              "      <td>...</td>\n",
              "      <td>...</td>\n",
              "      <td>...</td>\n",
              "      <td>...</td>\n",
              "    </tr>\n",
              "    <tr>\n",
              "      <th>29753</th>\n",
              "      <td>2701723551</td>\n",
              "      <td>3</td>\n",
              "      <td>140514</td>\n",
              "      <td>NaN</td>\n",
              "      <td>NaN</td>\n",
              "      <td>NaN</td>\n",
              "      <td>NaN</td>\n",
              "      <td>NaN</td>\n",
              "      <td>NaN</td>\n",
              "    </tr>\n",
              "    <tr>\n",
              "      <th>29754</th>\n",
              "      <td>7271996385</td>\n",
              "      <td>1</td>\n",
              "      <td>892234</td>\n",
              "      <td>NaN</td>\n",
              "      <td>NaN</td>\n",
              "      <td>NaN</td>\n",
              "      <td>NaN</td>\n",
              "      <td>NaN</td>\n",
              "      <td>NaN</td>\n",
              "    </tr>\n",
              "    <tr>\n",
              "      <th>29755</th>\n",
              "      <td>4035966889</td>\n",
              "      <td>1</td>\n",
              "      <td>563313</td>\n",
              "      <td>NaN</td>\n",
              "      <td>NaN</td>\n",
              "      <td>NaN</td>\n",
              "      <td>NaN</td>\n",
              "      <td>NaN</td>\n",
              "      <td>NaN</td>\n",
              "    </tr>\n",
              "    <tr>\n",
              "      <th>29756</th>\n",
              "      <td>7499403392</td>\n",
              "      <td>1</td>\n",
              "      <td>325552</td>\n",
              "      <td>NaN</td>\n",
              "      <td>NaN</td>\n",
              "      <td>NaN</td>\n",
              "      <td>NaN</td>\n",
              "      <td>NaN</td>\n",
              "      <td>NaN</td>\n",
              "    </tr>\n",
              "    <tr>\n",
              "      <th>29757</th>\n",
              "      <td>2017465235</td>\n",
              "      <td>1</td>\n",
              "      <td>812611</td>\n",
              "      <td>NaN</td>\n",
              "      <td>NaN</td>\n",
              "      <td>NaN</td>\n",
              "      <td>NaN</td>\n",
              "      <td>NaN</td>\n",
              "      <td>NaN</td>\n",
              "    </tr>\n",
              "  </tbody>\n",
              "</table>\n",
              "<p>29758 rows × 9 columns</p>\n",
              "</div>"
            ],
            "text/plain": [
              "        client_id  campaign_id  canal_id  ... gender  price  age\n",
              "0      2392769782            3    370668  ...    NaN    NaN  NaN\n",
              "1      2693949047            1    339897  ...    NaN    NaN  NaN\n",
              "2      6841408721            2    989339  ...    NaN    NaN  NaN\n",
              "3      1457891936            1    530191  ...    NaN    NaN  NaN\n",
              "4      5354259272            1    206900  ...    NaN    NaN  NaN\n",
              "...           ...          ...       ...  ...    ...    ...  ...\n",
              "29753  2701723551            3    140514  ...    NaN    NaN  NaN\n",
              "29754  7271996385            1    892234  ...    NaN    NaN  NaN\n",
              "29755  4035966889            1    563313  ...    NaN    NaN  NaN\n",
              "29756  7499403392            1    325552  ...    NaN    NaN  NaN\n",
              "29757  2017465235            1    812611  ...    NaN    NaN  NaN\n",
              "\n",
              "[29758 rows x 9 columns]"
            ]
          },
          "metadata": {},
          "execution_count": 36
        }
      ]
    },
    {
      "cell_type": "markdown",
      "metadata": {
        "id": "A7fb3BWuDDrp"
      },
      "source": [
        "### 4. Analyse rapide des informations de notre table\n",
        "\n",
        "Utilisez les fonctions [`describe`](https://pandas.pydata.org/pandas-docs/stable/reference/api/pandas.DataFrame.describe.html) et [`info`](https://pandas.pydata.org/pandas-docs/stable/reference/api/pandas.DataFrame.info.html) pour avoir quelques informations rapides sur les variables de notre dataframe :"
      ]
    },
    {
      "cell_type": "code",
      "metadata": {
        "colab": {
          "base_uri": "https://localhost:8080/",
          "height": 297
        },
        "id": "NfEhTtA6DDrq",
        "outputId": "1ef3d89d-e85f-4e62-9d23-710015674138"
      },
      "source": [
        "df_final.describe()"
      ],
      "execution_count": null,
      "outputs": [
        {
          "output_type": "execute_result",
          "data": {
            "text/html": [
              "<div>\n",
              "<style scoped>\n",
              "    .dataframe tbody tr th:only-of-type {\n",
              "        vertical-align: middle;\n",
              "    }\n",
              "\n",
              "    .dataframe tbody tr th {\n",
              "        vertical-align: top;\n",
              "    }\n",
              "\n",
              "    .dataframe thead th {\n",
              "        text-align: right;\n",
              "    }\n",
              "</style>\n",
              "<table border=\"1\" class=\"dataframe\">\n",
              "  <thead>\n",
              "    <tr style=\"text-align: right;\">\n",
              "      <th></th>\n",
              "      <th>client_id</th>\n",
              "      <th>campaign_id</th>\n",
              "      <th>canal_id</th>\n",
              "      <th>purchase_date</th>\n",
              "      <th>product_id</th>\n",
              "      <th>price</th>\n",
              "      <th>age</th>\n",
              "    </tr>\n",
              "  </thead>\n",
              "  <tbody>\n",
              "    <tr>\n",
              "      <th>count</th>\n",
              "      <td>2.975800e+04</td>\n",
              "      <td>29758.000000</td>\n",
              "      <td>29758.000000</td>\n",
              "      <td>1.400000e+02</td>\n",
              "      <td>140.000000</td>\n",
              "      <td>140.000000</td>\n",
              "      <td>140.000000</td>\n",
              "    </tr>\n",
              "    <tr>\n",
              "      <th>mean</th>\n",
              "      <td>5.026531e+09</td>\n",
              "      <td>1.994119</td>\n",
              "      <td>501509.408058</td>\n",
              "      <td>1.765143e+09</td>\n",
              "      <td>4.328571</td>\n",
              "      <td>145.807143</td>\n",
              "      <td>39.085714</td>\n",
              "    </tr>\n",
              "    <tr>\n",
              "      <th>std</th>\n",
              "      <td>2.905848e+09</td>\n",
              "      <td>0.817771</td>\n",
              "      <td>289922.270987</td>\n",
              "      <td>8.263867e+05</td>\n",
              "      <td>2.190374</td>\n",
              "      <td>112.746478</td>\n",
              "      <td>15.167879</td>\n",
              "    </tr>\n",
              "    <tr>\n",
              "      <th>min</th>\n",
              "      <td>3.544420e+05</td>\n",
              "      <td>1.000000</td>\n",
              "      <td>45.000000</td>\n",
              "      <td>1.763304e+09</td>\n",
              "      <td>1.000000</td>\n",
              "      <td>29.000000</td>\n",
              "      <td>19.000000</td>\n",
              "    </tr>\n",
              "    <tr>\n",
              "      <th>25%</th>\n",
              "      <td>2.520960e+09</td>\n",
              "      <td>1.000000</td>\n",
              "      <td>249755.000000</td>\n",
              "      <td>1.764510e+09</td>\n",
              "      <td>3.000000</td>\n",
              "      <td>67.000000</td>\n",
              "      <td>27.000000</td>\n",
              "    </tr>\n",
              "    <tr>\n",
              "      <th>50%</th>\n",
              "      <td>5.042014e+09</td>\n",
              "      <td>2.000000</td>\n",
              "      <td>502512.000000</td>\n",
              "      <td>1.765181e+09</td>\n",
              "      <td>4.000000</td>\n",
              "      <td>89.000000</td>\n",
              "      <td>34.500000</td>\n",
              "    </tr>\n",
              "    <tr>\n",
              "      <th>75%</th>\n",
              "      <td>7.548261e+09</td>\n",
              "      <td>3.000000</td>\n",
              "      <td>753595.750000</td>\n",
              "      <td>1.765813e+09</td>\n",
              "      <td>6.000000</td>\n",
              "      <td>299.000000</td>\n",
              "      <td>56.000000</td>\n",
              "    </tr>\n",
              "    <tr>\n",
              "      <th>max</th>\n",
              "      <td>9.999882e+09</td>\n",
              "      <td>3.000000</td>\n",
              "      <td>999903.000000</td>\n",
              "      <td>1.766690e+09</td>\n",
              "      <td>8.000000</td>\n",
              "      <td>354.000000</td>\n",
              "      <td>69.000000</td>\n",
              "    </tr>\n",
              "  </tbody>\n",
              "</table>\n",
              "</div>"
            ],
            "text/plain": [
              "          client_id   campaign_id  ...       price         age\n",
              "count  2.975800e+04  29758.000000  ...  140.000000  140.000000\n",
              "mean   5.026531e+09      1.994119  ...  145.807143   39.085714\n",
              "std    2.905848e+09      0.817771  ...  112.746478   15.167879\n",
              "min    3.544420e+05      1.000000  ...   29.000000   19.000000\n",
              "25%    2.520960e+09      1.000000  ...   67.000000   27.000000\n",
              "50%    5.042014e+09      2.000000  ...   89.000000   34.500000\n",
              "75%    7.548261e+09      3.000000  ...  299.000000   56.000000\n",
              "max    9.999882e+09      3.000000  ...  354.000000   69.000000\n",
              "\n",
              "[8 rows x 7 columns]"
            ]
          },
          "metadata": {},
          "execution_count": 37
        }
      ]
    },
    {
      "cell_type": "code",
      "metadata": {
        "colab": {
          "base_uri": "https://localhost:8080/"
        },
        "id": "sKVijzO-DDrq",
        "outputId": "4378cba8-747e-4351-bc14-ddb2efcca37a"
      },
      "source": [
        "df_final.info()"
      ],
      "execution_count": null,
      "outputs": [
        {
          "output_type": "stream",
          "name": "stdout",
          "text": [
            "<class 'pandas.core.frame.DataFrame'>\n",
            "Int64Index: 29758 entries, 0 to 29757\n",
            "Data columns (total 9 columns):\n",
            " #   Column         Non-Null Count  Dtype  \n",
            "---  ------         --------------  -----  \n",
            " 0   client_id      29758 non-null  int64  \n",
            " 1   campaign_id    29758 non-null  int64  \n",
            " 2   canal_id       29758 non-null  int64  \n",
            " 3   click_date     1775 non-null   object \n",
            " 4   purchase_date  140 non-null    float64\n",
            " 5   product_id     140 non-null    float64\n",
            " 6   gender         140 non-null    object \n",
            " 7   price          140 non-null    float64\n",
            " 8   age            140 non-null    float64\n",
            "dtypes: float64(4), int64(3), object(2)\n",
            "memory usage: 2.3+ MB\n"
          ]
        }
      ]
    },
    {
      "cell_type": "markdown",
      "metadata": {
        "id": "NWZ1Y63CDDrq"
      },
      "source": [
        "A partir de cette dernière méthode, pouvez-vous déterminer le nombre de personnes ayant cliqué et le nombre de personnes ayant acheté parmi ces dernières ?"
      ]
    },
    {
      "cell_type": "markdown",
      "metadata": {
        "id": "8Dr65XFyDDrq"
      },
      "source": [
        "### 5. Changement de type\n",
        "\n",
        "En regardant le résultat de la méthode *info*, on se rend compte que plusieurs variables n'ont pas le bon type, notamment : client_id, campaign_id, canal_id et product_id qui ont été importées en int ou float, alors que ce sont des variables qualitatives.\n",
        "\n",
        "[Modifiez](https://pandas.pydata.org/pandas-docs/stable/reference/api/pandas.DataFrame.astype.html) donc leur type pour les mettre en string ou category."
      ]
    },
    {
      "cell_type": "code",
      "metadata": {
        "id": "MVQCcBU_DDrq"
      },
      "source": [
        "var_modif=['client_id', 'campaign_id','canal_id', 'product_id']\n",
        "\n",
        "for var in var_modif:\n",
        "  df_final[var]= df_final[var].astype('category')\n"
      ],
      "execution_count": null,
      "outputs": []
    },
    {
      "cell_type": "markdown",
      "metadata": {
        "id": "9P3zzBdPDDrq"
      },
      "source": [
        "On remarque également que click_date et purchase_date n'ont pas le bon format : ce sont censés être des dates, alors qu'elles sont actuellement codées comme étant respectivement chaine de caractère (`object`) et décimaux (`float`). La fonction utile dans ce cas sera [`to_datetime`](https://pandas.pydata.org/pandas-docs/stable/reference/api/pandas.to_datetime.html)\n",
        "\n",
        "Convertissez click_date au format datetime :"
      ]
    },
    {
      "cell_type": "code",
      "metadata": {
        "id": "0V8CyHDhDDrr"
      },
      "source": [
        "df_final['click_date']= pd.to_datetime (  df_final['click_date'], format= '%Y-%m-%d %H:%M:%S'  )"
      ],
      "execution_count": null,
      "outputs": []
    },
    {
      "cell_type": "code",
      "metadata": {
        "colab": {
          "base_uri": "https://localhost:8080/"
        },
        "id": "eJrG8bZxPtd_",
        "outputId": "e6f829c2-9926-4055-bcb0-72f284a81add"
      },
      "source": [
        "df_final.info()"
      ],
      "execution_count": null,
      "outputs": [
        {
          "output_type": "stream",
          "name": "stdout",
          "text": [
            "<class 'pandas.core.frame.DataFrame'>\n",
            "Int64Index: 29758 entries, 0 to 29757\n",
            "Data columns (total 9 columns):\n",
            " #   Column         Non-Null Count  Dtype         \n",
            "---  ------         --------------  -----         \n",
            " 0   client_id      29758 non-null  category      \n",
            " 1   campaign_id    29758 non-null  category      \n",
            " 2   canal_id       29758 non-null  category      \n",
            " 3   click_date     1775 non-null   datetime64[ns]\n",
            " 4   purchase_date  140 non-null    float64       \n",
            " 5   product_id     140 non-null    category      \n",
            " 6   gender         140 non-null    object        \n",
            " 7   price          140 non-null    float64       \n",
            " 8   age            140 non-null    float64       \n",
            "dtypes: category(4), datetime64[ns](1), float64(3), object(1)\n",
            "memory usage: 3.7+ MB\n"
          ]
        }
      ]
    },
    {
      "cell_type": "markdown",
      "metadata": {
        "id": "M9t8bAqlDDrr"
      },
      "source": [
        "*purchase_date* est un peu particulière, car le format est ce qu'on appelle un timestamp. Le timestamp désigne le nombre de secondes écoulées depuis le 1er janvier 1970 à minuit UTC précises jusqu'à la date exprimée. Même si le format diffère, la fonction de conversion reste la même, il suffira de modifier les options de cette dernière."
      ]
    },
    {
      "cell_type": "code",
      "metadata": {
        "id": "jPG1RyvfDDrr"
      },
      "source": [
        "df_final['purchase_date']= pd.to_datetime (  df_final['purchase_date'], unit= 's'  )"
      ],
      "execution_count": null,
      "outputs": []
    },
    {
      "cell_type": "code",
      "metadata": {
        "colab": {
          "base_uri": "https://localhost:8080/",
          "height": 420
        },
        "id": "JTWpEPt1Px6b",
        "outputId": "a741ab93-4477-4a4d-c7dc-9798ff52adae"
      },
      "source": [
        "df_final"
      ],
      "execution_count": null,
      "outputs": [
        {
          "output_type": "execute_result",
          "data": {
            "text/html": [
              "<div>\n",
              "<style scoped>\n",
              "    .dataframe tbody tr th:only-of-type {\n",
              "        vertical-align: middle;\n",
              "    }\n",
              "\n",
              "    .dataframe tbody tr th {\n",
              "        vertical-align: top;\n",
              "    }\n",
              "\n",
              "    .dataframe thead th {\n",
              "        text-align: right;\n",
              "    }\n",
              "</style>\n",
              "<table border=\"1\" class=\"dataframe\">\n",
              "  <thead>\n",
              "    <tr style=\"text-align: right;\">\n",
              "      <th></th>\n",
              "      <th>client_id</th>\n",
              "      <th>campaign_id</th>\n",
              "      <th>canal_id</th>\n",
              "      <th>click_date</th>\n",
              "      <th>purchase_date</th>\n",
              "      <th>product_id</th>\n",
              "      <th>gender</th>\n",
              "      <th>price</th>\n",
              "      <th>age</th>\n",
              "    </tr>\n",
              "  </thead>\n",
              "  <tbody>\n",
              "    <tr>\n",
              "      <th>0</th>\n",
              "      <td>2392769782</td>\n",
              "      <td>3</td>\n",
              "      <td>370668</td>\n",
              "      <td>NaT</td>\n",
              "      <td>NaT</td>\n",
              "      <td>NaN</td>\n",
              "      <td>NaN</td>\n",
              "      <td>NaN</td>\n",
              "      <td>NaN</td>\n",
              "    </tr>\n",
              "    <tr>\n",
              "      <th>1</th>\n",
              "      <td>2693949047</td>\n",
              "      <td>1</td>\n",
              "      <td>339897</td>\n",
              "      <td>NaT</td>\n",
              "      <td>NaT</td>\n",
              "      <td>NaN</td>\n",
              "      <td>NaN</td>\n",
              "      <td>NaN</td>\n",
              "      <td>NaN</td>\n",
              "    </tr>\n",
              "    <tr>\n",
              "      <th>2</th>\n",
              "      <td>6841408721</td>\n",
              "      <td>2</td>\n",
              "      <td>989339</td>\n",
              "      <td>NaT</td>\n",
              "      <td>NaT</td>\n",
              "      <td>NaN</td>\n",
              "      <td>NaN</td>\n",
              "      <td>NaN</td>\n",
              "      <td>NaN</td>\n",
              "    </tr>\n",
              "    <tr>\n",
              "      <th>3</th>\n",
              "      <td>1457891936</td>\n",
              "      <td>1</td>\n",
              "      <td>530191</td>\n",
              "      <td>NaT</td>\n",
              "      <td>NaT</td>\n",
              "      <td>NaN</td>\n",
              "      <td>NaN</td>\n",
              "      <td>NaN</td>\n",
              "      <td>NaN</td>\n",
              "    </tr>\n",
              "    <tr>\n",
              "      <th>4</th>\n",
              "      <td>5354259272</td>\n",
              "      <td>1</td>\n",
              "      <td>206900</td>\n",
              "      <td>NaT</td>\n",
              "      <td>NaT</td>\n",
              "      <td>NaN</td>\n",
              "      <td>NaN</td>\n",
              "      <td>NaN</td>\n",
              "      <td>NaN</td>\n",
              "    </tr>\n",
              "    <tr>\n",
              "      <th>...</th>\n",
              "      <td>...</td>\n",
              "      <td>...</td>\n",
              "      <td>...</td>\n",
              "      <td>...</td>\n",
              "      <td>...</td>\n",
              "      <td>...</td>\n",
              "      <td>...</td>\n",
              "      <td>...</td>\n",
              "      <td>...</td>\n",
              "    </tr>\n",
              "    <tr>\n",
              "      <th>29753</th>\n",
              "      <td>2701723551</td>\n",
              "      <td>3</td>\n",
              "      <td>140514</td>\n",
              "      <td>NaT</td>\n",
              "      <td>NaT</td>\n",
              "      <td>NaN</td>\n",
              "      <td>NaN</td>\n",
              "      <td>NaN</td>\n",
              "      <td>NaN</td>\n",
              "    </tr>\n",
              "    <tr>\n",
              "      <th>29754</th>\n",
              "      <td>7271996385</td>\n",
              "      <td>1</td>\n",
              "      <td>892234</td>\n",
              "      <td>NaT</td>\n",
              "      <td>NaT</td>\n",
              "      <td>NaN</td>\n",
              "      <td>NaN</td>\n",
              "      <td>NaN</td>\n",
              "      <td>NaN</td>\n",
              "    </tr>\n",
              "    <tr>\n",
              "      <th>29755</th>\n",
              "      <td>4035966889</td>\n",
              "      <td>1</td>\n",
              "      <td>563313</td>\n",
              "      <td>NaT</td>\n",
              "      <td>NaT</td>\n",
              "      <td>NaN</td>\n",
              "      <td>NaN</td>\n",
              "      <td>NaN</td>\n",
              "      <td>NaN</td>\n",
              "    </tr>\n",
              "    <tr>\n",
              "      <th>29756</th>\n",
              "      <td>7499403392</td>\n",
              "      <td>1</td>\n",
              "      <td>325552</td>\n",
              "      <td>NaT</td>\n",
              "      <td>NaT</td>\n",
              "      <td>NaN</td>\n",
              "      <td>NaN</td>\n",
              "      <td>NaN</td>\n",
              "      <td>NaN</td>\n",
              "    </tr>\n",
              "    <tr>\n",
              "      <th>29757</th>\n",
              "      <td>2017465235</td>\n",
              "      <td>1</td>\n",
              "      <td>812611</td>\n",
              "      <td>NaT</td>\n",
              "      <td>NaT</td>\n",
              "      <td>NaN</td>\n",
              "      <td>NaN</td>\n",
              "      <td>NaN</td>\n",
              "      <td>NaN</td>\n",
              "    </tr>\n",
              "  </tbody>\n",
              "</table>\n",
              "<p>29758 rows × 9 columns</p>\n",
              "</div>"
            ],
            "text/plain": [
              "        client_id campaign_id canal_id click_date  ... product_id gender price  age\n",
              "0      2392769782           3   370668        NaT  ...        NaN    NaN   NaN  NaN\n",
              "1      2693949047           1   339897        NaT  ...        NaN    NaN   NaN  NaN\n",
              "2      6841408721           2   989339        NaT  ...        NaN    NaN   NaN  NaN\n",
              "3      1457891936           1   530191        NaT  ...        NaN    NaN   NaN  NaN\n",
              "4      5354259272           1   206900        NaT  ...        NaN    NaN   NaN  NaN\n",
              "...           ...         ...      ...        ...  ...        ...    ...   ...  ...\n",
              "29753  2701723551           3   140514        NaT  ...        NaN    NaN   NaN  NaN\n",
              "29754  7271996385           1   892234        NaT  ...        NaN    NaN   NaN  NaN\n",
              "29755  4035966889           1   563313        NaT  ...        NaN    NaN   NaN  NaN\n",
              "29756  7499403392           1   325552        NaT  ...        NaN    NaN   NaN  NaN\n",
              "29757  2017465235           1   812611        NaT  ...        NaN    NaN   NaN  NaN\n",
              "\n",
              "[29758 rows x 9 columns]"
            ]
          },
          "metadata": {},
          "execution_count": 44
        }
      ]
    },
    {
      "cell_type": "code",
      "metadata": {
        "colab": {
          "base_uri": "https://localhost:8080/"
        },
        "id": "9ue_MxGDDDrr",
        "outputId": "c8875d56-8a3d-4bea-bb3a-dea4f8bc132e"
      },
      "source": [
        "df_final.dtypes"
      ],
      "execution_count": null,
      "outputs": [
        {
          "output_type": "execute_result",
          "data": {
            "text/plain": [
              "client_id              category\n",
              "campaign_id            category\n",
              "canal_id               category\n",
              "click_date       datetime64[ns]\n",
              "purchase_date    datetime64[ns]\n",
              "product_id             category\n",
              "gender                   object\n",
              "price                   float64\n",
              "age                     float64\n",
              "dtype: object"
            ]
          },
          "metadata": {},
          "execution_count": 45
        }
      ]
    },
    {
      "cell_type": "markdown",
      "metadata": {
        "id": "UrGSk3wnDDrr"
      },
      "source": [
        "### 6. la sélection au sein d'un dataframe\n",
        "\n",
        "Nous avons d'ores et déjà vu comment sélectionner une colonne. En utilisant une écriture similaire, sélectionnez deux colonnes de votre choix."
      ]
    },
    {
      "cell_type": "code",
      "metadata": {
        "colab": {
          "base_uri": "https://localhost:8080/",
          "height": 420
        },
        "id": "NXqsJcpoDDrr",
        "outputId": "df0707c2-5692-4fdb-89c6-49a44658b0c2"
      },
      "source": [
        "df_final[  [ 'client_id', 'campaign_id']    ]"
      ],
      "execution_count": null,
      "outputs": [
        {
          "output_type": "execute_result",
          "data": {
            "text/html": [
              "<div>\n",
              "<style scoped>\n",
              "    .dataframe tbody tr th:only-of-type {\n",
              "        vertical-align: middle;\n",
              "    }\n",
              "\n",
              "    .dataframe tbody tr th {\n",
              "        vertical-align: top;\n",
              "    }\n",
              "\n",
              "    .dataframe thead th {\n",
              "        text-align: right;\n",
              "    }\n",
              "</style>\n",
              "<table border=\"1\" class=\"dataframe\">\n",
              "  <thead>\n",
              "    <tr style=\"text-align: right;\">\n",
              "      <th></th>\n",
              "      <th>client_id</th>\n",
              "      <th>campaign_id</th>\n",
              "    </tr>\n",
              "  </thead>\n",
              "  <tbody>\n",
              "    <tr>\n",
              "      <th>0</th>\n",
              "      <td>2392769782</td>\n",
              "      <td>3</td>\n",
              "    </tr>\n",
              "    <tr>\n",
              "      <th>1</th>\n",
              "      <td>2693949047</td>\n",
              "      <td>1</td>\n",
              "    </tr>\n",
              "    <tr>\n",
              "      <th>2</th>\n",
              "      <td>6841408721</td>\n",
              "      <td>2</td>\n",
              "    </tr>\n",
              "    <tr>\n",
              "      <th>3</th>\n",
              "      <td>1457891936</td>\n",
              "      <td>1</td>\n",
              "    </tr>\n",
              "    <tr>\n",
              "      <th>4</th>\n",
              "      <td>5354259272</td>\n",
              "      <td>1</td>\n",
              "    </tr>\n",
              "    <tr>\n",
              "      <th>...</th>\n",
              "      <td>...</td>\n",
              "      <td>...</td>\n",
              "    </tr>\n",
              "    <tr>\n",
              "      <th>29753</th>\n",
              "      <td>2701723551</td>\n",
              "      <td>3</td>\n",
              "    </tr>\n",
              "    <tr>\n",
              "      <th>29754</th>\n",
              "      <td>7271996385</td>\n",
              "      <td>1</td>\n",
              "    </tr>\n",
              "    <tr>\n",
              "      <th>29755</th>\n",
              "      <td>4035966889</td>\n",
              "      <td>1</td>\n",
              "    </tr>\n",
              "    <tr>\n",
              "      <th>29756</th>\n",
              "      <td>7499403392</td>\n",
              "      <td>1</td>\n",
              "    </tr>\n",
              "    <tr>\n",
              "      <th>29757</th>\n",
              "      <td>2017465235</td>\n",
              "      <td>1</td>\n",
              "    </tr>\n",
              "  </tbody>\n",
              "</table>\n",
              "<p>29758 rows × 2 columns</p>\n",
              "</div>"
            ],
            "text/plain": [
              "        client_id campaign_id\n",
              "0      2392769782           3\n",
              "1      2693949047           1\n",
              "2      6841408721           2\n",
              "3      1457891936           1\n",
              "4      5354259272           1\n",
              "...           ...         ...\n",
              "29753  2701723551           3\n",
              "29754  7271996385           1\n",
              "29755  4035966889           1\n",
              "29756  7499403392           1\n",
              "29757  2017465235           1\n",
              "\n",
              "[29758 rows x 2 columns]"
            ]
          },
          "metadata": {},
          "execution_count": 46
        }
      ]
    },
    {
      "cell_type": "markdown",
      "metadata": {
        "id": "Pc_9YGMgDDrr"
      },
      "source": [
        "Il est à présent temps d'utiliser la fonction de sélection qui vous sera le plus utile, la méthode [`loc`](https://pandas.pydata.org/pandas-docs/stable/reference/api/pandas.DataFrame.loc.html). A partir de cette dernière, sélectionnez et déterminez le nombre de clients dont on a l'information, qui ont plus de 65 ans :"
      ]
    },
    {
      "cell_type": "code",
      "metadata": {
        "colab": {
          "base_uri": "https://localhost:8080/",
          "height": 204
        },
        "id": "cGmv3LhJDDrs",
        "outputId": "ab333936-df36-4cd0-eeac-27c9dc2d8a68"
      },
      "source": [
        "df_final.loc[  df_final['age']>65    ,  :]"
      ],
      "execution_count": null,
      "outputs": [
        {
          "output_type": "execute_result",
          "data": {
            "text/html": [
              "<div>\n",
              "<style scoped>\n",
              "    .dataframe tbody tr th:only-of-type {\n",
              "        vertical-align: middle;\n",
              "    }\n",
              "\n",
              "    .dataframe tbody tr th {\n",
              "        vertical-align: top;\n",
              "    }\n",
              "\n",
              "    .dataframe thead th {\n",
              "        text-align: right;\n",
              "    }\n",
              "</style>\n",
              "<table border=\"1\" class=\"dataframe\">\n",
              "  <thead>\n",
              "    <tr style=\"text-align: right;\">\n",
              "      <th></th>\n",
              "      <th>client_id</th>\n",
              "      <th>campaign_id</th>\n",
              "      <th>canal_id</th>\n",
              "      <th>click_date</th>\n",
              "      <th>purchase_date</th>\n",
              "      <th>product_id</th>\n",
              "      <th>gender</th>\n",
              "      <th>price</th>\n",
              "      <th>age</th>\n",
              "    </tr>\n",
              "  </thead>\n",
              "  <tbody>\n",
              "    <tr>\n",
              "      <th>552</th>\n",
              "      <td>8751879875</td>\n",
              "      <td>1</td>\n",
              "      <td>429717</td>\n",
              "      <td>2025-11-01 15:49:13</td>\n",
              "      <td>2025-11-30 20:23:16</td>\n",
              "      <td>1.0</td>\n",
              "      <td>f</td>\n",
              "      <td>354.0</td>\n",
              "      <td>68.0</td>\n",
              "    </tr>\n",
              "    <tr>\n",
              "      <th>3109</th>\n",
              "      <td>5031077513</td>\n",
              "      <td>1</td>\n",
              "      <td>201592</td>\n",
              "      <td>2025-11-04 07:53:45</td>\n",
              "      <td>2025-12-01 19:01:50</td>\n",
              "      <td>8.0</td>\n",
              "      <td>f</td>\n",
              "      <td>165.0</td>\n",
              "      <td>67.0</td>\n",
              "    </tr>\n",
              "    <tr>\n",
              "      <th>7840</th>\n",
              "      <td>3755043429</td>\n",
              "      <td>2</td>\n",
              "      <td>335839</td>\n",
              "      <td>2025-11-09 02:11:04</td>\n",
              "      <td>2025-11-24 16:04:41</td>\n",
              "      <td>1.0</td>\n",
              "      <td>f</td>\n",
              "      <td>354.0</td>\n",
              "      <td>68.0</td>\n",
              "    </tr>\n",
              "    <tr>\n",
              "      <th>11728</th>\n",
              "      <td>7928559147</td>\n",
              "      <td>1</td>\n",
              "      <td>196935</td>\n",
              "      <td>2025-11-12 23:30:03</td>\n",
              "      <td>2025-12-03 21:39:40</td>\n",
              "      <td>1.0</td>\n",
              "      <td>f</td>\n",
              "      <td>354.0</td>\n",
              "      <td>66.0</td>\n",
              "    </tr>\n",
              "    <tr>\n",
              "      <th>12758</th>\n",
              "      <td>3179544440</td>\n",
              "      <td>1</td>\n",
              "      <td>970704</td>\n",
              "      <td>2025-11-14 01:27:15</td>\n",
              "      <td>2025-12-03 00:09:14</td>\n",
              "      <td>1.0</td>\n",
              "      <td>f</td>\n",
              "      <td>354.0</td>\n",
              "      <td>69.0</td>\n",
              "    </tr>\n",
              "  </tbody>\n",
              "</table>\n",
              "</div>"
            ],
            "text/plain": [
              "        client_id campaign_id canal_id  ... gender  price   age\n",
              "552    8751879875           1   429717  ...      f  354.0  68.0\n",
              "3109   5031077513           1   201592  ...      f  165.0  67.0\n",
              "7840   3755043429           2   335839  ...      f  354.0  68.0\n",
              "11728  7928559147           1   196935  ...      f  354.0  66.0\n",
              "12758  3179544440           1   970704  ...      f  354.0  69.0\n",
              "\n",
              "[5 rows x 9 columns]"
            ]
          },
          "metadata": {},
          "execution_count": 50
        }
      ]
    },
    {
      "cell_type": "markdown",
      "metadata": {
        "id": "XQ6u2griDDrs"
      },
      "source": [
        "Sélectionnez uniquement les identifiants de ces clients :"
      ]
    },
    {
      "cell_type": "code",
      "metadata": {
        "colab": {
          "base_uri": "https://localhost:8080/"
        },
        "id": "JBfBBAm1DDrs",
        "outputId": "9657b71c-a740-4152-89f1-c32cf0be2e84"
      },
      "source": [
        "df_final.loc[  df_final['age']>65    ,  'client_id' ]"
      ],
      "execution_count": null,
      "outputs": [
        {
          "output_type": "execute_result",
          "data": {
            "text/plain": [
              "552      8751879875\n",
              "3109     5031077513\n",
              "7840     3755043429\n",
              "11728    7928559147\n",
              "12758    3179544440\n",
              "Name: client_id, dtype: category\n",
              "Categories (29758, int64): [354442, 522647, 668537, 692084, ..., 9998833142, 9998909223, 9999085476,\n",
              "                            9999881734]"
            ]
          },
          "metadata": {},
          "execution_count": 48
        }
      ]
    },
    {
      "cell_type": "markdown",
      "metadata": {
        "id": "ZWlsm1cFDDrs"
      },
      "source": [
        "Sélectionnez à présent les clients de moins de 25 ans ayant acheté le produit 8 :"
      ]
    },
    {
      "cell_type": "code",
      "metadata": {
        "colab": {
          "base_uri": "https://localhost:8080/"
        },
        "id": "t3ZoKdYlDDrs",
        "outputId": "405b3a51-d3a0-43df-82ee-a646d296c9bb"
      },
      "source": [
        "df_final.loc[ ( df_final['age']<25 ) & (df_final['product_id'] ==8  )  ,  'client_id']"
      ],
      "execution_count": null,
      "outputs": [
        {
          "output_type": "execute_result",
          "data": {
            "text/plain": [
              "548      7331215946\n",
              "18629    9353335552\n",
              "Name: client_id, dtype: category\n",
              "Categories (29758, int64): [354442, 522647, 668537, 692084, ..., 9998833142, 9998909223, 9999085476,\n",
              "                            9999881734]"
            ]
          },
          "metadata": {},
          "execution_count": 54
        }
      ]
    },
    {
      "cell_type": "markdown",
      "metadata": {
        "id": "ZJQ9kcFzDDrs"
      },
      "source": [
        "Sur ces clients, sélectionnez uniquement leur identifiant et l'identifant de la campagne qu'ils ont reçue"
      ]
    },
    {
      "cell_type": "code",
      "metadata": {
        "colab": {
          "base_uri": "https://localhost:8080/",
          "height": 111
        },
        "id": "lZEvCq_yDDrs",
        "outputId": "8448cef9-1dac-4d84-cb8f-f3b7df09e508"
      },
      "source": [
        "df_final.loc[ ( df_final['age']<25 ) & (df_final['product_id'] ==8  )  ,  ['client_id', 'campaign_id' ]]"
      ],
      "execution_count": null,
      "outputs": [
        {
          "output_type": "execute_result",
          "data": {
            "text/html": [
              "<div>\n",
              "<style scoped>\n",
              "    .dataframe tbody tr th:only-of-type {\n",
              "        vertical-align: middle;\n",
              "    }\n",
              "\n",
              "    .dataframe tbody tr th {\n",
              "        vertical-align: top;\n",
              "    }\n",
              "\n",
              "    .dataframe thead th {\n",
              "        text-align: right;\n",
              "    }\n",
              "</style>\n",
              "<table border=\"1\" class=\"dataframe\">\n",
              "  <thead>\n",
              "    <tr style=\"text-align: right;\">\n",
              "      <th></th>\n",
              "      <th>client_id</th>\n",
              "      <th>campaign_id</th>\n",
              "    </tr>\n",
              "  </thead>\n",
              "  <tbody>\n",
              "    <tr>\n",
              "      <th>548</th>\n",
              "      <td>7331215946</td>\n",
              "      <td>2</td>\n",
              "    </tr>\n",
              "    <tr>\n",
              "      <th>18629</th>\n",
              "      <td>9353335552</td>\n",
              "      <td>3</td>\n",
              "    </tr>\n",
              "  </tbody>\n",
              "</table>\n",
              "</div>"
            ],
            "text/plain": [
              "        client_id campaign_id\n",
              "548    7331215946           2\n",
              "18629  9353335552           3"
            ]
          },
          "metadata": {},
          "execution_count": 53
        }
      ]
    },
    {
      "cell_type": "markdown",
      "metadata": {
        "id": "1eKdZBcrDDrs"
      },
      "source": [
        "Pour finir, vous créerez un nouveau dataframe, qui contiendra uniquement les 140 lignes qui correspondent à un achat client"
      ]
    },
    {
      "cell_type": "code",
      "metadata": {
        "id": "spzMFYLEDDrt"
      },
      "source": [
        "achat = df_final.loc[  df_final['purchase_date'].notnull()  ,  :]"
      ],
      "execution_count": null,
      "outputs": []
    },
    {
      "cell_type": "markdown",
      "metadata": {
        "id": "m48AzecvDDrt"
      },
      "source": [
        "Au sein de ce nouveau dataframe, sélectionnez les identifiants des clients ayant reçu la campagne selon l'un des canaux d'acquisition suivant : \n",
        "\n",
        "550488, 154492, 721316, 464778, 850899"
      ]
    },
    {
      "cell_type": "code",
      "metadata": {
        "colab": {
          "base_uri": "https://localhost:8080/",
          "height": 204
        },
        "id": "PoYm5jEvDDrt",
        "outputId": "8421b54f-7065-4715-c640-c8eaa2e2862c"
      },
      "source": [
        "canaux= [550488, 154492, 721316, 464778, 850899]\n",
        "achat .loc[achat['canal_id'].isin(canaux), : ]"
      ],
      "execution_count": 57,
      "outputs": [
        {
          "output_type": "execute_result",
          "data": {
            "text/html": [
              "<div>\n",
              "<style scoped>\n",
              "    .dataframe tbody tr th:only-of-type {\n",
              "        vertical-align: middle;\n",
              "    }\n",
              "\n",
              "    .dataframe tbody tr th {\n",
              "        vertical-align: top;\n",
              "    }\n",
              "\n",
              "    .dataframe thead th {\n",
              "        text-align: right;\n",
              "    }\n",
              "</style>\n",
              "<table border=\"1\" class=\"dataframe\">\n",
              "  <thead>\n",
              "    <tr style=\"text-align: right;\">\n",
              "      <th></th>\n",
              "      <th>client_id</th>\n",
              "      <th>campaign_id</th>\n",
              "      <th>canal_id</th>\n",
              "      <th>click_date</th>\n",
              "      <th>purchase_date</th>\n",
              "      <th>product_id</th>\n",
              "      <th>gender</th>\n",
              "      <th>price</th>\n",
              "      <th>age</th>\n",
              "    </tr>\n",
              "  </thead>\n",
              "  <tbody>\n",
              "    <tr>\n",
              "      <th>9409</th>\n",
              "      <td>3670039263</td>\n",
              "      <td>1</td>\n",
              "      <td>550488</td>\n",
              "      <td>2025-11-10 17:06:23</td>\n",
              "      <td>2025-11-29 03:47:52</td>\n",
              "      <td>7.0</td>\n",
              "      <td>f</td>\n",
              "      <td>109.0</td>\n",
              "      <td>38.0</td>\n",
              "    </tr>\n",
              "    <tr>\n",
              "      <th>9770</th>\n",
              "      <td>675653663</td>\n",
              "      <td>1</td>\n",
              "      <td>154492</td>\n",
              "      <td>2025-11-10 23:43:52</td>\n",
              "      <td>2025-11-30 23:08:08</td>\n",
              "      <td>5.0</td>\n",
              "      <td>f</td>\n",
              "      <td>89.0</td>\n",
              "      <td>39.0</td>\n",
              "    </tr>\n",
              "    <tr>\n",
              "      <th>10025</th>\n",
              "      <td>8300306275</td>\n",
              "      <td>2</td>\n",
              "      <td>721316</td>\n",
              "      <td>2025-11-11 06:59:20</td>\n",
              "      <td>2025-11-29 03:07:18</td>\n",
              "      <td>4.0</td>\n",
              "      <td>f</td>\n",
              "      <td>299.0</td>\n",
              "      <td>62.0</td>\n",
              "    </tr>\n",
              "    <tr>\n",
              "      <th>10797</th>\n",
              "      <td>9432221904</td>\n",
              "      <td>2</td>\n",
              "      <td>464778</td>\n",
              "      <td>2025-11-12 00:17:23</td>\n",
              "      <td>2025-12-11 18:41:43</td>\n",
              "      <td>8.0</td>\n",
              "      <td>m</td>\n",
              "      <td>165.0</td>\n",
              "      <td>36.0</td>\n",
              "    </tr>\n",
              "    <tr>\n",
              "      <th>11092</th>\n",
              "      <td>3745071281</td>\n",
              "      <td>2</td>\n",
              "      <td>850899</td>\n",
              "      <td>2025-11-12 08:03:08</td>\n",
              "      <td>2025-11-29 22:42:27</td>\n",
              "      <td>4.0</td>\n",
              "      <td>m</td>\n",
              "      <td>299.0</td>\n",
              "      <td>54.0</td>\n",
              "    </tr>\n",
              "  </tbody>\n",
              "</table>\n",
              "</div>"
            ],
            "text/plain": [
              "        client_id campaign_id canal_id  ... gender  price   age\n",
              "9409   3670039263           1   550488  ...      f  109.0  38.0\n",
              "9770    675653663           1   154492  ...      f   89.0  39.0\n",
              "10025  8300306275           2   721316  ...      f  299.0  62.0\n",
              "10797  9432221904           2   464778  ...      m  165.0  36.0\n",
              "11092  3745071281           2   850899  ...      m  299.0  54.0\n",
              "\n",
              "[5 rows x 9 columns]"
            ]
          },
          "metadata": {},
          "execution_count": 57
        }
      ]
    },
    {
      "cell_type": "markdown",
      "metadata": {
        "id": "gBptlj9dDDrt"
      },
      "source": [
        "## Partie 2 : analyse sur les achats\n",
        "\n",
        "Pour la suite de l'exercice, on se concentrera uniquement sur le dernier dataframe créé contenant les informations d'achat\n",
        "\n",
        "### 1. Création de nouvelles variables\n",
        "\n",
        "Le prix actuellement indiqué correspond au prix hors taxe. Créez une nouvelle variable correspondant au prix TTC de chaque produit vendu, en sachant que :\n",
        "\n",
        "$$Prix  TTC = 1.2 * Prix  HT$$"
      ]
    },
    {
      "cell_type": "code",
      "metadata": {
        "id": "U7uDtPNZDDrt",
        "colab": {
          "base_uri": "https://localhost:8080/"
        },
        "outputId": "d47c0da6-28f3-4db0-ebf0-0c3f510b456d"
      },
      "source": [
        "achat['price_ttc']=achat['price']*1.2"
      ],
      "execution_count": 58,
      "outputs": [
        {
          "output_type": "stream",
          "name": "stderr",
          "text": [
            "/usr/local/lib/python3.7/dist-packages/ipykernel_launcher.py:1: SettingWithCopyWarning: \n",
            "A value is trying to be set on a copy of a slice from a DataFrame.\n",
            "Try using .loc[row_indexer,col_indexer] = value instead\n",
            "\n",
            "See the caveats in the documentation: https://pandas.pydata.org/pandas-docs/stable/user_guide/indexing.html#returning-a-view-versus-a-copy\n",
            "  \"\"\"Entry point for launching an IPython kernel.\n"
          ]
        }
      ]
    },
    {
      "cell_type": "code",
      "metadata": {
        "colab": {
          "base_uri": "https://localhost:8080/",
          "height": 420
        },
        "id": "9URi9H-_w4gY",
        "outputId": "ab14180a-ef8b-48b2-c285-0c0c1c0817ee"
      },
      "source": [
        "achat"
      ],
      "execution_count": 59,
      "outputs": [
        {
          "output_type": "execute_result",
          "data": {
            "text/html": [
              "<div>\n",
              "<style scoped>\n",
              "    .dataframe tbody tr th:only-of-type {\n",
              "        vertical-align: middle;\n",
              "    }\n",
              "\n",
              "    .dataframe tbody tr th {\n",
              "        vertical-align: top;\n",
              "    }\n",
              "\n",
              "    .dataframe thead th {\n",
              "        text-align: right;\n",
              "    }\n",
              "</style>\n",
              "<table border=\"1\" class=\"dataframe\">\n",
              "  <thead>\n",
              "    <tr style=\"text-align: right;\">\n",
              "      <th></th>\n",
              "      <th>client_id</th>\n",
              "      <th>campaign_id</th>\n",
              "      <th>canal_id</th>\n",
              "      <th>click_date</th>\n",
              "      <th>purchase_date</th>\n",
              "      <th>product_id</th>\n",
              "      <th>gender</th>\n",
              "      <th>price</th>\n",
              "      <th>age</th>\n",
              "      <th>price_ttc</th>\n",
              "    </tr>\n",
              "  </thead>\n",
              "  <tbody>\n",
              "    <tr>\n",
              "      <th>11</th>\n",
              "      <td>665955022</td>\n",
              "      <td>2</td>\n",
              "      <td>646537</td>\n",
              "      <td>2025-11-02 01:06:55</td>\n",
              "      <td>2025-11-21 13:10:51</td>\n",
              "      <td>1.0</td>\n",
              "      <td>f</td>\n",
              "      <td>354.0</td>\n",
              "      <td>63.0</td>\n",
              "      <td>424.8</td>\n",
              "    </tr>\n",
              "    <tr>\n",
              "      <th>51</th>\n",
              "      <td>2693232025</td>\n",
              "      <td>2</td>\n",
              "      <td>673707</td>\n",
              "      <td>2025-11-01 02:13:16</td>\n",
              "      <td>2025-11-27 07:27:54</td>\n",
              "      <td>4.0</td>\n",
              "      <td>f</td>\n",
              "      <td>299.0</td>\n",
              "      <td>56.0</td>\n",
              "      <td>358.8</td>\n",
              "    </tr>\n",
              "    <tr>\n",
              "      <th>87</th>\n",
              "      <td>7847011933</td>\n",
              "      <td>2</td>\n",
              "      <td>276236</td>\n",
              "      <td>2025-11-27 04:47:31</td>\n",
              "      <td>2025-12-25 05:01:34</td>\n",
              "      <td>3.0</td>\n",
              "      <td>f</td>\n",
              "      <td>29.0</td>\n",
              "      <td>19.0</td>\n",
              "      <td>34.8</td>\n",
              "    </tr>\n",
              "    <tr>\n",
              "      <th>174</th>\n",
              "      <td>7048447933</td>\n",
              "      <td>3</td>\n",
              "      <td>182313</td>\n",
              "      <td>2025-11-01 06:39:02</td>\n",
              "      <td>2025-11-16 14:33:26</td>\n",
              "      <td>1.0</td>\n",
              "      <td>m</td>\n",
              "      <td>354.0</td>\n",
              "      <td>65.0</td>\n",
              "      <td>424.8</td>\n",
              "    </tr>\n",
              "    <tr>\n",
              "      <th>302</th>\n",
              "      <td>9554597531</td>\n",
              "      <td>3</td>\n",
              "      <td>341237</td>\n",
              "      <td>2025-11-01 10:00:16</td>\n",
              "      <td>2025-12-01 01:15:28</td>\n",
              "      <td>5.0</td>\n",
              "      <td>f</td>\n",
              "      <td>89.0</td>\n",
              "      <td>37.0</td>\n",
              "      <td>106.8</td>\n",
              "    </tr>\n",
              "    <tr>\n",
              "      <th>...</th>\n",
              "      <td>...</td>\n",
              "      <td>...</td>\n",
              "      <td>...</td>\n",
              "      <td>...</td>\n",
              "      <td>...</td>\n",
              "      <td>...</td>\n",
              "      <td>...</td>\n",
              "      <td>...</td>\n",
              "      <td>...</td>\n",
              "      <td>...</td>\n",
              "    </tr>\n",
              "    <tr>\n",
              "      <th>29134</th>\n",
              "      <td>4651306224</td>\n",
              "      <td>3</td>\n",
              "      <td>620146</td>\n",
              "      <td>2025-11-30 21:34:56</td>\n",
              "      <td>2025-12-21 05:04:37</td>\n",
              "      <td>4.0</td>\n",
              "      <td>f</td>\n",
              "      <td>299.0</td>\n",
              "      <td>57.0</td>\n",
              "      <td>358.8</td>\n",
              "    </tr>\n",
              "    <tr>\n",
              "      <th>29250</th>\n",
              "      <td>2877464022</td>\n",
              "      <td>2</td>\n",
              "      <td>349353</td>\n",
              "      <td>2025-11-30 23:04:45</td>\n",
              "      <td>2025-12-22 22:28:46</td>\n",
              "      <td>1.0</td>\n",
              "      <td>f</td>\n",
              "      <td>354.0</td>\n",
              "      <td>63.0</td>\n",
              "      <td>424.8</td>\n",
              "    </tr>\n",
              "    <tr>\n",
              "      <th>29588</th>\n",
              "      <td>6200686769</td>\n",
              "      <td>2</td>\n",
              "      <td>382063</td>\n",
              "      <td>2025-12-01 07:37:59</td>\n",
              "      <td>2025-12-23 23:03:46</td>\n",
              "      <td>3.0</td>\n",
              "      <td>f</td>\n",
              "      <td>29.0</td>\n",
              "      <td>21.0</td>\n",
              "      <td>34.8</td>\n",
              "    </tr>\n",
              "    <tr>\n",
              "      <th>29622</th>\n",
              "      <td>2885904311</td>\n",
              "      <td>3</td>\n",
              "      <td>865109</td>\n",
              "      <td>2025-12-01 07:51:35</td>\n",
              "      <td>2025-12-20 15:37:06</td>\n",
              "      <td>3.0</td>\n",
              "      <td>f</td>\n",
              "      <td>29.0</td>\n",
              "      <td>22.0</td>\n",
              "      <td>34.8</td>\n",
              "    </tr>\n",
              "    <tr>\n",
              "      <th>29717</th>\n",
              "      <td>4493292524</td>\n",
              "      <td>1</td>\n",
              "      <td>609260</td>\n",
              "      <td>2025-12-01 10:37:34</td>\n",
              "      <td>2025-12-16 15:25:46</td>\n",
              "      <td>2.0</td>\n",
              "      <td>f</td>\n",
              "      <td>67.0</td>\n",
              "      <td>28.0</td>\n",
              "      <td>80.4</td>\n",
              "    </tr>\n",
              "  </tbody>\n",
              "</table>\n",
              "<p>140 rows × 10 columns</p>\n",
              "</div>"
            ],
            "text/plain": [
              "        client_id campaign_id canal_id  ...  price   age price_ttc\n",
              "11      665955022           2   646537  ...  354.0  63.0     424.8\n",
              "51     2693232025           2   673707  ...  299.0  56.0     358.8\n",
              "87     7847011933           2   276236  ...   29.0  19.0      34.8\n",
              "174    7048447933           3   182313  ...  354.0  65.0     424.8\n",
              "302    9554597531           3   341237  ...   89.0  37.0     106.8\n",
              "...           ...         ...      ...  ...    ...   ...       ...\n",
              "29134  4651306224           3   620146  ...  299.0  57.0     358.8\n",
              "29250  2877464022           2   349353  ...  354.0  63.0     424.8\n",
              "29588  6200686769           2   382063  ...   29.0  21.0      34.8\n",
              "29622  2885904311           3   865109  ...   29.0  22.0      34.8\n",
              "29717  4493292524           1   609260  ...   67.0  28.0      80.4\n",
              "\n",
              "[140 rows x 10 columns]"
            ]
          },
          "metadata": {},
          "execution_count": 59
        }
      ]
    },
    {
      "cell_type": "markdown",
      "metadata": {
        "id": "TNbStiDKDDrt"
      },
      "source": [
        "Il serait également intéressant d'extraire uniquement le jour de l'achat (au format `date`), à partir de la date d'achat pour éventuellement calculer le chiffre d'affaire total par jour."
      ]
    },
    {
      "cell_type": "code",
      "metadata": {
        "id": "ugeVKTQEDDrt",
        "colab": {
          "base_uri": "https://localhost:8080/"
        },
        "outputId": "ac3ff14c-c566-4177-f441-90d50c9fe685"
      },
      "source": [
        "achat['purchase_day']=achat['purchase_date'].dt.date"
      ],
      "execution_count": 60,
      "outputs": [
        {
          "output_type": "stream",
          "name": "stderr",
          "text": [
            "/usr/local/lib/python3.7/dist-packages/ipykernel_launcher.py:1: SettingWithCopyWarning: \n",
            "A value is trying to be set on a copy of a slice from a DataFrame.\n",
            "Try using .loc[row_indexer,col_indexer] = value instead\n",
            "\n",
            "See the caveats in the documentation: https://pandas.pydata.org/pandas-docs/stable/user_guide/indexing.html#returning-a-view-versus-a-copy\n",
            "  \"\"\"Entry point for launching an IPython kernel.\n"
          ]
        }
      ]
    },
    {
      "cell_type": "code",
      "metadata": {
        "colab": {
          "base_uri": "https://localhost:8080/"
        },
        "id": "ut1Ylf2PyodY",
        "outputId": "1f1efc51-a435-4817-dfdd-5303d2db295f"
      },
      "source": [
        "!pip list -v | grep [Pp]andas"
      ],
      "execution_count": 64,
      "outputs": [
        {
          "output_type": "stream",
          "name": "stdout",
          "text": [
            "pandas                        1.1.5          /usr/local/lib/python3.7/dist-packages pip\n",
            "pandas-datareader             0.9.0          /usr/local/lib/python3.7/dist-packages pip\n",
            "pandas-gbq                    0.13.3         /usr/local/lib/python3.7/dist-packages pip\n",
            "pandas-profiling              1.4.1          /usr/local/lib/python3.7/dist-packages pip\n",
            "sklearn-pandas                1.8.0          /usr/local/lib/python3.7/dist-packages pip\n"
          ]
        }
      ]
    },
    {
      "cell_type": "code",
      "metadata": {
        "colab": {
          "base_uri": "https://localhost:8080/",
          "height": 420
        },
        "id": "axta4tNLDDrt",
        "outputId": "18f9fc88-3663-4ccd-f025-ec3236766616"
      },
      "source": [
        "achat"
      ],
      "execution_count": 61,
      "outputs": [
        {
          "output_type": "execute_result",
          "data": {
            "text/html": [
              "<div>\n",
              "<style scoped>\n",
              "    .dataframe tbody tr th:only-of-type {\n",
              "        vertical-align: middle;\n",
              "    }\n",
              "\n",
              "    .dataframe tbody tr th {\n",
              "        vertical-align: top;\n",
              "    }\n",
              "\n",
              "    .dataframe thead th {\n",
              "        text-align: right;\n",
              "    }\n",
              "</style>\n",
              "<table border=\"1\" class=\"dataframe\">\n",
              "  <thead>\n",
              "    <tr style=\"text-align: right;\">\n",
              "      <th></th>\n",
              "      <th>client_id</th>\n",
              "      <th>campaign_id</th>\n",
              "      <th>canal_id</th>\n",
              "      <th>click_date</th>\n",
              "      <th>purchase_date</th>\n",
              "      <th>product_id</th>\n",
              "      <th>gender</th>\n",
              "      <th>price</th>\n",
              "      <th>age</th>\n",
              "      <th>price_ttc</th>\n",
              "      <th>purchase_day</th>\n",
              "    </tr>\n",
              "  </thead>\n",
              "  <tbody>\n",
              "    <tr>\n",
              "      <th>11</th>\n",
              "      <td>665955022</td>\n",
              "      <td>2</td>\n",
              "      <td>646537</td>\n",
              "      <td>2025-11-02 01:06:55</td>\n",
              "      <td>2025-11-21 13:10:51</td>\n",
              "      <td>1.0</td>\n",
              "      <td>f</td>\n",
              "      <td>354.0</td>\n",
              "      <td>63.0</td>\n",
              "      <td>424.8</td>\n",
              "      <td>2025-11-21</td>\n",
              "    </tr>\n",
              "    <tr>\n",
              "      <th>51</th>\n",
              "      <td>2693232025</td>\n",
              "      <td>2</td>\n",
              "      <td>673707</td>\n",
              "      <td>2025-11-01 02:13:16</td>\n",
              "      <td>2025-11-27 07:27:54</td>\n",
              "      <td>4.0</td>\n",
              "      <td>f</td>\n",
              "      <td>299.0</td>\n",
              "      <td>56.0</td>\n",
              "      <td>358.8</td>\n",
              "      <td>2025-11-27</td>\n",
              "    </tr>\n",
              "    <tr>\n",
              "      <th>87</th>\n",
              "      <td>7847011933</td>\n",
              "      <td>2</td>\n",
              "      <td>276236</td>\n",
              "      <td>2025-11-27 04:47:31</td>\n",
              "      <td>2025-12-25 05:01:34</td>\n",
              "      <td>3.0</td>\n",
              "      <td>f</td>\n",
              "      <td>29.0</td>\n",
              "      <td>19.0</td>\n",
              "      <td>34.8</td>\n",
              "      <td>2025-12-25</td>\n",
              "    </tr>\n",
              "    <tr>\n",
              "      <th>174</th>\n",
              "      <td>7048447933</td>\n",
              "      <td>3</td>\n",
              "      <td>182313</td>\n",
              "      <td>2025-11-01 06:39:02</td>\n",
              "      <td>2025-11-16 14:33:26</td>\n",
              "      <td>1.0</td>\n",
              "      <td>m</td>\n",
              "      <td>354.0</td>\n",
              "      <td>65.0</td>\n",
              "      <td>424.8</td>\n",
              "      <td>2025-11-16</td>\n",
              "    </tr>\n",
              "    <tr>\n",
              "      <th>302</th>\n",
              "      <td>9554597531</td>\n",
              "      <td>3</td>\n",
              "      <td>341237</td>\n",
              "      <td>2025-11-01 10:00:16</td>\n",
              "      <td>2025-12-01 01:15:28</td>\n",
              "      <td>5.0</td>\n",
              "      <td>f</td>\n",
              "      <td>89.0</td>\n",
              "      <td>37.0</td>\n",
              "      <td>106.8</td>\n",
              "      <td>2025-12-01</td>\n",
              "    </tr>\n",
              "    <tr>\n",
              "      <th>...</th>\n",
              "      <td>...</td>\n",
              "      <td>...</td>\n",
              "      <td>...</td>\n",
              "      <td>...</td>\n",
              "      <td>...</td>\n",
              "      <td>...</td>\n",
              "      <td>...</td>\n",
              "      <td>...</td>\n",
              "      <td>...</td>\n",
              "      <td>...</td>\n",
              "      <td>...</td>\n",
              "    </tr>\n",
              "    <tr>\n",
              "      <th>29134</th>\n",
              "      <td>4651306224</td>\n",
              "      <td>3</td>\n",
              "      <td>620146</td>\n",
              "      <td>2025-11-30 21:34:56</td>\n",
              "      <td>2025-12-21 05:04:37</td>\n",
              "      <td>4.0</td>\n",
              "      <td>f</td>\n",
              "      <td>299.0</td>\n",
              "      <td>57.0</td>\n",
              "      <td>358.8</td>\n",
              "      <td>2025-12-21</td>\n",
              "    </tr>\n",
              "    <tr>\n",
              "      <th>29250</th>\n",
              "      <td>2877464022</td>\n",
              "      <td>2</td>\n",
              "      <td>349353</td>\n",
              "      <td>2025-11-30 23:04:45</td>\n",
              "      <td>2025-12-22 22:28:46</td>\n",
              "      <td>1.0</td>\n",
              "      <td>f</td>\n",
              "      <td>354.0</td>\n",
              "      <td>63.0</td>\n",
              "      <td>424.8</td>\n",
              "      <td>2025-12-22</td>\n",
              "    </tr>\n",
              "    <tr>\n",
              "      <th>29588</th>\n",
              "      <td>6200686769</td>\n",
              "      <td>2</td>\n",
              "      <td>382063</td>\n",
              "      <td>2025-12-01 07:37:59</td>\n",
              "      <td>2025-12-23 23:03:46</td>\n",
              "      <td>3.0</td>\n",
              "      <td>f</td>\n",
              "      <td>29.0</td>\n",
              "      <td>21.0</td>\n",
              "      <td>34.8</td>\n",
              "      <td>2025-12-23</td>\n",
              "    </tr>\n",
              "    <tr>\n",
              "      <th>29622</th>\n",
              "      <td>2885904311</td>\n",
              "      <td>3</td>\n",
              "      <td>865109</td>\n",
              "      <td>2025-12-01 07:51:35</td>\n",
              "      <td>2025-12-20 15:37:06</td>\n",
              "      <td>3.0</td>\n",
              "      <td>f</td>\n",
              "      <td>29.0</td>\n",
              "      <td>22.0</td>\n",
              "      <td>34.8</td>\n",
              "      <td>2025-12-20</td>\n",
              "    </tr>\n",
              "    <tr>\n",
              "      <th>29717</th>\n",
              "      <td>4493292524</td>\n",
              "      <td>1</td>\n",
              "      <td>609260</td>\n",
              "      <td>2025-12-01 10:37:34</td>\n",
              "      <td>2025-12-16 15:25:46</td>\n",
              "      <td>2.0</td>\n",
              "      <td>f</td>\n",
              "      <td>67.0</td>\n",
              "      <td>28.0</td>\n",
              "      <td>80.4</td>\n",
              "      <td>2025-12-16</td>\n",
              "    </tr>\n",
              "  </tbody>\n",
              "</table>\n",
              "<p>140 rows × 11 columns</p>\n",
              "</div>"
            ],
            "text/plain": [
              "        client_id campaign_id canal_id  ...   age price_ttc purchase_day\n",
              "11      665955022           2   646537  ...  63.0     424.8   2025-11-21\n",
              "51     2693232025           2   673707  ...  56.0     358.8   2025-11-27\n",
              "87     7847011933           2   276236  ...  19.0      34.8   2025-12-25\n",
              "174    7048447933           3   182313  ...  65.0     424.8   2025-11-16\n",
              "302    9554597531           3   341237  ...  37.0     106.8   2025-12-01\n",
              "...           ...         ...      ...  ...   ...       ...          ...\n",
              "29134  4651306224           3   620146  ...  57.0     358.8   2025-12-21\n",
              "29250  2877464022           2   349353  ...  63.0     424.8   2025-12-22\n",
              "29588  6200686769           2   382063  ...  21.0      34.8   2025-12-23\n",
              "29622  2885904311           3   865109  ...  22.0      34.8   2025-12-20\n",
              "29717  4493292524           1   609260  ...  28.0      80.4   2025-12-16\n",
              "\n",
              "[140 rows x 11 columns]"
            ]
          },
          "metadata": {},
          "execution_count": 61
        }
      ]
    },
    {
      "cell_type": "markdown",
      "metadata": {
        "id": "mbSne2MODDru"
      },
      "source": [
        "### 2. agrégation\n",
        "\n",
        "A partir de cette variable nouvellement créée et de la fonction [`groupby`](https://pandas.pydata.org/pandas-docs/stable/reference/api/pandas.DataFrame.groupby.html), créez un nouveau dataframe comportant le chiffre d'affaire TTC total quotidien."
      ]
    },
    {
      "cell_type": "code",
      "metadata": {
        "colab": {
          "base_uri": "https://localhost:8080/",
          "height": 1000
        },
        "id": "U-UNh6sODDru",
        "outputId": "78f9928d-0449-45f4-874d-bf5f9e8ee562"
      },
      "source": [
        "achat.groupby('purchase_day').sum()[['price_ttc']]"
      ],
      "execution_count": 65,
      "outputs": [
        {
          "output_type": "execute_result",
          "data": {
            "text/html": [
              "<div>\n",
              "<style scoped>\n",
              "    .dataframe tbody tr th:only-of-type {\n",
              "        vertical-align: middle;\n",
              "    }\n",
              "\n",
              "    .dataframe tbody tr th {\n",
              "        vertical-align: top;\n",
              "    }\n",
              "\n",
              "    .dataframe thead th {\n",
              "        text-align: right;\n",
              "    }\n",
              "</style>\n",
              "<table border=\"1\" class=\"dataframe\">\n",
              "  <thead>\n",
              "    <tr style=\"text-align: right;\">\n",
              "      <th></th>\n",
              "      <th>price_ttc</th>\n",
              "    </tr>\n",
              "    <tr>\n",
              "      <th>purchase_day</th>\n",
              "      <th></th>\n",
              "    </tr>\n",
              "  </thead>\n",
              "  <tbody>\n",
              "    <tr>\n",
              "      <th>2025-11-16</th>\n",
              "      <td>424.8</td>\n",
              "    </tr>\n",
              "    <tr>\n",
              "      <th>2025-11-17</th>\n",
              "      <td>232.8</td>\n",
              "    </tr>\n",
              "    <tr>\n",
              "      <th>2025-11-18</th>\n",
              "      <td>34.8</td>\n",
              "    </tr>\n",
              "    <tr>\n",
              "      <th>2025-11-19</th>\n",
              "      <td>40.8</td>\n",
              "    </tr>\n",
              "    <tr>\n",
              "      <th>2025-11-20</th>\n",
              "      <td>106.8</td>\n",
              "    </tr>\n",
              "    <tr>\n",
              "      <th>2025-11-21</th>\n",
              "      <td>424.8</td>\n",
              "    </tr>\n",
              "    <tr>\n",
              "      <th>2025-11-22</th>\n",
              "      <td>106.8</td>\n",
              "    </tr>\n",
              "    <tr>\n",
              "      <th>2025-11-23</th>\n",
              "      <td>393.6</td>\n",
              "    </tr>\n",
              "    <tr>\n",
              "      <th>2025-11-24</th>\n",
              "      <td>729.6</td>\n",
              "    </tr>\n",
              "    <tr>\n",
              "      <th>2025-11-25</th>\n",
              "      <td>848.4</td>\n",
              "    </tr>\n",
              "    <tr>\n",
              "      <th>2025-11-26</th>\n",
              "      <td>318.0</td>\n",
              "    </tr>\n",
              "    <tr>\n",
              "      <th>2025-11-27</th>\n",
              "      <td>519.6</td>\n",
              "    </tr>\n",
              "    <tr>\n",
              "      <th>2025-11-28</th>\n",
              "      <td>945.6</td>\n",
              "    </tr>\n",
              "    <tr>\n",
              "      <th>2025-11-29</th>\n",
              "      <td>1512.0</td>\n",
              "    </tr>\n",
              "    <tr>\n",
              "      <th>2025-11-30</th>\n",
              "      <td>1219.2</td>\n",
              "    </tr>\n",
              "    <tr>\n",
              "      <th>2025-12-01</th>\n",
              "      <td>1057.2</td>\n",
              "    </tr>\n",
              "    <tr>\n",
              "      <th>2025-12-02</th>\n",
              "      <td>585.6</td>\n",
              "    </tr>\n",
              "    <tr>\n",
              "      <th>2025-12-03</th>\n",
              "      <td>970.8</td>\n",
              "    </tr>\n",
              "    <tr>\n",
              "      <th>2025-12-04</th>\n",
              "      <td>1096.8</td>\n",
              "    </tr>\n",
              "    <tr>\n",
              "      <th>2025-12-05</th>\n",
              "      <td>733.2</td>\n",
              "    </tr>\n",
              "    <tr>\n",
              "      <th>2025-12-06</th>\n",
              "      <td>632.4</td>\n",
              "    </tr>\n",
              "    <tr>\n",
              "      <th>2025-12-07</th>\n",
              "      <td>540.0</td>\n",
              "    </tr>\n",
              "    <tr>\n",
              "      <th>2025-12-08</th>\n",
              "      <td>1344.0</td>\n",
              "    </tr>\n",
              "    <tr>\n",
              "      <th>2025-12-09</th>\n",
              "      <td>931.2</td>\n",
              "    </tr>\n",
              "    <tr>\n",
              "      <th>2025-12-10</th>\n",
              "      <td>596.4</td>\n",
              "    </tr>\n",
              "    <tr>\n",
              "      <th>2025-12-11</th>\n",
              "      <td>459.6</td>\n",
              "    </tr>\n",
              "    <tr>\n",
              "      <th>2025-12-12</th>\n",
              "      <td>474.0</td>\n",
              "    </tr>\n",
              "    <tr>\n",
              "      <th>2025-12-13</th>\n",
              "      <td>318.0</td>\n",
              "    </tr>\n",
              "    <tr>\n",
              "      <th>2025-12-14</th>\n",
              "      <td>1194.0</td>\n",
              "    </tr>\n",
              "    <tr>\n",
              "      <th>2025-12-15</th>\n",
              "      <td>1146.0</td>\n",
              "    </tr>\n",
              "    <tr>\n",
              "      <th>2025-12-16</th>\n",
              "      <td>1323.6</td>\n",
              "    </tr>\n",
              "    <tr>\n",
              "      <th>2025-12-17</th>\n",
              "      <td>420.0</td>\n",
              "    </tr>\n",
              "    <tr>\n",
              "      <th>2025-12-18</th>\n",
              "      <td>358.8</td>\n",
              "    </tr>\n",
              "    <tr>\n",
              "      <th>2025-12-19</th>\n",
              "      <td>115.2</td>\n",
              "    </tr>\n",
              "    <tr>\n",
              "      <th>2025-12-20</th>\n",
              "      <td>232.8</td>\n",
              "    </tr>\n",
              "    <tr>\n",
              "      <th>2025-12-21</th>\n",
              "      <td>514.8</td>\n",
              "    </tr>\n",
              "    <tr>\n",
              "      <th>2025-12-22</th>\n",
              "      <td>997.2</td>\n",
              "    </tr>\n",
              "    <tr>\n",
              "      <th>2025-12-23</th>\n",
              "      <td>256.8</td>\n",
              "    </tr>\n",
              "    <tr>\n",
              "      <th>2025-12-25</th>\n",
              "      <td>339.6</td>\n",
              "    </tr>\n",
              "  </tbody>\n",
              "</table>\n",
              "</div>"
            ],
            "text/plain": [
              "              price_ttc\n",
              "purchase_day           \n",
              "2025-11-16        424.8\n",
              "2025-11-17        232.8\n",
              "2025-11-18         34.8\n",
              "2025-11-19         40.8\n",
              "2025-11-20        106.8\n",
              "2025-11-21        424.8\n",
              "2025-11-22        106.8\n",
              "2025-11-23        393.6\n",
              "2025-11-24        729.6\n",
              "2025-11-25        848.4\n",
              "2025-11-26        318.0\n",
              "2025-11-27        519.6\n",
              "2025-11-28        945.6\n",
              "2025-11-29       1512.0\n",
              "2025-11-30       1219.2\n",
              "2025-12-01       1057.2\n",
              "2025-12-02        585.6\n",
              "2025-12-03        970.8\n",
              "2025-12-04       1096.8\n",
              "2025-12-05        733.2\n",
              "2025-12-06        632.4\n",
              "2025-12-07        540.0\n",
              "2025-12-08       1344.0\n",
              "2025-12-09        931.2\n",
              "2025-12-10        596.4\n",
              "2025-12-11        459.6\n",
              "2025-12-12        474.0\n",
              "2025-12-13        318.0\n",
              "2025-12-14       1194.0\n",
              "2025-12-15       1146.0\n",
              "2025-12-16       1323.6\n",
              "2025-12-17        420.0\n",
              "2025-12-18        358.8\n",
              "2025-12-19        115.2\n",
              "2025-12-20        232.8\n",
              "2025-12-21        514.8\n",
              "2025-12-22        997.2\n",
              "2025-12-23        256.8\n",
              "2025-12-25        339.6"
            ]
          },
          "metadata": {},
          "execution_count": 65
        }
      ]
    },
    {
      "cell_type": "markdown",
      "metadata": {
        "id": "NxbK7moXSu7N"
      },
      "source": [
        "# Fin !"
      ]
    }
  ]
}